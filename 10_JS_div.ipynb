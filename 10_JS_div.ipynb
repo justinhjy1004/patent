{
 "cells": [
  {
   "cell_type": "markdown",
   "metadata": {},
   "source": [
    "# Janson-Shannon Divergence \n",
    "Calculating **Janson-Shannon Divergence** (the metric/distance equivalent for Kullback-Leibler Divergence) based on the discrete probability distribution of NBER subcategories. This measure captures the distance between two probability distributions and the main reasoning behind this is as follows <br>\n",
    "1. Prior work on patents shows limited \"cross-category\" citation of patents\n",
    "1. Significant patents are associated with strong generality\n",
    "1. \"Cross-category\" citations can be associated with generality of patents\n",
    "<br>\n",
    "\n",
    "From this line of reasoning, framing each citation hop as a discrete probability distribution and measuring the divergence allows us to **capture how different the previous citing generation and the next**."
   ]
  },
  {
   "cell_type": "code",
   "execution_count": 1,
   "metadata": {},
   "outputs": [],
   "source": [
    "import neo4j \n",
    "import pandas as pd\n",
    "from credentials import uri, user, pwd\n",
    "from patent_neo4j.connection import Neo4jConnection\n",
    "from patent_neo4j.analysis import assign_missing_nber, nber_distribution, js_divergence\n",
    "from random import randint"
   ]
  },
  {
   "cell_type": "code",
   "execution_count": 2,
   "metadata": {},
   "outputs": [
    {
     "data": {
      "text/html": [
       "<div>\n",
       "<style scoped>\n",
       "    .dataframe tbody tr th:only-of-type {\n",
       "        vertical-align: middle;\n",
       "    }\n",
       "\n",
       "    .dataframe tbody tr th {\n",
       "        vertical-align: top;\n",
       "    }\n",
       "\n",
       "    .dataframe thead th {\n",
       "        text-align: right;\n",
       "    }\n",
       "</style>\n",
       "<table border=\"1\" class=\"dataframe\">\n",
       "  <thead>\n",
       "    <tr style=\"text-align: right;\">\n",
       "      <th></th>\n",
       "      <th>id</th>\n",
       "      <th>name</th>\n",
       "    </tr>\n",
       "  </thead>\n",
       "  <tbody>\n",
       "    <tr>\n",
       "      <th>0</th>\n",
       "      <td>4136359</td>\n",
       "      <td>AppleMicrocomputer</td>\n",
       "    </tr>\n",
       "    <tr>\n",
       "      <th>1</th>\n",
       "      <td>4237224</td>\n",
       "      <td>MolecularChimeras</td>\n",
       "    </tr>\n",
       "    <tr>\n",
       "      <th>2</th>\n",
       "      <td>4371752</td>\n",
       "      <td>DigitalVoiceMailSystems</td>\n",
       "    </tr>\n",
       "    <tr>\n",
       "      <th>3</th>\n",
       "      <td>4399216</td>\n",
       "      <td>Co-transformationGeneCoding</td>\n",
       "    </tr>\n",
       "    <tr>\n",
       "      <th>4</th>\n",
       "      <td>4683195</td>\n",
       "      <td>PolymeraseChainReaction</td>\n",
       "    </tr>\n",
       "    <tr>\n",
       "      <th>5</th>\n",
       "      <td>5061620</td>\n",
       "      <td>StemCell</td>\n",
       "    </tr>\n",
       "    <tr>\n",
       "      <th>6</th>\n",
       "      <td>5108388</td>\n",
       "      <td>LaserSurgeryMethod</td>\n",
       "    </tr>\n",
       "    <tr>\n",
       "      <th>7</th>\n",
       "      <td>6285999</td>\n",
       "      <td>PageRank</td>\n",
       "    </tr>\n",
       "  </tbody>\n",
       "</table>\n",
       "</div>"
      ],
      "text/plain": [
       "        id                         name\n",
       "0  4136359           AppleMicrocomputer\n",
       "1  4237224            MolecularChimeras\n",
       "2  4371752      DigitalVoiceMailSystems\n",
       "3  4399216  Co-transformationGeneCoding\n",
       "4  4683195      PolymeraseChainReaction\n",
       "5  5061620                     StemCell\n",
       "6  5108388           LaserSurgeryMethod\n",
       "7  6285999                     PageRank"
      ]
     },
     "execution_count": 2,
     "metadata": {},
     "output_type": "execute_result"
    }
   ],
   "source": [
    "df = pd.read_csv(\"Data/important_patents.csv\")\n",
    "df.head(8)"
   ]
  },
  {
   "cell_type": "code",
   "execution_count": 13,
   "metadata": {},
   "outputs": [],
   "source": [
    "conn = Neo4jConnection(uri, user, pwd)\n",
    "nber = conn.query_nber_category(root=df.loc[2,:].id)"
   ]
  },
  {
   "cell_type": "code",
   "execution_count": 14,
   "metadata": {},
   "outputs": [
    {
     "data": {
      "text/plain": [
       "(477790, 4)"
      ]
     },
     "execution_count": 14,
     "metadata": {},
     "output_type": "execute_result"
    }
   ],
   "source": [
    "nber.shape"
   ]
  },
  {
   "cell_type": "code",
   "execution_count": 15,
   "metadata": {},
   "outputs": [
    {
     "data": {
      "text/plain": [
       "92491"
      ]
     },
     "execution_count": 15,
     "metadata": {},
     "output_type": "execute_result"
    }
   ],
   "source": [
    "len(nber['id'].unique())"
   ]
  },
  {
   "cell_type": "code",
   "execution_count": 16,
   "metadata": {},
   "outputs": [
    {
     "data": {
      "text/html": [
       "<div>\n",
       "<style scoped>\n",
       "    .dataframe tbody tr th:only-of-type {\n",
       "        vertical-align: middle;\n",
       "    }\n",
       "\n",
       "    .dataframe tbody tr th {\n",
       "        vertical-align: top;\n",
       "    }\n",
       "\n",
       "    .dataframe thead th {\n",
       "        text-align: right;\n",
       "    }\n",
       "</style>\n",
       "<table border=\"1\" class=\"dataframe\">\n",
       "  <thead>\n",
       "    <tr style=\"text-align: right;\">\n",
       "      <th></th>\n",
       "      <th>id</th>\n",
       "      <th>nber</th>\n",
       "      <th>lineage</th>\n",
       "      <th>nber_lineage</th>\n",
       "    </tr>\n",
       "  </thead>\n",
       "  <tbody>\n",
       "    <tr>\n",
       "      <th>0</th>\n",
       "      <td>4468751</td>\n",
       "      <td>24</td>\n",
       "      <td>[4371752]</td>\n",
       "      <td>[21]</td>\n",
       "    </tr>\n",
       "    <tr>\n",
       "      <th>1</th>\n",
       "      <td>10296580</td>\n",
       "      <td>None</td>\n",
       "      <td>[4468751, 4371752]</td>\n",
       "      <td>[24, 21]</td>\n",
       "    </tr>\n",
       "    <tr>\n",
       "      <th>2</th>\n",
       "      <td>7376581</td>\n",
       "      <td>25</td>\n",
       "      <td>[4468751, 4371752]</td>\n",
       "      <td>[24, 21]</td>\n",
       "    </tr>\n",
       "    <tr>\n",
       "      <th>3</th>\n",
       "      <td>8145532</td>\n",
       "      <td>25</td>\n",
       "      <td>[7376581, 4468751, 4371752]</td>\n",
       "      <td>[25, 24, 21]</td>\n",
       "    </tr>\n",
       "    <tr>\n",
       "      <th>4</th>\n",
       "      <td>7792756</td>\n",
       "      <td>25</td>\n",
       "      <td>[7376581, 4468751, 4371752]</td>\n",
       "      <td>[25, 24, 21]</td>\n",
       "    </tr>\n",
       "  </tbody>\n",
       "</table>\n",
       "</div>"
      ],
      "text/plain": [
       "         id  nber                      lineage  nber_lineage\n",
       "0   4468751    24                    [4371752]          [21]\n",
       "1  10296580  None           [4468751, 4371752]      [24, 21]\n",
       "2   7376581    25           [4468751, 4371752]      [24, 21]\n",
       "3   8145532    25  [7376581, 4468751, 4371752]  [25, 24, 21]\n",
       "4   7792756    25  [7376581, 4468751, 4371752]  [25, 24, 21]"
      ]
     },
     "execution_count": 16,
     "metadata": {},
     "output_type": "execute_result"
    }
   ],
   "source": [
    "nber.head()"
   ]
  },
  {
   "cell_type": "markdown",
   "metadata": {},
   "source": [
    "## Assigning Missing NBER using \"Majority Vote\"\n",
    "Overview of Algorithm:\n",
    "1. For missing each NBER assignment patent, get all direct ancestors' NBER\n",
    "1. Based on the counts of NBER categories of direct ancestors, the majority (most votes) category is assigned\n",
    "1. Repeat until reaches root (which is expected to be non-None)"
   ]
  },
  {
   "cell_type": "code",
   "execution_count": 17,
   "metadata": {},
   "outputs": [],
   "source": [
    "nber = assign_missing_nber(nber)"
   ]
  },
  {
   "cell_type": "code",
   "execution_count": 18,
   "metadata": {},
   "outputs": [
    {
     "data": {
      "text/html": [
       "<div>\n",
       "<style scoped>\n",
       "    .dataframe tbody tr th:only-of-type {\n",
       "        vertical-align: middle;\n",
       "    }\n",
       "\n",
       "    .dataframe tbody tr th {\n",
       "        vertical-align: top;\n",
       "    }\n",
       "\n",
       "    .dataframe thead th {\n",
       "        text-align: right;\n",
       "    }\n",
       "</style>\n",
       "<table border=\"1\" class=\"dataframe\">\n",
       "  <thead>\n",
       "    <tr style=\"text-align: right;\">\n",
       "      <th></th>\n",
       "      <th>id</th>\n",
       "      <th>nber</th>\n",
       "      <th>hops</th>\n",
       "    </tr>\n",
       "  </thead>\n",
       "  <tbody>\n",
       "    <tr>\n",
       "      <th>0</th>\n",
       "      <td>4468751</td>\n",
       "      <td>24</td>\n",
       "      <td>1</td>\n",
       "    </tr>\n",
       "    <tr>\n",
       "      <th>2</th>\n",
       "      <td>7376581</td>\n",
       "      <td>25</td>\n",
       "      <td>2</td>\n",
       "    </tr>\n",
       "    <tr>\n",
       "      <th>3</th>\n",
       "      <td>8145532</td>\n",
       "      <td>25</td>\n",
       "      <td>3</td>\n",
       "    </tr>\n",
       "    <tr>\n",
       "      <th>4</th>\n",
       "      <td>7792756</td>\n",
       "      <td>25</td>\n",
       "      <td>3</td>\n",
       "    </tr>\n",
       "    <tr>\n",
       "      <th>5</th>\n",
       "      <td>8600196</td>\n",
       "      <td>22</td>\n",
       "      <td>3</td>\n",
       "    </tr>\n",
       "  </tbody>\n",
       "</table>\n",
       "</div>"
      ],
      "text/plain": [
       "        id nber  hops\n",
       "0  4468751   24     1\n",
       "2  7376581   25     2\n",
       "3  8145532   25     3\n",
       "4  7792756   25     3\n",
       "5  8600196   22     3"
      ]
     },
     "execution_count": 18,
     "metadata": {},
     "output_type": "execute_result"
    }
   ],
   "source": [
    "nber.head()"
   ]
  },
  {
   "cell_type": "markdown",
   "metadata": {},
   "source": [
    "## Calculating Distribution\n",
    "Grouped by hops and NBER categories, the probability for each hops' NBER categories are calculated, both for **main categories** and **subcategores**"
   ]
  },
  {
   "cell_type": "code",
   "execution_count": 19,
   "metadata": {},
   "outputs": [],
   "source": [
    "distribution = nber_distribution(nber)"
   ]
  },
  {
   "cell_type": "markdown",
   "metadata": {},
   "source": [
    "## Janson-Shannon Divergence\n",
    "Overview of Algorithm:\n",
    "1. For both main and subcategories\n",
    "1. Generate hop combination\n",
    "1. Calculate JS Divergence"
   ]
  },
  {
   "cell_type": "code",
   "execution_count": 20,
   "metadata": {},
   "outputs": [],
   "source": [
    "js = js_divergence(distribution)"
   ]
  },
  {
   "cell_type": "code",
   "execution_count": 21,
   "metadata": {},
   "outputs": [
    {
     "name": "stdout",
     "output_type": "stream",
     "text": [
      "{(0, 1): 0.13443992926405784, (0, 2): 0.19199303154145753, (1, 2): 0.07447678739841684}\n",
      "{(0, 1): 0.19520468636739802, (0, 2): 0.30111996185764184, (1, 2): 0.14092726782084597}\n"
     ]
    }
   ],
   "source": [
    "for i in js:\n",
    "    print(i)"
   ]
  }
 ],
 "metadata": {
  "kernelspec": {
   "display_name": "Python 3",
   "language": "python",
   "name": "python3"
  },
  "language_info": {
   "codemirror_mode": {
    "name": "ipython",
    "version": 3
   },
   "file_extension": ".py",
   "mimetype": "text/x-python",
   "name": "python",
   "nbconvert_exporter": "python",
   "pygments_lexer": "ipython3",
   "version": "3.8.5"
  }
 },
 "nbformat": 4,
 "nbformat_minor": 4
}
