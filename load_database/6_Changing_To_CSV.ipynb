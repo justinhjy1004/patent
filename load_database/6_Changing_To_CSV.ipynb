{
 "cells": [
  {
   "cell_type": "code",
   "execution_count": 2,
   "metadata": {},
   "outputs": [],
   "source": [
    "import json\n",
    "import csv"
   ]
  },
  {
   "cell_type": "code",
   "execution_count": 2,
   "metadata": {},
   "outputs": [],
   "source": [
    "file = '/media/jho/Gamma/json_patent/patents'\n",
    "json_ext = \".json\"\n",
    "csv_ext = \".csv\"\n",
    "with open(file + json_ext, 'r') as handle:\n",
    "    parsed = json.load(handle)"
   ]
  },
  {
   "cell_type": "code",
   "execution_count": 3,
   "metadata": {},
   "outputs": [],
   "source": [
    "data_file = open(file + csv_ext, 'w')\n",
    "csv_writer = csv.writer(data_file)\n",
    "header = parsed[0].keys()\n",
    "csv_writer.writerow(header)\n",
    "\n",
    "for i in range(0,len(parsed)):\n",
    "    csv_writer.writerow(parsed[i].values())\n",
    "    \n",
    "data_file.close()"
   ]
  },
  {
   "cell_type": "code",
   "execution_count": 3,
   "metadata": {},
   "outputs": [],
   "source": [
    "file = '/media/jho/Gamma/json_patent/inventors'\n",
    "json_ext = \".json\"\n",
    "csv_ext = \".csv\"\n",
    "with open(file + json_ext, 'r') as handle:\n",
    "    parsed = json.load(handle)"
   ]
  },
  {
   "cell_type": "code",
   "execution_count": 4,
   "metadata": {},
   "outputs": [],
   "source": [
    "data_file = open(file + csv_ext, 'w')\n",
    "csv_writer = csv.writer(data_file)\n",
    "header = parsed[0].keys()\n",
    "csv_writer.writerow(header)\n",
    "\n",
    "for i in range(0,len(parsed)):\n",
    "    csv_writer.writerow(parsed[i].values())\n",
    "    \n",
    "data_file.close()"
   ]
  },
  {
   "cell_type": "code",
   "execution_count": 5,
   "metadata": {},
   "outputs": [],
   "source": [
    "file = '/media/jho/Gamma/json_patent/location'\n",
    "json_ext = \".json\"\n",
    "csv_ext = \".csv\"\n",
    "with open(file + json_ext, 'r') as handle:\n",
    "    parsed = json.load(handle)"
   ]
  },
  {
   "cell_type": "code",
   "execution_count": 6,
   "metadata": {},
   "outputs": [],
   "source": [
    "data_file = open(file + csv_ext, 'w')\n",
    "csv_writer = csv.writer(data_file)\n",
    "header = parsed[0].keys()\n",
    "csv_writer.writerow(header)\n",
    "\n",
    "for i in range(0,len(parsed)):\n",
    "    csv_writer.writerow(parsed[i].values())\n",
    "    \n",
    "data_file.close()"
   ]
  },
  {
   "cell_type": "code",
   "execution_count": 7,
   "metadata": {},
   "outputs": [],
   "source": [
    "file = '/media/jho/Gamma/json_patent/nber'\n",
    "json_ext = \".json\"\n",
    "csv_ext = \".csv\"\n",
    "with open(file + json_ext, 'r') as handle:\n",
    "    parsed = json.load(handle)"
   ]
  },
  {
   "cell_type": "code",
   "execution_count": 8,
   "metadata": {},
   "outputs": [],
   "source": [
    "data_file = open(file + csv_ext, 'w')\n",
    "csv_writer = csv.writer(data_file)\n",
    "header = parsed[0].keys()\n",
    "csv_writer.writerow(header)\n",
    "\n",
    "for i in range(0,len(parsed)):\n",
    "    csv_writer.writerow(parsed[i].values())\n",
    "    \n",
    "data_file.close()"
   ]
  },
  {
   "cell_type": "code",
   "execution_count": 9,
   "metadata": {},
   "outputs": [],
   "source": [
    "file = '/media/jho/Gamma/json_patent/patent_assignee'\n",
    "json_ext = \".json\"\n",
    "csv_ext = \".csv\"\n",
    "with open(file + json_ext, 'r') as handle:\n",
    "    parsed = json.load(handle)"
   ]
  },
  {
   "cell_type": "code",
   "execution_count": 10,
   "metadata": {},
   "outputs": [],
   "source": [
    "data_file = open(file + csv_ext, 'w')\n",
    "csv_writer = csv.writer(data_file)\n",
    "header = parsed[0].keys()\n",
    "csv_writer.writerow(header)\n",
    "\n",
    "for i in range(0,len(parsed)):\n",
    "    csv_writer.writerow(parsed[i].values())\n",
    "    \n",
    "data_file.close()"
   ]
  },
  {
   "cell_type": "code",
   "execution_count": 12,
   "metadata": {},
   "outputs": [],
   "source": [
    "import pandas as pd"
   ]
  },
  {
   "cell_type": "code",
   "execution_count": 13,
   "metadata": {},
   "outputs": [],
   "source": [
    "df = pd.read_csv(\"/home/jho/Downloads/assignee.tsv\", sep=\"\\t\")"
   ]
  },
  {
   "cell_type": "code",
   "execution_count": 14,
   "metadata": {},
   "outputs": [],
   "source": [
    "df.to_csv(\"/home/jho/Downloads/assignee.csv\")"
   ]
  }
 ],
 "metadata": {
  "kernelspec": {
   "display_name": "Python 3",
   "language": "python",
   "name": "python3"
  },
  "language_info": {
   "codemirror_mode": {
    "name": "ipython",
    "version": 3
   },
   "file_extension": ".py",
   "mimetype": "text/x-python",
   "name": "python",
   "nbconvert_exporter": "python",
   "pygments_lexer": "ipython3",
   "version": "3.8.5"
  }
 },
 "nbformat": 4,
 "nbformat_minor": 4
}
