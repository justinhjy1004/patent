{
 "cells": [
  {
   "cell_type": "code",
   "execution_count": 1,
   "metadata": {},
   "outputs": [],
   "source": [
    "import json"
   ]
  },
  {
   "cell_type": "code",
   "execution_count": 2,
   "metadata": {},
   "outputs": [],
   "source": [
    "# Loading data based on list of lists\n",
    "data = []\n",
    "for line in open(\"./Data/test.json\", \"r\"):\n",
    "    data.append(json.loads(line))"
   ]
  },
  {
   "cell_type": "markdown",
   "metadata": {},
   "source": [
    "### Changes the Original File into Actual JSON file with Attributes\n",
    "This is obtained from the most_sim.zip file posted which provides the top 100 most similar documents of the corpus. <br> The patents are stored in a list of dictionaries."
   ]
  },
  {
   "cell_type": "code",
   "execution_count": 4,
   "metadata": {},
   "outputs": [],
   "source": [
    "patents = []\n",
    "\n",
    "for d in data:\n",
    "    top_100 = []\n",
    "    for sim in d[1]:\n",
    "        top_100.append({'id': sim[0], 'score': sim[1]})\n",
    "\n",
    "    patents.append({'id': d[0], \"similarity\": top_100})    "
   ]
  },
  {
   "cell_type": "code",
   "execution_count": 5,
   "metadata": {},
   "outputs": [],
   "source": [
    "# saving the file \n",
    "file = './Data/test_data.json'\n",
    "with open(file, 'w') as fp:\n",
    "    json.dump(patents, fp)"
   ]
  },
  {
   "cell_type": "markdown",
   "metadata": {},
   "source": [
    "### Additional Attributes\n",
    "This section explores other patent related attributes and they are joined into the files"
   ]
  },
  {
   "cell_type": "code",
   "execution_count": 6,
   "metadata": {},
   "outputs": [],
   "source": [
    "import pandas as pd "
   ]
  },
  {
   "cell_type": "code",
   "execution_count": 7,
   "metadata": {},
   "outputs": [
    {
     "name": "stderr",
     "output_type": "stream",
     "text": [
      "/home/jho/anaconda3/lib/python3.8/site-packages/IPython/core/interactiveshell.py:3146: DtypeWarning: Columns (3,7,8) have mixed types.Specify dtype option on import or set low_memory=False.\n",
      "  has_raised = await self.run_ast_nodes(code_ast.body, cell_name,\n"
     ]
    }
   ],
   "source": [
    "document_info = pd.read_csv(\"./Data/documentid.csv\")"
   ]
  },
  {
   "cell_type": "code",
   "execution_count": 8,
   "metadata": {},
   "outputs": [],
   "source": [
    "patent_id = []\n",
    "\n",
    "for patent in patents:\n",
    "    patent_id.append(patent.get(\"id\"))"
   ]
  },
  {
   "cell_type": "code",
   "execution_count": 9,
   "metadata": {},
   "outputs": [],
   "source": [
    "document_info[\"grant_doc_num\"] = document_info[\"grant_doc_num\"].astype(str)\n",
    "relevant = document_info[document_info['grant_doc_num'].isin(patent_id)]"
   ]
  },
  {
   "cell_type": "code",
   "execution_count": 10,
   "metadata": {},
   "outputs": [],
   "source": [
    "information = []\n",
    "for index, row in relevant.iterrows():\n",
    "    information.append({\"id\": row[\"grant_doc_num\"],\n",
    "                        \"title\": row[\"title\"],\n",
    "                        \"app_date\": row[\"appno_date\"],\n",
    "                        \"pgpub_date\": row[\"pgpub_date\"],\n",
    "                        \"grant_date\": row[\"grant_date\"],\n",
    "                        \"country\": row[\"grant_country\"]})"
   ]
  },
  {
   "cell_type": "code",
   "execution_count": 11,
   "metadata": {},
   "outputs": [],
   "source": [
    "# saving the file \n",
    "file = './Data/test_data2.json'\n",
    "with open(file, 'w') as fp:\n",
    "    json.dump(information, fp)"
   ]
  }
 ],
 "metadata": {
  "kernelspec": {
   "display_name": "Python 3",
   "language": "python",
   "name": "python3"
  },
  "language_info": {
   "codemirror_mode": {
    "name": "ipython",
    "version": 3
   },
   "file_extension": ".py",
   "mimetype": "text/x-python",
   "name": "python",
   "nbconvert_exporter": "python",
   "pygments_lexer": "ipython3",
   "version": "3.8.5"
  }
 },
 "nbformat": 4,
 "nbformat_minor": 4
}
