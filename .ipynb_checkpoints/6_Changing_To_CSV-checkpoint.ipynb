{
 "cells": [
  {
   "cell_type": "code",
   "execution_count": 1,
   "metadata": {},
   "outputs": [],
   "source": [
    "import json\n",
    "import csv"
   ]
  },
  {
   "cell_type": "code",
   "execution_count": 2,
   "metadata": {},
   "outputs": [],
   "source": [
    "file = '/media/jho/Gamma/json_patent/patents'\n",
    "json_ext = \".json\"\n",
    "csv_ext = \".csv\"\n",
    "with open(file + json_ext, 'r') as handle:\n",
    "    parsed = json.load(handle)"
   ]
  },
  {
   "cell_type": "code",
   "execution_count": 6,
   "metadata": {},
   "outputs": [],
   "source": [
    "data_file = open(file + csv_ext, 'w')\n",
    "csv_writer = csv.writer(data_file)\n",
    "header = parsed[0].keys()\n",
    "csv_writer.writerow(header)\n",
    "\n",
    "for i in range(1:len(parsed)):\n",
    "    csv_writer.writerow(parsed[i].values())\n",
    "    \n",
    "data_file.close()"
   ]
  }
 ],
 "metadata": {
  "kernelspec": {
   "display_name": "Python 3",
   "language": "python",
   "name": "python3"
  },
  "language_info": {
   "codemirror_mode": {
    "name": "ipython",
    "version": 3
   },
   "file_extension": ".py",
   "mimetype": "text/x-python",
   "name": "python",
   "nbconvert_exporter": "python",
   "pygments_lexer": "ipython3",
   "version": "3.8.5"
  }
 },
 "nbformat": 4,
 "nbformat_minor": 4
}
