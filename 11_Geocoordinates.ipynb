{
 "cells": [
  {
   "cell_type": "markdown",
   "metadata": {},
   "source": [
    "# Getting Geo-Coordinates and Calculate Locational Difference\n",
    "Obtaining the citation trees of a given a patent, the distance (using great circle) is calculated. As for now (08/06/2021), I have no clue what to do with it. But I am interested in characterizing the \"dispersion\" of location, which is analagous to the dispersion of ideas."
   ]
  },
  {
   "cell_type": "code",
   "execution_count": 9,
   "metadata": {},
   "outputs": [],
   "source": [
    "import neo4j \n",
    "import pandas as pd\n",
    "from credentials import uri, user, pwd\n",
    "from patent_neo4j.connection import Neo4jConnection\n",
    "from patent_neo4j.analysis import geo_distance"
   ]
  },
  {
   "cell_type": "code",
   "execution_count": 3,
   "metadata": {},
   "outputs": [
    {
     "data": {
      "text/html": [
       "<div>\n",
       "<style scoped>\n",
       "    .dataframe tbody tr th:only-of-type {\n",
       "        vertical-align: middle;\n",
       "    }\n",
       "\n",
       "    .dataframe tbody tr th {\n",
       "        vertical-align: top;\n",
       "    }\n",
       "\n",
       "    .dataframe thead th {\n",
       "        text-align: right;\n",
       "    }\n",
       "</style>\n",
       "<table border=\"1\" class=\"dataframe\">\n",
       "  <thead>\n",
       "    <tr style=\"text-align: right;\">\n",
       "      <th></th>\n",
       "      <th>id</th>\n",
       "      <th>name</th>\n",
       "    </tr>\n",
       "  </thead>\n",
       "  <tbody>\n",
       "    <tr>\n",
       "      <th>0</th>\n",
       "      <td>4136359</td>\n",
       "      <td>AppleMicrocomputer</td>\n",
       "    </tr>\n",
       "    <tr>\n",
       "      <th>1</th>\n",
       "      <td>4237224</td>\n",
       "      <td>MolecularChimeras</td>\n",
       "    </tr>\n",
       "    <tr>\n",
       "      <th>2</th>\n",
       "      <td>4371752</td>\n",
       "      <td>DigitalVoiceMailSystems</td>\n",
       "    </tr>\n",
       "    <tr>\n",
       "      <th>3</th>\n",
       "      <td>4399216</td>\n",
       "      <td>Co-transformationGeneCoding</td>\n",
       "    </tr>\n",
       "    <tr>\n",
       "      <th>4</th>\n",
       "      <td>4683195</td>\n",
       "      <td>PolymeraseChainReaction</td>\n",
       "    </tr>\n",
       "    <tr>\n",
       "      <th>5</th>\n",
       "      <td>5061620</td>\n",
       "      <td>StemCell</td>\n",
       "    </tr>\n",
       "    <tr>\n",
       "      <th>6</th>\n",
       "      <td>5108388</td>\n",
       "      <td>LaserSurgeryMethod</td>\n",
       "    </tr>\n",
       "    <tr>\n",
       "      <th>7</th>\n",
       "      <td>6285999</td>\n",
       "      <td>PageRank</td>\n",
       "    </tr>\n",
       "  </tbody>\n",
       "</table>\n",
       "</div>"
      ],
      "text/plain": [
       "        id                         name\n",
       "0  4136359           AppleMicrocomputer\n",
       "1  4237224            MolecularChimeras\n",
       "2  4371752      DigitalVoiceMailSystems\n",
       "3  4399216  Co-transformationGeneCoding\n",
       "4  4683195      PolymeraseChainReaction\n",
       "5  5061620                     StemCell\n",
       "6  5108388           LaserSurgeryMethod\n",
       "7  6285999                     PageRank"
      ]
     },
     "execution_count": 3,
     "metadata": {},
     "output_type": "execute_result"
    }
   ],
   "source": [
    "df = pd.read_csv(\"Data/important_patents.csv\")\n",
    "df.head(8)"
   ]
  },
  {
   "cell_type": "code",
   "execution_count": 7,
   "metadata": {},
   "outputs": [
    {
     "name": "stdout",
     "output_type": "stream",
     "text": [
      "  latitude longitude country\n",
      "0  37.4267   -122.17      US\n"
     ]
    }
   ],
   "source": [
    "conn = Neo4jConnection(uri, user, pwd)\n",
    "geo = conn.query_geo_coordinate(root=df.loc[1,:].id)"
   ]
  },
  {
   "cell_type": "markdown",
   "metadata": {},
   "source": [
    "### Potential Issue\n",
    "Dropping NAs is probably **not** random! Most of the missing lat,long are from non-US companies"
   ]
  },
  {
   "cell_type": "code",
   "execution_count": 10,
   "metadata": {},
   "outputs": [],
   "source": [
    "geo = geo_distance(geo)"
   ]
  },
  {
   "cell_type": "code",
   "execution_count": 11,
   "metadata": {},
   "outputs": [
    {
     "data": {
      "text/html": [
       "<div>\n",
       "<style scoped>\n",
       "    .dataframe tbody tr th:only-of-type {\n",
       "        vertical-align: middle;\n",
       "    }\n",
       "\n",
       "    .dataframe tbody tr th {\n",
       "        vertical-align: top;\n",
       "    }\n",
       "\n",
       "    .dataframe thead th {\n",
       "        text-align: right;\n",
       "    }\n",
       "</style>\n",
       "<table border=\"1\" class=\"dataframe\">\n",
       "  <thead>\n",
       "    <tr style=\"text-align: right;\">\n",
       "      <th></th>\n",
       "      <th>id</th>\n",
       "      <th>latitude</th>\n",
       "      <th>longitude</th>\n",
       "      <th>country</th>\n",
       "      <th>lineage</th>\n",
       "      <th>lineage_lat</th>\n",
       "      <th>lineage_long</th>\n",
       "      <th>distance</th>\n",
       "    </tr>\n",
       "  </thead>\n",
       "  <tbody>\n",
       "    <tr>\n",
       "      <th>0</th>\n",
       "      <td>4818694</td>\n",
       "      <td>41.0721</td>\n",
       "      <td>-73.5444</td>\n",
       "      <td>US</td>\n",
       "      <td>4237224</td>\n",
       "      <td>37.4267</td>\n",
       "      <td>-122.1700</td>\n",
       "      <td>2580.215530</td>\n",
       "    </tr>\n",
       "    <tr>\n",
       "      <th>1</th>\n",
       "      <td>9555099</td>\n",
       "      <td>47.6320</td>\n",
       "      <td>-122.3280</td>\n",
       "      <td>US</td>\n",
       "      <td>4818694</td>\n",
       "      <td>41.0721</td>\n",
       "      <td>-73.5444</td>\n",
       "      <td>2411.270467</td>\n",
       "    </tr>\n",
       "    <tr>\n",
       "      <th>2</th>\n",
       "      <td>9624273</td>\n",
       "      <td>42.3784</td>\n",
       "      <td>-71.1316</td>\n",
       "      <td>US</td>\n",
       "      <td>4818694</td>\n",
       "      <td>41.0721</td>\n",
       "      <td>-73.5444</td>\n",
       "      <td>153.700554</td>\n",
       "    </tr>\n",
       "    <tr>\n",
       "      <th>3</th>\n",
       "      <td>10350288</td>\n",
       "      <td>42.3784</td>\n",
       "      <td>-71.1316</td>\n",
       "      <td>US</td>\n",
       "      <td>9624273</td>\n",
       "      <td>42.3784</td>\n",
       "      <td>-71.1316</td>\n",
       "      <td>0.000000</td>\n",
       "    </tr>\n",
       "    <tr>\n",
       "      <th>4</th>\n",
       "      <td>9895435</td>\n",
       "      <td>47.6320</td>\n",
       "      <td>-122.3280</td>\n",
       "      <td>US</td>\n",
       "      <td>4818694</td>\n",
       "      <td>41.0721</td>\n",
       "      <td>-73.5444</td>\n",
       "      <td>2411.270467</td>\n",
       "    </tr>\n",
       "  </tbody>\n",
       "</table>\n",
       "</div>"
      ],
      "text/plain": [
       "         id  latitude  longitude country  lineage  lineage_lat  lineage_long  \\\n",
       "0   4818694   41.0721   -73.5444      US  4237224      37.4267     -122.1700   \n",
       "1   9555099   47.6320  -122.3280      US  4818694      41.0721      -73.5444   \n",
       "2   9624273   42.3784   -71.1316      US  4818694      41.0721      -73.5444   \n",
       "3  10350288   42.3784   -71.1316      US  9624273      42.3784      -71.1316   \n",
       "4   9895435   47.6320  -122.3280      US  4818694      41.0721      -73.5444   \n",
       "\n",
       "      distance  \n",
       "0  2580.215530  \n",
       "1  2411.270467  \n",
       "2   153.700554  \n",
       "3     0.000000  \n",
       "4  2411.270467  "
      ]
     },
     "execution_count": 11,
     "metadata": {},
     "output_type": "execute_result"
    }
   ],
   "source": [
    "geo.head()"
   ]
  }
 ],
 "metadata": {
  "kernelspec": {
   "display_name": "Python 3",
   "language": "python",
   "name": "python3"
  },
  "language_info": {
   "codemirror_mode": {
    "name": "ipython",
    "version": 3
   },
   "file_extension": ".py",
   "mimetype": "text/x-python",
   "name": "python",
   "nbconvert_exporter": "python",
   "pygments_lexer": "ipython3",
   "version": "3.8.5"
  }
 },
 "nbformat": 4,
 "nbformat_minor": 4
}
