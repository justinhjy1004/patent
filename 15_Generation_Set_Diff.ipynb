{
 "cells": [
  {
   "cell_type": "markdown",
   "metadata": {},
   "source": [
    "# Generational Set Difference \n",
    "As we study the relationships between the charactersitics of each generation in a citation tree, a question that arose from that is to identify if the number of inventors that we found across generation is reflective of different inventors or are they the same set of inventors. This is applicable for\n",
    "\n",
    "1. Assignees \n",
    "1. Inventors\n",
    "1. Locations\n",
    "1. NBER Categories\n",
    "\n",
    "The measure of similarity for this sense for the first three is the Jaccard-Coefficient, which is measured by $$J(A,B) = \\frac{|A \\cap B|}{|A \\cup B|}$$\n",
    "where **A** and **B** are sets"
   ]
  },
  {
   "cell_type": "code",
   "execution_count": 1,
   "metadata": {},
   "outputs": [],
   "source": [
    "import neo4j\n",
    "import pandas as pd\n",
    "import random\n",
    "import numpy as np\n",
    "import datetime\n",
    "from credentials import uri, user, pwd\n",
    "from patent_neo4j.connection import Neo4jConnection\n",
    "from patent_neo4j.analysis import fixing_na_nber, nber_distribution, js_divergence\n",
    "import math\n",
    "from patent_neo4j.utils import get_max_generation"
   ]
  },
  {
   "cell_type": "markdown",
   "metadata": {},
   "source": [
    "### Problematic Patent Roots\n",
    "In the dataset, there exists many root patents that do not have any citations. These are automatically dropped based on what I have written. There is one root patent that simply is too big for me to process and hence I am just ignoring it as for now"
   ]
  },
  {
   "cell_type": "code",
   "execution_count": 2,
   "metadata": {},
   "outputs": [],
   "source": [
    "roots = pd.read_csv(\"./Data/generation.csv\")"
   ]
  },
  {
   "cell_type": "code",
   "execution_count": 3,
   "metadata": {},
   "outputs": [],
   "source": [
    "roots = list(set(roots['root']))"
   ]
  },
  {
   "cell_type": "markdown",
   "metadata": {},
   "source": [
    "### Getting test and degenerate tree"
   ]
  },
  {
   "cell_type": "code",
   "execution_count": 4,
   "metadata": {},
   "outputs": [],
   "source": [
    "df = pd.read_csv(\"Data/Mined Data/sample_patents_stats.csv\")"
   ]
  },
  {
   "cell_type": "code",
   "execution_count": 5,
   "metadata": {},
   "outputs": [],
   "source": [
    "root = df.loc[8, 'id']\n",
    "degen_root = df.loc[643, 'id']\n",
    "conn = Neo4jConnection(uri, user, pwd)\n",
    "citation_tree = conn.query_citation_tree(root)\n",
    "degen_tree = conn.query_citation_tree(degen_root)"
   ]
  },
  {
   "cell_type": "code",
   "execution_count": 6,
   "metadata": {},
   "outputs": [
    {
     "data": {
      "text/html": [
       "<div>\n",
       "<style scoped>\n",
       "    .dataframe tbody tr th:only-of-type {\n",
       "        vertical-align: middle;\n",
       "    }\n",
       "\n",
       "    .dataframe tbody tr th {\n",
       "        vertical-align: top;\n",
       "    }\n",
       "\n",
       "    .dataframe thead th {\n",
       "        text-align: right;\n",
       "    }\n",
       "</style>\n",
       "<table border=\"1\" class=\"dataframe\">\n",
       "  <thead>\n",
       "    <tr style=\"text-align: right;\">\n",
       "      <th></th>\n",
       "      <th>id</th>\n",
       "      <th>date</th>\n",
       "      <th>country</th>\n",
       "      <th>claims</th>\n",
       "      <th>kind</th>\n",
       "      <th>assignee</th>\n",
       "      <th>location</th>\n",
       "      <th>inventor</th>\n",
       "      <th>lineage</th>\n",
       "      <th>similarity</th>\n",
       "      <th>nber_lineage</th>\n",
       "    </tr>\n",
       "  </thead>\n",
       "  <tbody>\n",
       "    <tr>\n",
       "      <th>0</th>\n",
       "      <td>5598605</td>\n",
       "      <td>1997-02-04</td>\n",
       "      <td>US</td>\n",
       "      <td>7</td>\n",
       "      <td>A</td>\n",
       "      <td>5bbbc58c-5249-4db5-8188-76480883c35f</td>\n",
       "      <td>06759db6-7920-11eb-bfee-121df0c29c1e</td>\n",
       "      <td>fl:m_ln:tomasiak-1</td>\n",
       "      <td>[5340206]</td>\n",
       "      <td>[0.26260286569595337]</td>\n",
       "      <td>[55]</td>\n",
       "    </tr>\n",
       "    <tr>\n",
       "      <th>1</th>\n",
       "      <td>9572465</td>\n",
       "      <td>2017-02-21</td>\n",
       "      <td>US</td>\n",
       "      <td>19</td>\n",
       "      <td>B2</td>\n",
       "      <td>5bbbc58c-5249-4db5-8188-76480883c35f</td>\n",
       "      <td>06759db6-7920-11eb-bfee-121df0c29c1e</td>\n",
       "      <td>fl:m_ln:tomasiak-1</td>\n",
       "      <td>[5598605, 5340206]</td>\n",
       "      <td>[0.19024710357189176, 0.26260286569595337]</td>\n",
       "      <td>[59, 55]</td>\n",
       "    </tr>\n",
       "    <tr>\n",
       "      <th>2</th>\n",
       "      <td>6193265</td>\n",
       "      <td>2001-02-27</td>\n",
       "      <td>US</td>\n",
       "      <td>9</td>\n",
       "      <td>A</td>\n",
       "      <td>625e6680-4273-4b0e-88cf-4a712c3ad3b3</td>\n",
       "      <td>a14a1030-791f-11eb-bfee-121df0c29c1e</td>\n",
       "      <td>fl:z_ln:yemini-1</td>\n",
       "      <td>[5598605, 5340206]</td>\n",
       "      <td>[0.26533082127571106, 0.26260286569595337]</td>\n",
       "      <td>[59, 55]</td>\n",
       "    </tr>\n",
       "    <tr>\n",
       "      <th>3</th>\n",
       "      <td>10259480</td>\n",
       "      <td>2019-04-16</td>\n",
       "      <td>US</td>\n",
       "      <td>5</td>\n",
       "      <td>B2</td>\n",
       "      <td>7d2e1ccd-660b-4c57-91c3-9c4e5db2a9d2</td>\n",
       "      <td>d0f508e3-791d-11eb-bfee-121df0c29c1e</td>\n",
       "      <td>fl:y_ln:bacallao-1</td>\n",
       "      <td>[6193265, 5598605, 5340206]</td>\n",
       "      <td>[0.19954709708690646, 0.26533082127571106, 0.2...</td>\n",
       "      <td>[55, 59, 55]</td>\n",
       "    </tr>\n",
       "    <tr>\n",
       "      <th>4</th>\n",
       "      <td>10259480</td>\n",
       "      <td>2019-04-16</td>\n",
       "      <td>US</td>\n",
       "      <td>5</td>\n",
       "      <td>B2</td>\n",
       "      <td>7d2e1ccd-660b-4c57-91c3-9c4e5db2a9d2</td>\n",
       "      <td>d0f508e3-791d-11eb-bfee-121df0c29c1e</td>\n",
       "      <td>fl:s_ln:caution-2</td>\n",
       "      <td>[6193265, 5598605, 5340206]</td>\n",
       "      <td>[0.19954709708690646, 0.26533082127571106, 0.2...</td>\n",
       "      <td>[55, 59, 55]</td>\n",
       "    </tr>\n",
       "  </tbody>\n",
       "</table>\n",
       "</div>"
      ],
      "text/plain": [
       "         id        date country claims kind  \\\n",
       "0   5598605  1997-02-04      US      7    A   \n",
       "1   9572465  2017-02-21      US     19   B2   \n",
       "2   6193265  2001-02-27      US      9    A   \n",
       "3  10259480  2019-04-16      US      5   B2   \n",
       "4  10259480  2019-04-16      US      5   B2   \n",
       "\n",
       "                               assignee                              location  \\\n",
       "0  5bbbc58c-5249-4db5-8188-76480883c35f  06759db6-7920-11eb-bfee-121df0c29c1e   \n",
       "1  5bbbc58c-5249-4db5-8188-76480883c35f  06759db6-7920-11eb-bfee-121df0c29c1e   \n",
       "2  625e6680-4273-4b0e-88cf-4a712c3ad3b3  a14a1030-791f-11eb-bfee-121df0c29c1e   \n",
       "3  7d2e1ccd-660b-4c57-91c3-9c4e5db2a9d2  d0f508e3-791d-11eb-bfee-121df0c29c1e   \n",
       "4  7d2e1ccd-660b-4c57-91c3-9c4e5db2a9d2  d0f508e3-791d-11eb-bfee-121df0c29c1e   \n",
       "\n",
       "             inventor                      lineage  \\\n",
       "0  fl:m_ln:tomasiak-1                    [5340206]   \n",
       "1  fl:m_ln:tomasiak-1           [5598605, 5340206]   \n",
       "2    fl:z_ln:yemini-1           [5598605, 5340206]   \n",
       "3  fl:y_ln:bacallao-1  [6193265, 5598605, 5340206]   \n",
       "4   fl:s_ln:caution-2  [6193265, 5598605, 5340206]   \n",
       "\n",
       "                                          similarity  nber_lineage  \n",
       "0                              [0.26260286569595337]          [55]  \n",
       "1         [0.19024710357189176, 0.26260286569595337]      [59, 55]  \n",
       "2         [0.26533082127571106, 0.26260286569595337]      [59, 55]  \n",
       "3  [0.19954709708690646, 0.26533082127571106, 0.2...  [55, 59, 55]  \n",
       "4  [0.19954709708690646, 0.26533082127571106, 0.2...  [55, 59, 55]  "
      ]
     },
     "execution_count": 6,
     "metadata": {},
     "output_type": "execute_result"
    }
   ],
   "source": [
    "citation_tree.head()"
   ]
  },
  {
   "cell_type": "code",
   "execution_count": 7,
   "metadata": {},
   "outputs": [
    {
     "data": {
      "text/html": [
       "<div>\n",
       "<style scoped>\n",
       "    .dataframe tbody tr th:only-of-type {\n",
       "        vertical-align: middle;\n",
       "    }\n",
       "\n",
       "    .dataframe tbody tr th {\n",
       "        vertical-align: top;\n",
       "    }\n",
       "\n",
       "    .dataframe thead th {\n",
       "        text-align: right;\n",
       "    }\n",
       "</style>\n",
       "<table border=\"1\" class=\"dataframe\">\n",
       "  <thead>\n",
       "    <tr style=\"text-align: right;\">\n",
       "      <th></th>\n",
       "      <th>id</th>\n",
       "      <th>date</th>\n",
       "      <th>country</th>\n",
       "      <th>claims</th>\n",
       "      <th>kind</th>\n",
       "      <th>assignee</th>\n",
       "      <th>location</th>\n",
       "      <th>inventor</th>\n",
       "      <th>lineage</th>\n",
       "      <th>similarity</th>\n",
       "      <th>nber_lineage</th>\n",
       "    </tr>\n",
       "  </thead>\n",
       "  <tbody>\n",
       "    <tr>\n",
       "      <th>0</th>\n",
       "      <td>8469200</td>\n",
       "      <td>2013-06-25</td>\n",
       "      <td>US</td>\n",
       "      <td>23</td>\n",
       "      <td>B2</td>\n",
       "      <td>05a3efaa-d144-48c7-be32-ccffcab5c1e1</td>\n",
       "      <td>6c9ccb4a-791d-11eb-bfee-121df0c29c1e</td>\n",
       "      <td>fl:f_ln:wendeln-1</td>\n",
       "      <td>[4714397]</td>\n",
       "      <td>[0.14073023200035095]</td>\n",
       "      <td>[51]</td>\n",
       "    </tr>\n",
       "  </tbody>\n",
       "</table>\n",
       "</div>"
      ],
      "text/plain": [
       "        id        date country claims kind  \\\n",
       "0  8469200  2013-06-25      US     23   B2   \n",
       "\n",
       "                               assignee                              location  \\\n",
       "0  05a3efaa-d144-48c7-be32-ccffcab5c1e1  6c9ccb4a-791d-11eb-bfee-121df0c29c1e   \n",
       "\n",
       "            inventor    lineage             similarity nber_lineage  \n",
       "0  fl:f_ln:wendeln-1  [4714397]  [0.14073023200035095]         [51]  "
      ]
     },
     "execution_count": 7,
     "metadata": {},
     "output_type": "execute_result"
    }
   ],
   "source": [
    "degen_tree.head()"
   ]
  },
  {
   "cell_type": "markdown",
   "metadata": {},
   "source": [
    "### Fixing Citation Tree\n",
    "This is equivalent to the section in 14_Generational_Difference "
   ]
  },
  {
   "cell_type": "code",
   "execution_count": 8,
   "metadata": {},
   "outputs": [],
   "source": [
    "# Assigning NBER category based on majority vote of parents\n",
    "citation_tree = fixing_na_nber(citation_tree)\n",
    "degen_tree = fixing_na_nber(degen_tree)"
   ]
  },
  {
   "cell_type": "code",
   "execution_count": 9,
   "metadata": {},
   "outputs": [],
   "source": [
    "# Take the max(generation) for a given patent to enforce only single-generation\n",
    "citation_tree = get_max_generation(citation_tree)\n",
    "degen_tree = get_max_generation(degen_tree)"
   ]
  },
  {
   "cell_type": "code",
   "execution_count": 10,
   "metadata": {},
   "outputs": [
    {
     "data": {
      "text/html": [
       "<div>\n",
       "<style scoped>\n",
       "    .dataframe tbody tr th:only-of-type {\n",
       "        vertical-align: middle;\n",
       "    }\n",
       "\n",
       "    .dataframe tbody tr th {\n",
       "        vertical-align: top;\n",
       "    }\n",
       "\n",
       "    .dataframe thead th {\n",
       "        text-align: right;\n",
       "    }\n",
       "</style>\n",
       "<table border=\"1\" class=\"dataframe\">\n",
       "  <thead>\n",
       "    <tr style=\"text-align: right;\">\n",
       "      <th></th>\n",
       "      <th>id</th>\n",
       "      <th>gen</th>\n",
       "      <th>date</th>\n",
       "      <th>country</th>\n",
       "      <th>claims</th>\n",
       "      <th>kind</th>\n",
       "      <th>assignee</th>\n",
       "      <th>location</th>\n",
       "      <th>inventor</th>\n",
       "      <th>lineage</th>\n",
       "      <th>similarity</th>\n",
       "      <th>nber_lineage</th>\n",
       "      <th>nber</th>\n",
       "      <th>hops</th>\n",
       "    </tr>\n",
       "  </thead>\n",
       "  <tbody>\n",
       "    <tr>\n",
       "      <th>0</th>\n",
       "      <td>5598605</td>\n",
       "      <td>1</td>\n",
       "      <td>1997-02-04</td>\n",
       "      <td>US</td>\n",
       "      <td>7</td>\n",
       "      <td>A</td>\n",
       "      <td>5bbbc58c-5249-4db5-8188-76480883c35f</td>\n",
       "      <td>06759db6-7920-11eb-bfee-121df0c29c1e</td>\n",
       "      <td>fl:m_ln:tomasiak-1</td>\n",
       "      <td>[5340206]</td>\n",
       "      <td>0.262603</td>\n",
       "      <td>[55]</td>\n",
       "      <td>55</td>\n",
       "      <td>1</td>\n",
       "    </tr>\n",
       "    <tr>\n",
       "      <th>1</th>\n",
       "      <td>6668951</td>\n",
       "      <td>1</td>\n",
       "      <td>2003-12-30</td>\n",
       "      <td>US</td>\n",
       "      <td>21</td>\n",
       "      <td>B2</td>\n",
       "      <td>7b729b31-a8a9-4811-bdf0-12e6decc9df6</td>\n",
       "      <td>ec8e4f5c-791d-11eb-bfee-121df0c29c1e</td>\n",
       "      <td>fl:c_ln:won-29</td>\n",
       "      <td>[5340206]</td>\n",
       "      <td>0.221906</td>\n",
       "      <td>[55]</td>\n",
       "      <td>55</td>\n",
       "      <td>1</td>\n",
       "    </tr>\n",
       "    <tr>\n",
       "      <th>2</th>\n",
       "      <td>5829849</td>\n",
       "      <td>1</td>\n",
       "      <td>1998-11-03</td>\n",
       "      <td>US</td>\n",
       "      <td>13</td>\n",
       "      <td>A</td>\n",
       "      <td>7b5d5846-085d-4c04-9692-08c427428316</td>\n",
       "      <td>7086f99e-791f-11eb-bfee-121df0c29c1e</td>\n",
       "      <td>fl:r_ln:lawson-3</td>\n",
       "      <td>[5340206]</td>\n",
       "      <td>0.383270</td>\n",
       "      <td>[55]</td>\n",
       "      <td>55</td>\n",
       "      <td>1</td>\n",
       "    </tr>\n",
       "    <tr>\n",
       "      <th>3</th>\n",
       "      <td>5899541</td>\n",
       "      <td>1</td>\n",
       "      <td>1999-05-04</td>\n",
       "      <td>US</td>\n",
       "      <td>6</td>\n",
       "      <td>A</td>\n",
       "      <td>a5a41860-d237-4ee6-abf4-9444b1e2ea7a</td>\n",
       "      <td>6e90cbbb-791e-11eb-bfee-121df0c29c1e</td>\n",
       "      <td>fl:j_ln:highfill-3</td>\n",
       "      <td>[5340206]</td>\n",
       "      <td>0.424273</td>\n",
       "      <td>[55]</td>\n",
       "      <td>55</td>\n",
       "      <td>1</td>\n",
       "    </tr>\n",
       "    <tr>\n",
       "      <th>4</th>\n",
       "      <td>5899541</td>\n",
       "      <td>1</td>\n",
       "      <td>1999-05-04</td>\n",
       "      <td>US</td>\n",
       "      <td>6</td>\n",
       "      <td>A</td>\n",
       "      <td>a5a41860-d237-4ee6-abf4-9444b1e2ea7a</td>\n",
       "      <td>6e90cbbb-791e-11eb-bfee-121df0c29c1e</td>\n",
       "      <td>fl:j_ln:ying-17</td>\n",
       "      <td>[5340206]</td>\n",
       "      <td>0.424273</td>\n",
       "      <td>[55]</td>\n",
       "      <td>55</td>\n",
       "      <td>1</td>\n",
       "    </tr>\n",
       "  </tbody>\n",
       "</table>\n",
       "</div>"
      ],
      "text/plain": [
       "        id  gen        date country claims kind  \\\n",
       "0  5598605    1  1997-02-04      US      7    A   \n",
       "1  6668951    1  2003-12-30      US     21   B2   \n",
       "2  5829849    1  1998-11-03      US     13    A   \n",
       "3  5899541    1  1999-05-04      US      6    A   \n",
       "4  5899541    1  1999-05-04      US      6    A   \n",
       "\n",
       "                               assignee                              location  \\\n",
       "0  5bbbc58c-5249-4db5-8188-76480883c35f  06759db6-7920-11eb-bfee-121df0c29c1e   \n",
       "1  7b729b31-a8a9-4811-bdf0-12e6decc9df6  ec8e4f5c-791d-11eb-bfee-121df0c29c1e   \n",
       "2  7b5d5846-085d-4c04-9692-08c427428316  7086f99e-791f-11eb-bfee-121df0c29c1e   \n",
       "3  a5a41860-d237-4ee6-abf4-9444b1e2ea7a  6e90cbbb-791e-11eb-bfee-121df0c29c1e   \n",
       "4  a5a41860-d237-4ee6-abf4-9444b1e2ea7a  6e90cbbb-791e-11eb-bfee-121df0c29c1e   \n",
       "\n",
       "             inventor    lineage  similarity nber_lineage nber  hops  \n",
       "0  fl:m_ln:tomasiak-1  [5340206]    0.262603         [55]   55     1  \n",
       "1      fl:c_ln:won-29  [5340206]    0.221906         [55]   55     1  \n",
       "2    fl:r_ln:lawson-3  [5340206]    0.383270         [55]   55     1  \n",
       "3  fl:j_ln:highfill-3  [5340206]    0.424273         [55]   55     1  \n",
       "4     fl:j_ln:ying-17  [5340206]    0.424273         [55]   55     1  "
      ]
     },
     "execution_count": 10,
     "metadata": {},
     "output_type": "execute_result"
    }
   ],
   "source": [
    "citation_tree.head()"
   ]
  },
  {
   "cell_type": "code",
   "execution_count": 11,
   "metadata": {},
   "outputs": [
    {
     "data": {
      "text/html": [
       "<div>\n",
       "<style scoped>\n",
       "    .dataframe tbody tr th:only-of-type {\n",
       "        vertical-align: middle;\n",
       "    }\n",
       "\n",
       "    .dataframe tbody tr th {\n",
       "        vertical-align: top;\n",
       "    }\n",
       "\n",
       "    .dataframe thead th {\n",
       "        text-align: right;\n",
       "    }\n",
       "</style>\n",
       "<table border=\"1\" class=\"dataframe\">\n",
       "  <thead>\n",
       "    <tr style=\"text-align: right;\">\n",
       "      <th></th>\n",
       "      <th>id</th>\n",
       "      <th>gen</th>\n",
       "      <th>date</th>\n",
       "      <th>country</th>\n",
       "      <th>claims</th>\n",
       "      <th>kind</th>\n",
       "      <th>assignee</th>\n",
       "      <th>location</th>\n",
       "      <th>inventor</th>\n",
       "      <th>lineage</th>\n",
       "      <th>similarity</th>\n",
       "      <th>nber_lineage</th>\n",
       "      <th>nber</th>\n",
       "      <th>hops</th>\n",
       "    </tr>\n",
       "  </thead>\n",
       "  <tbody>\n",
       "    <tr>\n",
       "      <th>0</th>\n",
       "      <td>8469200</td>\n",
       "      <td>1</td>\n",
       "      <td>2013-06-25</td>\n",
       "      <td>US</td>\n",
       "      <td>23</td>\n",
       "      <td>B2</td>\n",
       "      <td>05a3efaa-d144-48c7-be32-ccffcab5c1e1</td>\n",
       "      <td>6c9ccb4a-791d-11eb-bfee-121df0c29c1e</td>\n",
       "      <td>fl:f_ln:wendeln-1</td>\n",
       "      <td>[4714397]</td>\n",
       "      <td>0.14073</td>\n",
       "      <td>[51]</td>\n",
       "      <td>51</td>\n",
       "      <td>1</td>\n",
       "    </tr>\n",
       "  </tbody>\n",
       "</table>\n",
       "</div>"
      ],
      "text/plain": [
       "        id  gen        date country claims kind  \\\n",
       "0  8469200    1  2013-06-25      US     23   B2   \n",
       "\n",
       "                               assignee                              location  \\\n",
       "0  05a3efaa-d144-48c7-be32-ccffcab5c1e1  6c9ccb4a-791d-11eb-bfee-121df0c29c1e   \n",
       "\n",
       "            inventor    lineage  similarity nber_lineage nber  hops  \n",
       "0  fl:f_ln:wendeln-1  [4714397]     0.14073         [51]   51     1  "
      ]
     },
     "execution_count": 11,
     "metadata": {},
     "output_type": "execute_result"
    }
   ],
   "source": [
    "degen_tree.head()"
   ]
  },
  {
   "cell_type": "markdown",
   "metadata": {},
   "source": [
    "### Creating Sets\n",
    "For assginees, inventors and locations, we are interested to see the sets of assignees, inventors and locations invovled in the citation tree. In this, we aggregate them by generation."
   ]
  },
  {
   "cell_type": "code",
   "execution_count": 12,
   "metadata": {},
   "outputs": [],
   "source": [
    "\"\"\"\n",
    "Takes a citation tree, with an optional parameter to identify what to be converted into sets \n",
    "and generate sets based on the generation\n",
    "Input:\n",
    "    citation_tree and settables\n",
    "Output:\n",
    "    generation - dataframe with sets of settables by generation\n",
    "\"\"\"\n",
    "def setting_settables(citation_tree, settables=['inventor', 'assignee', 'location']):\n",
    "    \n",
    "    setter = lambda x: citation_tree.loc[:,['gen',x]].drop_duplicates().groupby('gen').agg({x:lambda y: set(y)}).reset_index()\n",
    "    \n",
    "    generation = pd.DataFrame({'gen':[1,2,3]})\n",
    "    \n",
    "    for s in settables:\n",
    "        generation = pd.merge(generation, setter(s), how='left', on='gen')\n",
    "    \n",
    "    return generation"
   ]
  },
  {
   "cell_type": "code",
   "execution_count": 13,
   "metadata": {},
   "outputs": [],
   "source": [
    "set_citation = setting_settables(citation_tree)"
   ]
  },
  {
   "cell_type": "code",
   "execution_count": 14,
   "metadata": {},
   "outputs": [],
   "source": [
    "set_degen = setting_settables(degen_tree)"
   ]
  },
  {
   "cell_type": "markdown",
   "metadata": {},
   "source": [
    "### Set Difference Across Generation\n",
    "For each citation_tree, we compare the sets of inventors, assignees and location using Jaccard Coefficient to observe the difference of each sets. <br>\n",
    "We look at the combination of generation, which in this case is going to only be\n",
    "1. Generation 1 and 2 (labeled with 1)\n",
    "1. Generation 2 and 3 (labeled with 2)\n",
    "1. Generation 1 and 3 (labeled with 3)"
   ]
  },
  {
   "cell_type": "code",
   "execution_count": 15,
   "metadata": {},
   "outputs": [],
   "source": [
    "def jaccard_similarity(set_A, set_B):\n",
    "    \n",
    "    # Check for NaN conditions\n",
    "    if type(set_A) is float or type(set_B) is float:\n",
    "        return 0\n",
    "    \n",
    "    # Cardinality of intersection\n",
    "    n_cap = len(set_A.intersection(set_B))\n",
    "    \n",
    "    # Cardinality of union\n",
    "    n_cup = len(set_A.union(set_B))\n",
    "    \n",
    "    # Jaccard Similarity\n",
    "    return(n_cap/n_cup)"
   ]
  },
  {
   "cell_type": "code",
   "execution_count": 16,
   "metadata": {},
   "outputs": [],
   "source": [
    "def set_differences(root, set_citation, combination=[(0,1),(1,2),(0,2)], settables=['inventor','assignee','location']):\n",
    "    \n",
    "    # Empty list of data\n",
    "    data = []\n",
    "    \n",
    "    # For each combination, return the jaccard similarity of \n",
    "    for c in combination:\n",
    "        gen_rows = [root,c]\n",
    "        for s in settables:\n",
    "            gen_rows.append(jaccard_similarity(set_citation.loc[c[0],s], set_citation.loc[c[1],s]))\n",
    "        data.append(gen_rows)\n",
    "        \n",
    "    return data"
   ]
  },
  {
   "cell_type": "code",
   "execution_count": 17,
   "metadata": {},
   "outputs": [],
   "source": [
    "set_one = set_differences(root,set_citation)\n",
    "set_two = set_differences(degen_root,set_degen)"
   ]
  },
  {
   "cell_type": "code",
   "execution_count": 18,
   "metadata": {},
   "outputs": [
    {
     "name": "stdout",
     "output_type": "stream",
     "text": [
      "[[5340206, (0, 1), 0.03, 0.10714285714285714, 0.1111111111111111], [5340206, (1, 2), 0.027898326100433975, 0.05063291139240506, 0.05514705882352941], [5340206, (0, 2), 0.001273074474856779, 0.00974025974025974, 0.007547169811320755], [4714397, (0, 1), 0, 0, 0], [4714397, (1, 2), 0, 0, 0], [4714397, (0, 2), 0, 0, 0]]\n"
     ]
    }
   ],
   "source": [
    "data = []\n",
    "data = data + set_one + set_two\n",
    "print(data)"
   ]
  },
  {
   "cell_type": "code",
   "execution_count": 19,
   "metadata": {},
   "outputs": [],
   "source": [
    "df_setdiff = pd.DataFrame(data, columns=['root', 'combination', 'inventor', 'assignee', 'location'])"
   ]
  },
  {
   "cell_type": "code",
   "execution_count": 20,
   "metadata": {},
   "outputs": [
    {
     "data": {
      "text/html": [
       "<div>\n",
       "<style scoped>\n",
       "    .dataframe tbody tr th:only-of-type {\n",
       "        vertical-align: middle;\n",
       "    }\n",
       "\n",
       "    .dataframe tbody tr th {\n",
       "        vertical-align: top;\n",
       "    }\n",
       "\n",
       "    .dataframe thead th {\n",
       "        text-align: right;\n",
       "    }\n",
       "</style>\n",
       "<table border=\"1\" class=\"dataframe\">\n",
       "  <thead>\n",
       "    <tr style=\"text-align: right;\">\n",
       "      <th></th>\n",
       "      <th>root</th>\n",
       "      <th>combination</th>\n",
       "      <th>inventor</th>\n",
       "      <th>assignee</th>\n",
       "      <th>location</th>\n",
       "    </tr>\n",
       "  </thead>\n",
       "  <tbody>\n",
       "    <tr>\n",
       "      <th>0</th>\n",
       "      <td>5340206</td>\n",
       "      <td>(0, 1)</td>\n",
       "      <td>0.030000</td>\n",
       "      <td>0.107143</td>\n",
       "      <td>0.111111</td>\n",
       "    </tr>\n",
       "    <tr>\n",
       "      <th>1</th>\n",
       "      <td>5340206</td>\n",
       "      <td>(1, 2)</td>\n",
       "      <td>0.027898</td>\n",
       "      <td>0.050633</td>\n",
       "      <td>0.055147</td>\n",
       "    </tr>\n",
       "    <tr>\n",
       "      <th>2</th>\n",
       "      <td>5340206</td>\n",
       "      <td>(0, 2)</td>\n",
       "      <td>0.001273</td>\n",
       "      <td>0.009740</td>\n",
       "      <td>0.007547</td>\n",
       "    </tr>\n",
       "    <tr>\n",
       "      <th>3</th>\n",
       "      <td>4714397</td>\n",
       "      <td>(0, 1)</td>\n",
       "      <td>0.000000</td>\n",
       "      <td>0.000000</td>\n",
       "      <td>0.000000</td>\n",
       "    </tr>\n",
       "    <tr>\n",
       "      <th>4</th>\n",
       "      <td>4714397</td>\n",
       "      <td>(1, 2)</td>\n",
       "      <td>0.000000</td>\n",
       "      <td>0.000000</td>\n",
       "      <td>0.000000</td>\n",
       "    </tr>\n",
       "    <tr>\n",
       "      <th>5</th>\n",
       "      <td>4714397</td>\n",
       "      <td>(0, 2)</td>\n",
       "      <td>0.000000</td>\n",
       "      <td>0.000000</td>\n",
       "      <td>0.000000</td>\n",
       "    </tr>\n",
       "  </tbody>\n",
       "</table>\n",
       "</div>"
      ],
      "text/plain": [
       "      root combination  inventor  assignee  location\n",
       "0  5340206      (0, 1)  0.030000  0.107143  0.111111\n",
       "1  5340206      (1, 2)  0.027898  0.050633  0.055147\n",
       "2  5340206      (0, 2)  0.001273  0.009740  0.007547\n",
       "3  4714397      (0, 1)  0.000000  0.000000  0.000000\n",
       "4  4714397      (1, 2)  0.000000  0.000000  0.000000\n",
       "5  4714397      (0, 2)  0.000000  0.000000  0.000000"
      ]
     },
     "execution_count": 20,
     "metadata": {},
     "output_type": "execute_result"
    }
   ],
   "source": [
    "df_setdiff.head(6)"
   ]
  },
  {
   "cell_type": "markdown",
   "metadata": {},
   "source": [
    "### Sad Awful Loops"
   ]
  },
  {
   "cell_type": "code",
   "execution_count": 22,
   "metadata": {},
   "outputs": [],
   "source": [
    "data = []\n",
    "\n",
    "for root in roots[:500]:\n",
    "    # Get Citation Tree\n",
    "    citation_tree = conn.query_citation_tree(root)\n",
    "    \n",
    "    # Fixing Citation Tree\n",
    "    citation_tree = fixing_na_nber(citation_tree)\n",
    "    citation_tree = get_max_generation(citation_tree)\n",
    "    \n",
    "    # Build list\n",
    "    data = data + set_differences(root,set_citation)\n",
    "    \n",
    "df_setdiff = pd.DataFrame(data, columns=['root', 'combination', 'inventor', 'assignee', 'location'])"
   ]
  },
  {
   "cell_type": "code",
   "execution_count": 23,
   "metadata": {},
   "outputs": [
    {
     "data": {
      "text/html": [
       "<div>\n",
       "<style scoped>\n",
       "    .dataframe tbody tr th:only-of-type {\n",
       "        vertical-align: middle;\n",
       "    }\n",
       "\n",
       "    .dataframe tbody tr th {\n",
       "        vertical-align: top;\n",
       "    }\n",
       "\n",
       "    .dataframe thead th {\n",
       "        text-align: right;\n",
       "    }\n",
       "</style>\n",
       "<table border=\"1\" class=\"dataframe\">\n",
       "  <thead>\n",
       "    <tr style=\"text-align: right;\">\n",
       "      <th></th>\n",
       "      <th>root</th>\n",
       "      <th>combination</th>\n",
       "      <th>inventor</th>\n",
       "      <th>assignee</th>\n",
       "      <th>location</th>\n",
       "    </tr>\n",
       "  </thead>\n",
       "  <tbody>\n",
       "    <tr>\n",
       "      <th>0</th>\n",
       "      <td>4409344</td>\n",
       "      <td>(0, 1)</td>\n",
       "      <td>0.030000</td>\n",
       "      <td>0.107143</td>\n",
       "      <td>0.111111</td>\n",
       "    </tr>\n",
       "    <tr>\n",
       "      <th>1</th>\n",
       "      <td>4409344</td>\n",
       "      <td>(1, 2)</td>\n",
       "      <td>0.027898</td>\n",
       "      <td>0.050633</td>\n",
       "      <td>0.055147</td>\n",
       "    </tr>\n",
       "    <tr>\n",
       "      <th>2</th>\n",
       "      <td>4409344</td>\n",
       "      <td>(0, 2)</td>\n",
       "      <td>0.001273</td>\n",
       "      <td>0.009740</td>\n",
       "      <td>0.007547</td>\n",
       "    </tr>\n",
       "    <tr>\n",
       "      <th>3</th>\n",
       "      <td>4722689</td>\n",
       "      <td>(0, 1)</td>\n",
       "      <td>0.030000</td>\n",
       "      <td>0.107143</td>\n",
       "      <td>0.111111</td>\n",
       "    </tr>\n",
       "    <tr>\n",
       "      <th>4</th>\n",
       "      <td>4722689</td>\n",
       "      <td>(1, 2)</td>\n",
       "      <td>0.027898</td>\n",
       "      <td>0.050633</td>\n",
       "      <td>0.055147</td>\n",
       "    </tr>\n",
       "  </tbody>\n",
       "</table>\n",
       "</div>"
      ],
      "text/plain": [
       "      root combination  inventor  assignee  location\n",
       "0  4409344      (0, 1)  0.030000  0.107143  0.111111\n",
       "1  4409344      (1, 2)  0.027898  0.050633  0.055147\n",
       "2  4409344      (0, 2)  0.001273  0.009740  0.007547\n",
       "3  4722689      (0, 1)  0.030000  0.107143  0.111111\n",
       "4  4722689      (1, 2)  0.027898  0.050633  0.055147"
      ]
     },
     "execution_count": 23,
     "metadata": {},
     "output_type": "execute_result"
    }
   ],
   "source": [
    "df_setdiff.head()"
   ]
  },
  {
   "cell_type": "code",
   "execution_count": 24,
   "metadata": {},
   "outputs": [],
   "source": [
    "df_setdiff.to_csv(\"gen_set_diff_1.csv\", index=False)"
   ]
  },
  {
   "cell_type": "code",
   "execution_count": 21,
   "metadata": {},
   "outputs": [],
   "source": [
    "data = []\n",
    "\n",
    "for root in roots[500:]:\n",
    "    # Get Citation Tree\n",
    "    citation_tree = conn.query_citation_tree(root)\n",
    "    \n",
    "    # Fixing Citation Tree\n",
    "    citation_tree = fixing_na_nber(citation_tree)\n",
    "    citation_tree = get_max_generation(citation_tree)\n",
    "    \n",
    "    # Build list\n",
    "    data = data + set_differences(root,set_citation)\n",
    "    \n",
    "df_setdiff = pd.DataFrame(data, columns=['root', 'combination', 'inventor', 'assignee', 'location'])"
   ]
  },
  {
   "cell_type": "code",
   "execution_count": 22,
   "metadata": {},
   "outputs": [
    {
     "data": {
      "text/html": [
       "<div>\n",
       "<style scoped>\n",
       "    .dataframe tbody tr th:only-of-type {\n",
       "        vertical-align: middle;\n",
       "    }\n",
       "\n",
       "    .dataframe tbody tr th {\n",
       "        vertical-align: top;\n",
       "    }\n",
       "\n",
       "    .dataframe thead th {\n",
       "        text-align: right;\n",
       "    }\n",
       "</style>\n",
       "<table border=\"1\" class=\"dataframe\">\n",
       "  <thead>\n",
       "    <tr style=\"text-align: right;\">\n",
       "      <th></th>\n",
       "      <th>root</th>\n",
       "      <th>combination</th>\n",
       "      <th>inventor</th>\n",
       "      <th>assignee</th>\n",
       "      <th>location</th>\n",
       "    </tr>\n",
       "  </thead>\n",
       "  <tbody>\n",
       "    <tr>\n",
       "      <th>0</th>\n",
       "      <td>4224097</td>\n",
       "      <td>(0, 1)</td>\n",
       "      <td>0.030000</td>\n",
       "      <td>0.107143</td>\n",
       "      <td>0.111111</td>\n",
       "    </tr>\n",
       "    <tr>\n",
       "      <th>1</th>\n",
       "      <td>4224097</td>\n",
       "      <td>(1, 2)</td>\n",
       "      <td>0.027898</td>\n",
       "      <td>0.050633</td>\n",
       "      <td>0.055147</td>\n",
       "    </tr>\n",
       "    <tr>\n",
       "      <th>2</th>\n",
       "      <td>4224097</td>\n",
       "      <td>(0, 2)</td>\n",
       "      <td>0.001273</td>\n",
       "      <td>0.009740</td>\n",
       "      <td>0.007547</td>\n",
       "    </tr>\n",
       "    <tr>\n",
       "      <th>3</th>\n",
       "      <td>5729379</td>\n",
       "      <td>(0, 1)</td>\n",
       "      <td>0.030000</td>\n",
       "      <td>0.107143</td>\n",
       "      <td>0.111111</td>\n",
       "    </tr>\n",
       "    <tr>\n",
       "      <th>4</th>\n",
       "      <td>5729379</td>\n",
       "      <td>(1, 2)</td>\n",
       "      <td>0.027898</td>\n",
       "      <td>0.050633</td>\n",
       "      <td>0.055147</td>\n",
       "    </tr>\n",
       "  </tbody>\n",
       "</table>\n",
       "</div>"
      ],
      "text/plain": [
       "      root combination  inventor  assignee  location\n",
       "0  4224097      (0, 1)  0.030000  0.107143  0.111111\n",
       "1  4224097      (1, 2)  0.027898  0.050633  0.055147\n",
       "2  4224097      (0, 2)  0.001273  0.009740  0.007547\n",
       "3  5729379      (0, 1)  0.030000  0.107143  0.111111\n",
       "4  5729379      (1, 2)  0.027898  0.050633  0.055147"
      ]
     },
     "execution_count": 22,
     "metadata": {},
     "output_type": "execute_result"
    }
   ],
   "source": [
    "df_setdiff.head()"
   ]
  },
  {
   "cell_type": "code",
   "execution_count": 23,
   "metadata": {},
   "outputs": [],
   "source": [
    "df_setdiff.to_csv(\"gen_set_diff_2.csv\", index=False)"
   ]
  },
  {
   "cell_type": "markdown",
   "metadata": {},
   "source": [
    "### Combining the Datasets"
   ]
  },
  {
   "cell_type": "code",
   "execution_count": 3,
   "metadata": {},
   "outputs": [],
   "source": [
    "df1 = pd.read_csv(\"gen_set_diff_1.csv\")\n",
    "df2 = pd.read_csv(\"gen_set_diff_2.csv\")"
   ]
  },
  {
   "cell_type": "code",
   "execution_count": 8,
   "metadata": {},
   "outputs": [],
   "source": [
    "df = df1.append(df2)"
   ]
  },
  {
   "cell_type": "code",
   "execution_count": 9,
   "metadata": {},
   "outputs": [],
   "source": [
    "df.to_csv(\"gen_set_diff.csv\", index=False)"
   ]
  }
 ],
 "metadata": {
  "kernelspec": {
   "display_name": "Python 3",
   "language": "python",
   "name": "python3"
  },
  "language_info": {
   "codemirror_mode": {
    "name": "ipython",
    "version": 3
   },
   "file_extension": ".py",
   "mimetype": "text/x-python",
   "name": "python",
   "nbconvert_exporter": "python",
   "pygments_lexer": "ipython3",
   "version": "3.8.5"
  }
 },
 "nbformat": 4,
 "nbformat_minor": 4
}
