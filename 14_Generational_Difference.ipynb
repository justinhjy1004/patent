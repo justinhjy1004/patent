{
 "cells": [
  {
   "cell_type": "markdown",
   "metadata": {},
   "source": [
    "# Generational Difference\n",
    "For patents that cite each other, a significant question is how the characteristic of the prior generation \"cited generation\" affect the behaviour of future patents that cite them. \n",
    "\n",
    "1. Assignees - Number of Unique Assignees\n",
    "1. Inventors - Number of Unique Inventors\n",
    "1. Locations - Number of Unique Locations\n",
    "1. Patents - Number of Unique Patents\n",
    "1. NBER Category - Number of NBER Category\n",
    "1. Jason-Shannon Divergence\n",
    "1. Similarity \n",
    "1. Claims "
   ]
  },
  {
   "cell_type": "code",
   "execution_count": null,
   "metadata": {},
   "outputs": [],
   "source": [
    "import neo4j \n",
    "import pandas as pd\n",
    "import random\n",
    "import numpy as np\n",
    "import datetime\n",
    "from credentials import uri, user, pwd\n",
    "from patent_neo4j.connection import Neo4jConnection\n",
    "from patent_neo4j.analysis import assign_missing_nber, nber_distribution, js_divergence"
   ]
  },
  {
   "cell_type": "code",
   "execution_count": null,
   "metadata": {},
   "outputs": [],
   "source": [
    "df = pd.read_csv('Data/Mined Data/sample_patents_stats.csv')"
   ]
  },
  {
   "cell_type": "code",
   "execution_count": null,
   "metadata": {},
   "outputs": [],
   "source": [
    "df.head()"
   ]
  },
  {
   "cell_type": "markdown",
   "metadata": {},
   "source": [
    "Connection for citation tree queries"
   ]
  },
  {
   "cell_type": "code",
   "execution_count": null,
   "metadata": {},
   "outputs": [],
   "source": [
    "# \"standard\" root for looking at how things behave\n",
    "root = df.loc[4,'id']\n",
    "# \"degenerate\" as in only 1 child\n",
    "degenerate_root = df.loc[643,'id']\n",
    "conn = Neo4jConnection(uri, user, pwd)\n",
    "citation_tree = conn.query_citation_tree(root)\n",
    "degen_tree = conn.query_citation_tree(degenerate_root)"
   ]
  },
  {
   "cell_type": "code",
   "execution_count": null,
   "metadata": {},
   "outputs": [],
   "source": [
    "citation_tree.head()"
   ]
  },
  {
   "cell_type": "code",
   "execution_count": null,
   "metadata": {},
   "outputs": [],
   "source": [
    "citation_tree.info()"
   ]
  },
  {
   "cell_type": "code",
   "execution_count": null,
   "metadata": {},
   "outputs": [],
   "source": [
    "degen_tree.head()"
   ]
  },
  {
   "cell_type": "markdown",
   "metadata": {},
   "source": [
    "### Obtain Only the \"Last Generation\" as the forefront of Invention\n",
    "Patents in the citation tree could potentially cite their grandparents, this causes a patent to **potentially be classified in different generations**. It is also possible that some patents might cite a generation 1 and generation 2 patent, this places them in both generations 2 and 3. <br>\n",
    "\n",
    "Defining generation as a form of a 'forefront' of the technology development, we care about the **latest generation** to classify the specific invention as the **frontier**. "
   ]
  },
  {
   "cell_type": "code",
   "execution_count": null,
   "metadata": {},
   "outputs": [],
   "source": [
    "'''\n",
    "Given (RAW) citation_tree, keep only the \"oldest\" generation\n",
    "i.e. if a is gen 1 and 2, gen will be only 2\n",
    "Also, take the direct simiarity\n",
    "Input:\n",
    "    citation_tree\n",
    "Output:\n",
    "    citation_tree\n",
    "'''\n",
    "def get_max_generation(citation_tree):\n",
    "    # Obtain the generation based on lineage\n",
    "    citation_tree['gen'] = citation_tree['similarity'].apply(lambda x: len(x))\n",
    "    \n",
    "    # Dropping duplicates due to different inventors\n",
    "    generation = citation_tree.loc[:,['id','gen']].drop_duplicates()\n",
    "    \n",
    "    # Sort values based on a generation, keeping the last (the idea of the forefront of inventions)\n",
    "    generation = generation.sort_values(by=['gen']).drop_duplicates(subset=['id'], keep='last')\n",
    "    \n",
    "    # Left join with generation -> this only keeps the max(gen) for each patent\n",
    "    citation_tree = pd.merge(generation,citation_tree,on=['id','gen'], how='left')\n",
    "    \n",
    "    # Take the direct similarity of the max(gen)\n",
    "    citation_tree['similarity'] = citation_tree['similarity'].apply(lambda x: x[0])\n",
    "    \n",
    "    return citation_tree"
   ]
  },
  {
   "cell_type": "code",
   "execution_count": null,
   "metadata": {},
   "outputs": [],
   "source": [
    "def fixing_na_nber(citation_tree):\n",
    "    \n",
    "    # Get NBER, similarity and lineage\n",
    "    citation_tree['nber'] = citation_tree['nber_lineage'].apply(lambda x: x[0])\n",
    "    \n",
    "    # Return Assigned NBER\n",
    "    citation_tree = pd.merge(citation_tree.drop(['nber'],axis=1),assign_missing_nber(citation_tree), on='id', how='left')\n",
    "    \n",
    "    return citation_tree"
   ]
  },
  {
   "cell_type": "code",
   "execution_count": null,
   "metadata": {},
   "outputs": [],
   "source": [
    "citation_tree = fixing_na_nber(citation_tree)\n",
    "degen_tree = fixing_na_nber(degen_tree)"
   ]
  },
  {
   "cell_type": "code",
   "execution_count": null,
   "metadata": {},
   "outputs": [],
   "source": [
    "citation_tree = get_max_generation(citation_tree)\n",
    "degen_tree = get_max_generation(degen_tree)"
   ]
  },
  {
   "cell_type": "code",
   "execution_count": null,
   "metadata": {},
   "outputs": [],
   "source": [
    "citation_tree.head()"
   ]
  },
  {
   "cell_type": "code",
   "execution_count": null,
   "metadata": {},
   "outputs": [],
   "source": [
    "degen_tree.head()"
   ]
  },
  {
   "cell_type": "markdown",
   "metadata": {},
   "source": [
    "### Counting the Numbers\n",
    "For some of the features, and as for now we have:\n",
    "\n",
    "1. Inventors\n",
    "1. Assignees\n",
    "1. Location\n",
    "1. Patent ID\n",
    "\n",
    "We are interested in how many of them are in a given citation tree for each generation, and I refer to them as **countables**"
   ]
  },
  {
   "cell_type": "code",
   "execution_count": null,
   "metadata": {},
   "outputs": [],
   "source": [
    "\"\"\"\n",
    "Takes a citation_tree, and given an optional parameter countables, count the number of unique countables \n",
    "(whatever they are) by generation\n",
    "Input:\n",
    "    citation_tree and countables\n",
    "Output:\n",
    "    generation - dataframe with counts of countables by generation\n",
    "\"\"\"\n",
    "def counting_countables(citation_tree, countables=['inventor','assignee','location','id']):\n",
    "    \n",
    "    counter = lambda x: citation_tree.loc[:,['gen',x]].drop_duplicates().groupby(\"gen\").agg(\"count\").reset_index()\n",
    "    \n",
    "    generation = pd.DataFrame({'gen':[1,2,3]})\n",
    "    \n",
    "    \n",
    "    for c in countables:\n",
    "        generation = pd.merge(generation, counter(c), how='left', on='gen')\n",
    "        \n",
    "    return generation"
   ]
  },
  {
   "cell_type": "code",
   "execution_count": null,
   "metadata": {},
   "outputs": [],
   "source": [
    "counting_countables(citation_tree).head()"
   ]
  },
  {
   "cell_type": "code",
   "execution_count": null,
   "metadata": {},
   "outputs": [],
   "source": [
    "counting_countables(degen_tree).head()"
   ]
  },
  {
   "cell_type": "markdown",
   "metadata": {},
   "source": [
    "### Averaging the values"
   ]
  },
  {
   "cell_type": "markdown",
   "metadata": {},
   "source": [
    "Taking the average values by generation, we have columns that are:\n",
    "1. Similarity\n",
    "1. Claims\n",
    "\n",
    "And these are the **averageables**"
   ]
  },
  {
   "cell_type": "code",
   "execution_count": null,
   "metadata": {},
   "outputs": [],
   "source": [
    "'''\n",
    "Takes a citation_tree, and given column averageables that take the average for each\n",
    "by generation. \n",
    "Inputs:\n",
    "    citation_tree\n",
    "    averageables - list of columns that are 'averageable'\n",
    "Output:\n",
    "    generational information\n",
    "'''\n",
    "def averaging_averageables(citation_tree, averageables = ['similarity','claims']):\n",
    "    # Averaging function that drops duplicates \n",
    "    # Drops NA rows and ensure all are of float64\n",
    "    # Then average by generation LoL\n",
    "    averager = lambda x: citation_tree.loc[:,['gen']+x].drop_duplicates().dropna().astype('float64').groupby(\"gen\").agg(\"mean\").reset_index()\n",
    "    \n",
    "    generation = pd.DataFrame({'gen':[1,2,3]})\n",
    "    \n",
    "    generation = pd.merge(generation, averager(averageables), how='left', on='gen')\n",
    "    \n",
    "    return generation"
   ]
  },
  {
   "cell_type": "code",
   "execution_count": null,
   "metadata": {},
   "outputs": [],
   "source": [
    "averaging_averageables(citation_tree)"
   ]
  },
  {
   "cell_type": "code",
   "execution_count": null,
   "metadata": {},
   "outputs": [],
   "source": [
    "averaging_averageables(degen_tree)"
   ]
  },
  {
   "cell_type": "markdown",
   "metadata": {},
   "source": [
    "### Putting Things Together\n",
    "Just boring, putting both averageables together, based on the root, so we know who it belongs to"
   ]
  },
  {
   "cell_type": "code",
   "execution_count": null,
   "metadata": {},
   "outputs": [],
   "source": [
    "citation_generation = pd.merge(counting_countables(citation_tree),averaging_averageables(citation_tree))"
   ]
  },
  {
   "cell_type": "code",
   "execution_count": null,
   "metadata": {},
   "outputs": [],
   "source": [
    "citation_generation['root'] = root"
   ]
  },
  {
   "cell_type": "code",
   "execution_count": null,
   "metadata": {},
   "outputs": [],
   "source": [
    "citation_generation.head()"
   ]
  },
  {
   "cell_type": "code",
   "execution_count": null,
   "metadata": {},
   "outputs": [],
   "source": [
    "degen_generation = pd.merge(counting_countables(degen_tree),averaging_averageables(degen_tree))"
   ]
  },
  {
   "cell_type": "code",
   "execution_count": null,
   "metadata": {},
   "outputs": [],
   "source": [
    "degen_generation['root'] = degenerate_root"
   ]
  },
  {
   "cell_type": "code",
   "execution_count": null,
   "metadata": {},
   "outputs": [],
   "source": [
    "degen_generation.head()"
   ]
  },
  {
   "cell_type": "code",
   "execution_count": null,
   "metadata": {},
   "outputs": [],
   "source": [
    "degen_generation.columns"
   ]
  },
  {
   "cell_type": "markdown",
   "metadata": {},
   "source": [
    "## Awful and Sad Loops\n",
    "This is the part where I hate myself, and my laptop would hate me even more because I am abusing it. BUT, whatever, I couldn't care less."
   ]
  },
  {
   "cell_type": "code",
   "execution_count": null,
   "metadata": {},
   "outputs": [],
   "source": [
    "sad_loop_to_go_around = list(df['id'])"
   ]
  },
  {
   "cell_type": "code",
   "execution_count": null,
   "metadata": {},
   "outputs": [],
   "source": [
    "df = pd.read_csv(\"./Data/important_patents.csv\")\n",
    "df.head()"
   ]
  },
  {
   "cell_type": "code",
   "execution_count": null,
   "metadata": {},
   "outputs": [],
   "source": [
    "def generational_information(root):\n",
    "    # Query Citation Tree\n",
    "    citation_tree = conn.query_citation_tree(root)\n",
    "    \n",
    "    # Get Max Generation and Clean Data\n",
    "    citation_tree = get_max_generation(citation_tree)\n",
    "    \n",
    "    # Assign NBER\n",
    "    citation_tree = fixing_na_nber(citation_tree)\n",
    "    \n",
    "    # Count and Average Data\n",
    "    citation_tree = pd.merge(counting_countables(citation_tree),averaging_averageables(citation_tree))\n",
    "    \n",
    "    citation_tree['root'] = root\n",
    "    \n",
    "    return citation_tree"
   ]
  },
  {
   "cell_type": "code",
   "execution_count": null,
   "metadata": {},
   "outputs": [],
   "source": [
    "data = pd.DataFrame(columns = ['gen', 'inventor', 'assignee', 'location', 'id', 'similarity', 'claims','root'])"
   ]
  },
  {
   "cell_type": "code",
   "execution_count": null,
   "metadata": {},
   "outputs": [],
   "source": [
    "data.head()"
   ]
  },
  {
   "cell_type": "code",
   "execution_count": null,
   "metadata": {},
   "outputs": [],
   "source": [
    "for sad in sad_loop_to_go_around:\n",
    "    data = pd.concat([data, generational_information(sad)], ignore_index=True)"
   ]
  },
  {
   "cell_type": "code",
   "execution_count": null,
   "metadata": {},
   "outputs": [],
   "source": [
    "data.to_csv(\"generation_pt1.csv\", index = False)"
   ]
  },
  {
   "cell_type": "code",
   "execution_count": null,
   "metadata": {},
   "outputs": [],
   "source": [
    "for sad in sad_loop_to_go_around[500:557]:\n",
    "    print(sad)\n",
    "    data = pd.concat([data, generational_information(sad)], ignore_index=True)"
   ]
  },
  {
   "cell_type": "code",
   "execution_count": null,
   "metadata": {},
   "outputs": [],
   "source": [
    "data.to_csv(\"generation_pt2.csv\", index = False)"
   ]
  },
  {
   "cell_type": "markdown",
   "metadata": {},
   "source": [
    "### This is the DEVIL. Not working on my LAPTOP"
   ]
  },
  {
   "cell_type": "code",
   "execution_count": null,
   "metadata": {},
   "outputs": [],
   "source": [
    "for sad in sad_loop_to_go_around[557:558]:\n",
    "    print(sad)\n",
    "    data = pd.concat([data, generational_information(sad)], ignore_index=True)"
   ]
  },
  {
   "cell_type": "code",
   "execution_count": null,
   "metadata": {},
   "outputs": [],
   "source": [
    "data.to_csv(\"generation_pt3.csv\", index = False)"
   ]
  },
  {
   "cell_type": "code",
   "execution_count": null,
   "metadata": {},
   "outputs": [],
   "source": [
    "data = pd.DataFrame(columns = ['gen', 'inventor', 'assignee', 'location', 'id', 'similarity', 'claims','root'])"
   ]
  },
  {
   "cell_type": "code",
   "execution_count": null,
   "metadata": {},
   "outputs": [],
   "source": [
    "for sad in sad_loop_to_go_around[558:]:\n",
    "    print(sad)\n",
    "    data = pd.concat([data, generational_information(sad)], ignore_index=True)"
   ]
  },
  {
   "cell_type": "code",
   "execution_count": null,
   "metadata": {},
   "outputs": [],
   "source": [
    "data.to_csv(\"generation_pt4.csv\", index = False)"
   ]
  },
  {
   "cell_type": "code",
   "execution_count": null,
   "metadata": {},
   "outputs": [],
   "source": [
    "df1 = pd.read_csv(\"generation_pt1.csv\")\n",
    "df2 = pd.read_csv(\"generation_pt2.csv\")\n",
    "df3 = pd.read_csv(\"generation_pt4.csv\")"
   ]
  },
  {
   "cell_type": "code",
   "execution_count": null,
   "metadata": {},
   "outputs": [],
   "source": [
    "df = pd.concat([df1,df2,df3])"
   ]
  },
  {
   "cell_type": "code",
   "execution_count": null,
   "metadata": {},
   "outputs": [],
   "source": [
    "df.shape"
   ]
  },
  {
   "cell_type": "code",
   "execution_count": null,
   "metadata": {},
   "outputs": [],
   "source": [
    "df.to_csv(\"generation.csv\", index = False)"
   ]
  }
 ],
 "metadata": {
  "kernelspec": {
   "display_name": "Python 3",
   "language": "python",
   "name": "python3"
  },
  "language_info": {
   "codemirror_mode": {
    "name": "ipython",
    "version": 3
   },
   "file_extension": ".py",
   "mimetype": "text/x-python",
   "name": "python",
   "nbconvert_exporter": "python",
   "pygments_lexer": "ipython3",
   "version": "3.8.5"
  }
 },
 "nbformat": 4,
 "nbformat_minor": 4
}
