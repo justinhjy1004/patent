{
 "cells": [
  {
   "cell_type": "markdown",
   "metadata": {},
   "source": [
    "# Inventor Profiles\n",
    "In this notebook, the we want to look at the behaviours of citation etc. from an inventor perspective. Doing so, we want to know and understand the nature of inventors' profiles for extremely successful patents look like. This notebook is divided to the following sections:\n",
    "1. Getting inventors of successful profiles\n",
    "1. Get all patents for the successful inventors\n",
    "1. Create portfolio **sequential** patents and their behaviours\n",
    "1. Create portfolio stats"
   ]
  },
  {
   "cell_type": "code",
   "execution_count": 248,
   "metadata": {},
   "outputs": [],
   "source": [
    "import neo4j\n",
    "import pandas as pd\n",
    "import random\n",
    "import numpy as np\n",
    "import datetime\n",
    "from credentials import uri, user, pwd\n",
    "from patent_neo4j.connection import Neo4jConnection\n",
    "from functools import reduce"
   ]
  },
  {
   "cell_type": "markdown",
   "metadata": {},
   "source": [
    "## Get Inventors of Successful Patents\n",
    "Using the important patents dataset, we obtain the set of successful inventors"
   ]
  },
  {
   "cell_type": "code",
   "execution_count": 163,
   "metadata": {},
   "outputs": [],
   "source": [
    "df = pd.read_csv(\"./Data/important_patents.csv\")"
   ]
  },
  {
   "cell_type": "code",
   "execution_count": 164,
   "metadata": {},
   "outputs": [
    {
     "data": {
      "text/html": [
       "<div>\n",
       "<style scoped>\n",
       "    .dataframe tbody tr th:only-of-type {\n",
       "        vertical-align: middle;\n",
       "    }\n",
       "\n",
       "    .dataframe tbody tr th {\n",
       "        vertical-align: top;\n",
       "    }\n",
       "\n",
       "    .dataframe thead th {\n",
       "        text-align: right;\n",
       "    }\n",
       "</style>\n",
       "<table border=\"1\" class=\"dataframe\">\n",
       "  <thead>\n",
       "    <tr style=\"text-align: right;\">\n",
       "      <th></th>\n",
       "      <th>id</th>\n",
       "      <th>name</th>\n",
       "    </tr>\n",
       "  </thead>\n",
       "  <tbody>\n",
       "    <tr>\n",
       "      <th>0</th>\n",
       "      <td>4136359</td>\n",
       "      <td>AppleMicrocomputer</td>\n",
       "    </tr>\n",
       "    <tr>\n",
       "      <th>1</th>\n",
       "      <td>4237224</td>\n",
       "      <td>MolecularChimeras</td>\n",
       "    </tr>\n",
       "    <tr>\n",
       "      <th>2</th>\n",
       "      <td>4371752</td>\n",
       "      <td>DigitalVoiceMailSystems</td>\n",
       "    </tr>\n",
       "    <tr>\n",
       "      <th>3</th>\n",
       "      <td>4399216</td>\n",
       "      <td>Co-transformationGeneCoding</td>\n",
       "    </tr>\n",
       "    <tr>\n",
       "      <th>4</th>\n",
       "      <td>4683195</td>\n",
       "      <td>PolymeraseChainReaction</td>\n",
       "    </tr>\n",
       "  </tbody>\n",
       "</table>\n",
       "</div>"
      ],
      "text/plain": [
       "        id                         name\n",
       "0  4136359           AppleMicrocomputer\n",
       "1  4237224            MolecularChimeras\n",
       "2  4371752      DigitalVoiceMailSystems\n",
       "3  4399216  Co-transformationGeneCoding\n",
       "4  4683195      PolymeraseChainReaction"
      ]
     },
     "execution_count": 164,
     "metadata": {},
     "output_type": "execute_result"
    }
   ],
   "source": [
    "df.head()"
   ]
  },
  {
   "cell_type": "code",
   "execution_count": 165,
   "metadata": {},
   "outputs": [],
   "source": [
    "roots = df['id']"
   ]
  },
  {
   "cell_type": "code",
   "execution_count": 166,
   "metadata": {},
   "outputs": [],
   "source": [
    "conn = Neo4jConnection(uri, user, pwd)\n",
    "patent_info = pd.DataFrame(columns=['id', 'date', 'country', 'claims', 'kind', 'county_fips', 'city','state', 'organization', 'org_type', 'inventor_id', 'attribution_stat'])"
   ]
  },
  {
   "cell_type": "code",
   "execution_count": 167,
   "metadata": {},
   "outputs": [],
   "source": [
    "for root in roots:\n",
    "    patent_info = pd.concat([patent_info, conn.query_patent_info(root)])"
   ]
  },
  {
   "cell_type": "code",
   "execution_count": 168,
   "metadata": {},
   "outputs": [],
   "source": [
    "inventor_set = set(patent_info['inventor_id'])"
   ]
  },
  {
   "cell_type": "markdown",
   "metadata": {},
   "source": [
    "### Randomly Selecting for Inventors with 10 to 30 Patents"
   ]
  },
  {
   "cell_type": "code",
   "execution_count": 249,
   "metadata": {},
   "outputs": [],
   "source": [
    "df = pd.read_csv(\"./Data/ten_to_thirty_patents.csv\")"
   ]
  },
  {
   "cell_type": "code",
   "execution_count": 250,
   "metadata": {},
   "outputs": [],
   "source": [
    "df = df.sample(1000)"
   ]
  },
  {
   "cell_type": "code",
   "execution_count": 251,
   "metadata": {},
   "outputs": [],
   "source": [
    "inventor_set = set(df['inventor'])"
   ]
  },
  {
   "cell_type": "markdown",
   "metadata": {},
   "source": [
    "### Top 1 percent Number of Citations "
   ]
  },
  {
   "cell_type": "code",
   "execution_count": 296,
   "metadata": {},
   "outputs": [],
   "source": [
    "df = pd.read_csv(\"./Data/top_one_percent_citations.csv\")\n",
    "conn = Neo4jConnection(uri, user, pwd)\n",
    "patent_info = pd.DataFrame(columns=['id', 'date', 'country', 'claims', 'kind', 'county_fips', 'city','state', 'organization', 'org_type', 'inventor_id', 'attribution_stat'])"
   ]
  },
  {
   "cell_type": "code",
   "execution_count": 297,
   "metadata": {},
   "outputs": [
    {
     "data": {
      "text/html": [
       "<div>\n",
       "<style scoped>\n",
       "    .dataframe tbody tr th:only-of-type {\n",
       "        vertical-align: middle;\n",
       "    }\n",
       "\n",
       "    .dataframe tbody tr th {\n",
       "        vertical-align: top;\n",
       "    }\n",
       "\n",
       "    .dataframe thead th {\n",
       "        text-align: right;\n",
       "    }\n",
       "</style>\n",
       "<table border=\"1\" class=\"dataframe\">\n",
       "  <thead>\n",
       "    <tr style=\"text-align: right;\">\n",
       "      <th></th>\n",
       "      <th>Unnamed: 0</th>\n",
       "      <th>patent_id</th>\n",
       "      <th>num_citations</th>\n",
       "    </tr>\n",
       "  </thead>\n",
       "  <tbody>\n",
       "    <tr>\n",
       "      <th>0</th>\n",
       "      <td>1</td>\n",
       "      <td>3953566</td>\n",
       "      <td>1086</td>\n",
       "    </tr>\n",
       "    <tr>\n",
       "      <th>1</th>\n",
       "      <td>2</td>\n",
       "      <td>3971065</td>\n",
       "      <td>909</td>\n",
       "    </tr>\n",
       "    <tr>\n",
       "      <th>2</th>\n",
       "      <td>3</td>\n",
       "      <td>4092732</td>\n",
       "      <td>1077</td>\n",
       "    </tr>\n",
       "    <tr>\n",
       "      <th>3</th>\n",
       "      <td>4</td>\n",
       "      <td>4100324</td>\n",
       "      <td>1051</td>\n",
       "    </tr>\n",
       "    <tr>\n",
       "      <th>4</th>\n",
       "      <td>5</td>\n",
       "      <td>4179337</td>\n",
       "      <td>1464</td>\n",
       "    </tr>\n",
       "  </tbody>\n",
       "</table>\n",
       "</div>"
      ],
      "text/plain": [
       "   Unnamed: 0  patent_id  num_citations\n",
       "0           1    3953566           1086\n",
       "1           2    3971065            909\n",
       "2           3    4092732           1077\n",
       "3           4    4100324           1051\n",
       "4           5    4179337           1464"
      ]
     },
     "execution_count": 297,
     "metadata": {},
     "output_type": "execute_result"
    }
   ],
   "source": [
    "df.head()"
   ]
  },
  {
   "cell_type": "code",
   "execution_count": 298,
   "metadata": {},
   "outputs": [],
   "source": [
    "roots = df['patent_id']\n",
    "for root in roots:\n",
    "    patent_info = pd.concat([patent_info, conn.query_patent_info(root)])"
   ]
  },
  {
   "cell_type": "code",
   "execution_count": 299,
   "metadata": {},
   "outputs": [],
   "source": [
    "inventor_set = set(patent_info['inventor_id'])"
   ]
  },
  {
   "cell_type": "code",
   "execution_count": 300,
   "metadata": {},
   "outputs": [
    {
     "data": {
      "text/plain": [
       "1785"
      ]
     },
     "execution_count": 300,
     "metadata": {},
     "output_type": "execute_result"
    }
   ],
   "source": [
    "len(inventor_set)"
   ]
  },
  {
   "cell_type": "markdown",
   "metadata": {},
   "source": [
    "## Patents of Successful Inventors\n",
    "In this section, we query all of the patents created by the successful inventors. This would allow us to then construct a **portfolio** for the inventors and study the behaviours of the innovation market."
   ]
  },
  {
   "cell_type": "code",
   "execution_count": 301,
   "metadata": {},
   "outputs": [],
   "source": [
    "df_patents = pd.DataFrame(columns = ['inventor_id', 'patent_id', 'patent_date'])"
   ]
  },
  {
   "cell_type": "code",
   "execution_count": 302,
   "metadata": {},
   "outputs": [],
   "source": [
    "for inventor in inventor_set:\n",
    "    df_patents = pd.concat([df_patents, conn.query_inventor_profile(inventor)])"
   ]
  },
  {
   "cell_type": "code",
   "execution_count": 303,
   "metadata": {},
   "outputs": [
    {
     "data": {
      "text/html": [
       "<div>\n",
       "<style scoped>\n",
       "    .dataframe tbody tr th:only-of-type {\n",
       "        vertical-align: middle;\n",
       "    }\n",
       "\n",
       "    .dataframe tbody tr th {\n",
       "        vertical-align: top;\n",
       "    }\n",
       "\n",
       "    .dataframe thead th {\n",
       "        text-align: right;\n",
       "    }\n",
       "</style>\n",
       "<table border=\"1\" class=\"dataframe\">\n",
       "  <thead>\n",
       "    <tr style=\"text-align: right;\">\n",
       "      <th></th>\n",
       "      <th>inventor_id</th>\n",
       "      <th>patent_id</th>\n",
       "      <th>patent_date</th>\n",
       "    </tr>\n",
       "  </thead>\n",
       "  <tbody>\n",
       "    <tr>\n",
       "      <th>0</th>\n",
       "      <td>fl:p_ln:christenson-4</td>\n",
       "      <td>4361730</td>\n",
       "      <td>1982-11-30</td>\n",
       "    </tr>\n",
       "    <tr>\n",
       "      <th>1</th>\n",
       "      <td>fl:p_ln:christenson-4</td>\n",
       "      <td>5279294</td>\n",
       "      <td>1994-01-18</td>\n",
       "    </tr>\n",
       "    <tr>\n",
       "      <th>2</th>\n",
       "      <td>fl:p_ln:christenson-4</td>\n",
       "      <td>7706747</td>\n",
       "      <td>2010-04-27</td>\n",
       "    </tr>\n",
       "    <tr>\n",
       "      <th>3</th>\n",
       "      <td>fl:p_ln:christenson-4</td>\n",
       "      <td>6123577</td>\n",
       "      <td>2000-09-26</td>\n",
       "    </tr>\n",
       "    <tr>\n",
       "      <th>0</th>\n",
       "      <td>fl:s_ln:blumenau-2</td>\n",
       "      <td>7860986</td>\n",
       "      <td>2010-12-28</td>\n",
       "    </tr>\n",
       "  </tbody>\n",
       "</table>\n",
       "</div>"
      ],
      "text/plain": [
       "             inventor_id patent_id patent_date\n",
       "0  fl:p_ln:christenson-4   4361730  1982-11-30\n",
       "1  fl:p_ln:christenson-4   5279294  1994-01-18\n",
       "2  fl:p_ln:christenson-4   7706747  2010-04-27\n",
       "3  fl:p_ln:christenson-4   6123577  2000-09-26\n",
       "0     fl:s_ln:blumenau-2   7860986  2010-12-28"
      ]
     },
     "execution_count": 303,
     "metadata": {},
     "output_type": "execute_result"
    }
   ],
   "source": [
    "df_patents.head()"
   ]
  },
  {
   "cell_type": "code",
   "execution_count": 304,
   "metadata": {},
   "outputs": [
    {
     "data": {
      "text/html": [
       "<div>\n",
       "<style scoped>\n",
       "    .dataframe tbody tr th:only-of-type {\n",
       "        vertical-align: middle;\n",
       "    }\n",
       "\n",
       "    .dataframe tbody tr th {\n",
       "        vertical-align: top;\n",
       "    }\n",
       "\n",
       "    .dataframe thead th {\n",
       "        text-align: right;\n",
       "    }\n",
       "</style>\n",
       "<table border=\"1\" class=\"dataframe\">\n",
       "  <thead>\n",
       "    <tr style=\"text-align: right;\">\n",
       "      <th></th>\n",
       "      <th>patent_id</th>\n",
       "      <th>patent_date</th>\n",
       "    </tr>\n",
       "    <tr>\n",
       "      <th>inventor_id</th>\n",
       "      <th></th>\n",
       "      <th></th>\n",
       "    </tr>\n",
       "  </thead>\n",
       "  <tbody>\n",
       "    <tr>\n",
       "      <th>151eh25cg6vxrbv0ws37ap73w</th>\n",
       "      <td>1</td>\n",
       "      <td>1</td>\n",
       "    </tr>\n",
       "    <tr>\n",
       "      <th>2v8lf38ec7i7ju6yoh1m2r3w1</th>\n",
       "      <td>1</td>\n",
       "      <td>1</td>\n",
       "    </tr>\n",
       "    <tr>\n",
       "      <th>3b87n45c393xbs20rzr009jyr</th>\n",
       "      <td>1</td>\n",
       "      <td>1</td>\n",
       "    </tr>\n",
       "    <tr>\n",
       "      <th>4fc74yy2t1l1yxaupwzifh0zk</th>\n",
       "      <td>1</td>\n",
       "      <td>1</td>\n",
       "    </tr>\n",
       "    <tr>\n",
       "      <th>6axve4k099srymqrbtra9fomd</th>\n",
       "      <td>1</td>\n",
       "      <td>1</td>\n",
       "    </tr>\n",
       "    <tr>\n",
       "      <th>...</th>\n",
       "      <td>...</td>\n",
       "      <td>...</td>\n",
       "    </tr>\n",
       "    <tr>\n",
       "      <th>w9v2cvd89srv2arbe8p6mpsuo</th>\n",
       "      <td>1</td>\n",
       "      <td>1</td>\n",
       "    </tr>\n",
       "    <tr>\n",
       "      <th>xlp5zfjw0wj2ickdtcuopjqbq</th>\n",
       "      <td>1</td>\n",
       "      <td>1</td>\n",
       "    </tr>\n",
       "    <tr>\n",
       "      <th>y2wj8xpkyax4w4c8guha36bkb</th>\n",
       "      <td>1</td>\n",
       "      <td>1</td>\n",
       "    </tr>\n",
       "    <tr>\n",
       "      <th>yh382jcbnxcl5fwenv5hvub8m</th>\n",
       "      <td>1</td>\n",
       "      <td>1</td>\n",
       "    </tr>\n",
       "    <tr>\n",
       "      <th>zwbjom04kbg5ep7d40ih0ds6w</th>\n",
       "      <td>1</td>\n",
       "      <td>1</td>\n",
       "    </tr>\n",
       "  </tbody>\n",
       "</table>\n",
       "<p>1785 rows × 2 columns</p>\n",
       "</div>"
      ],
      "text/plain": [
       "                           patent_id  patent_date\n",
       "inventor_id                                      \n",
       "151eh25cg6vxrbv0ws37ap73w          1            1\n",
       "2v8lf38ec7i7ju6yoh1m2r3w1          1            1\n",
       "3b87n45c393xbs20rzr009jyr          1            1\n",
       "4fc74yy2t1l1yxaupwzifh0zk          1            1\n",
       "6axve4k099srymqrbtra9fomd          1            1\n",
       "...                              ...          ...\n",
       "w9v2cvd89srv2arbe8p6mpsuo          1            1\n",
       "xlp5zfjw0wj2ickdtcuopjqbq          1            1\n",
       "y2wj8xpkyax4w4c8guha36bkb          1            1\n",
       "yh382jcbnxcl5fwenv5hvub8m          1            1\n",
       "zwbjom04kbg5ep7d40ih0ds6w          1            1\n",
       "\n",
       "[1785 rows x 2 columns]"
      ]
     },
     "execution_count": 304,
     "metadata": {},
     "output_type": "execute_result"
    }
   ],
   "source": [
    "df_patents.groupby(['inventor_id']).count()"
   ]
  },
  {
   "cell_type": "markdown",
   "metadata": {},
   "source": [
    "## Sequential Patents\n",
    "Convert dates of patents into UNIX timestamp to allow for the sorting of the data. "
   ]
  },
  {
   "cell_type": "code",
   "execution_count": 305,
   "metadata": {},
   "outputs": [],
   "source": [
    "import datetime"
   ]
  },
  {
   "cell_type": "code",
   "execution_count": 306,
   "metadata": {},
   "outputs": [],
   "source": [
    "df_patents = df_patents.dropna()"
   ]
  },
  {
   "cell_type": "code",
   "execution_count": 307,
   "metadata": {},
   "outputs": [],
   "source": [
    "df_patents['patent_date'] = df_patents['patent_date'].astype(str).apply(datetime.datetime.strptime, args=(\"%Y-%m-%d\",))"
   ]
  },
  {
   "cell_type": "code",
   "execution_count": 308,
   "metadata": {},
   "outputs": [],
   "source": [
    "df_patents['patent_date'] = df_patents['patent_date'].apply(datetime.datetime.timestamp)"
   ]
  },
  {
   "cell_type": "code",
   "execution_count": 309,
   "metadata": {},
   "outputs": [
    {
     "data": {
      "text/html": [
       "<div>\n",
       "<style scoped>\n",
       "    .dataframe tbody tr th:only-of-type {\n",
       "        vertical-align: middle;\n",
       "    }\n",
       "\n",
       "    .dataframe tbody tr th {\n",
       "        vertical-align: top;\n",
       "    }\n",
       "\n",
       "    .dataframe thead th {\n",
       "        text-align: right;\n",
       "    }\n",
       "</style>\n",
       "<table border=\"1\" class=\"dataframe\">\n",
       "  <thead>\n",
       "    <tr style=\"text-align: right;\">\n",
       "      <th></th>\n",
       "      <th>inventor_id</th>\n",
       "      <th>patent_id</th>\n",
       "      <th>patent_date</th>\n",
       "    </tr>\n",
       "  </thead>\n",
       "  <tbody>\n",
       "    <tr>\n",
       "      <th>0</th>\n",
       "      <td>fl:p_ln:christenson-4</td>\n",
       "      <td>4361730</td>\n",
       "      <td>4.074840e+08</td>\n",
       "    </tr>\n",
       "    <tr>\n",
       "      <th>1</th>\n",
       "      <td>fl:p_ln:christenson-4</td>\n",
       "      <td>5279294</td>\n",
       "      <td>7.588728e+08</td>\n",
       "    </tr>\n",
       "    <tr>\n",
       "      <th>2</th>\n",
       "      <td>fl:p_ln:christenson-4</td>\n",
       "      <td>7706747</td>\n",
       "      <td>1.272344e+09</td>\n",
       "    </tr>\n",
       "    <tr>\n",
       "      <th>3</th>\n",
       "      <td>fl:p_ln:christenson-4</td>\n",
       "      <td>6123577</td>\n",
       "      <td>9.699444e+08</td>\n",
       "    </tr>\n",
       "    <tr>\n",
       "      <th>0</th>\n",
       "      <td>fl:s_ln:blumenau-2</td>\n",
       "      <td>7860986</td>\n",
       "      <td>1.293516e+09</td>\n",
       "    </tr>\n",
       "  </tbody>\n",
       "</table>\n",
       "</div>"
      ],
      "text/plain": [
       "             inventor_id patent_id   patent_date\n",
       "0  fl:p_ln:christenson-4   4361730  4.074840e+08\n",
       "1  fl:p_ln:christenson-4   5279294  7.588728e+08\n",
       "2  fl:p_ln:christenson-4   7706747  1.272344e+09\n",
       "3  fl:p_ln:christenson-4   6123577  9.699444e+08\n",
       "0     fl:s_ln:blumenau-2   7860986  1.293516e+09"
      ]
     },
     "execution_count": 309,
     "metadata": {},
     "output_type": "execute_result"
    }
   ],
   "source": [
    "df_patents.head()"
   ]
  },
  {
   "cell_type": "code",
   "execution_count": 310,
   "metadata": {},
   "outputs": [],
   "source": [
    "patent_list = list(set(df_patents['patent_id']))"
   ]
  },
  {
   "cell_type": "code",
   "execution_count": 311,
   "metadata": {},
   "outputs": [
    {
     "data": {
      "text/plain": [
       "47764"
      ]
     },
     "execution_count": 311,
     "metadata": {},
     "output_type": "execute_result"
    }
   ],
   "source": [
    "len(patent_list)"
   ]
  },
  {
   "cell_type": "markdown",
   "metadata": {},
   "source": [
    "## Patent Statistics\n",
    "Obtain patent level statistics for each of the patent that we have. This would allow the understanding of how the patents of specific inventors behave "
   ]
  },
  {
   "cell_type": "code",
   "execution_count": 312,
   "metadata": {},
   "outputs": [],
   "source": [
    "patent_info = conn.query_batch_patent_info(patent_list)"
   ]
  },
  {
   "cell_type": "code",
   "execution_count": 313,
   "metadata": {},
   "outputs": [],
   "source": [
    "# patent_info returns a list of patent information \n",
    "# this line combines them\n",
    "df_info = reduce(lambda left,right: pd.merge(left,right,on=['patent_id'],\n",
    "                                            how='outer'), patent_info)"
   ]
  },
  {
   "cell_type": "code",
   "execution_count": 314,
   "metadata": {},
   "outputs": [
    {
     "name": "stdout",
     "output_type": "stream",
     "text": [
      "<class 'pandas.core.frame.DataFrame'>\n",
      "Int64Index: 189834 entries, 0 to 189833\n",
      "Data columns (total 9 columns):\n",
      " #   Column         Non-Null Count   Dtype  \n",
      "---  ------         --------------   -----  \n",
      " 0   patent_id      189834 non-null  object \n",
      " 1   num_citations  138038 non-null  float64\n",
      " 2   organization   186776 non-null  object \n",
      " 3   name           185794 non-null  object \n",
      " 4   org_type       186292 non-null  object \n",
      " 5   inventor_id    189834 non-null  object \n",
      " 6   county_fips    130471 non-null  object \n",
      " 7   city           183145 non-null  object \n",
      " 8   state          146503 non-null  object \n",
      "dtypes: float64(1), object(8)\n",
      "memory usage: 14.5+ MB\n"
     ]
    }
   ],
   "source": [
    "df_info.info()"
   ]
  },
  {
   "cell_type": "code",
   "execution_count": 315,
   "metadata": {},
   "outputs": [],
   "source": [
    "# Fill the number of citations that are NA to 0\n",
    "df_info['num_citations'] = df_info['num_citations'].fillna(0)"
   ]
  },
  {
   "cell_type": "code",
   "execution_count": 316,
   "metadata": {},
   "outputs": [],
   "source": [
    "df_info = df_info.drop_duplicates()"
   ]
  },
  {
   "cell_type": "code",
   "execution_count": 317,
   "metadata": {},
   "outputs": [],
   "source": [
    "df_info = df_info.groupby('patent_id').agg(lambda x: set(x)).reset_index()"
   ]
  },
  {
   "cell_type": "code",
   "execution_count": 318,
   "metadata": {},
   "outputs": [],
   "source": [
    "df_info = df_info.applymap(lambda x: x.pop() if (len(x) == 1) else x)"
   ]
  },
  {
   "cell_type": "code",
   "execution_count": 319,
   "metadata": {},
   "outputs": [
    {
     "name": "stdout",
     "output_type": "stream",
     "text": [
      "<class 'pandas.core.frame.DataFrame'>\n",
      "RangeIndex: 47764 entries, 0 to 47763\n",
      "Data columns (total 9 columns):\n",
      " #   Column         Non-Null Count  Dtype  \n",
      "---  ------         --------------  -----  \n",
      " 0   patent_id      47764 non-null  object \n",
      " 1   num_citations  47764 non-null  float64\n",
      " 2   organization   46264 non-null  object \n",
      " 3   name           46082 non-null  object \n",
      " 4   org_type       46135 non-null  object \n",
      " 5   inventor_id    47764 non-null  object \n",
      " 6   county_fips    33453 non-null  object \n",
      " 7   city           45193 non-null  object \n",
      " 8   state          37586 non-null  object \n",
      "dtypes: float64(1), object(8)\n",
      "memory usage: 3.3+ MB\n"
     ]
    }
   ],
   "source": [
    "df_info.info()"
   ]
  },
  {
   "cell_type": "code",
   "execution_count": 320,
   "metadata": {},
   "outputs": [
    {
     "data": {
      "text/html": [
       "<div>\n",
       "<style scoped>\n",
       "    .dataframe tbody tr th:only-of-type {\n",
       "        vertical-align: middle;\n",
       "    }\n",
       "\n",
       "    .dataframe tbody tr th {\n",
       "        vertical-align: top;\n",
       "    }\n",
       "\n",
       "    .dataframe thead th {\n",
       "        text-align: right;\n",
       "    }\n",
       "</style>\n",
       "<table border=\"1\" class=\"dataframe\">\n",
       "  <thead>\n",
       "    <tr style=\"text-align: right;\">\n",
       "      <th></th>\n",
       "      <th>patent_id</th>\n",
       "      <th>num_citations</th>\n",
       "      <th>organization</th>\n",
       "      <th>name</th>\n",
       "      <th>org_type</th>\n",
       "      <th>inventor_id</th>\n",
       "      <th>county_fips</th>\n",
       "      <th>city</th>\n",
       "      <th>state</th>\n",
       "    </tr>\n",
       "  </thead>\n",
       "  <tbody>\n",
       "    <tr>\n",
       "      <th>0</th>\n",
       "      <td>10000714</td>\n",
       "      <td>0.0</td>\n",
       "      <td>4f322ef0-cdb2-4709-913f-eee9c00cbdab</td>\n",
       "      <td>Cerion LLC</td>\n",
       "      <td>2.0</td>\n",
       "      <td>{fl:a_ln:difrancesco-1, fl:r_ln:hailstone-1, f...</td>\n",
       "      <td>36055.0</td>\n",
       "      <td>Rochester</td>\n",
       "      <td>NY</td>\n",
       "    </tr>\n",
       "    <tr>\n",
       "      <th>1</th>\n",
       "      <td>10001450</td>\n",
       "      <td>0.0</td>\n",
       "      <td>1fcf17fc-565e-45fd-92cc-e5399660c4f5</td>\n",
       "      <td>MEDTRONIC MINIMED, INC.</td>\n",
       "      <td>2.0</td>\n",
       "      <td>{fl:b_ln:grosman-1, fl:j_ln:mastrototaro-1, fl...</td>\n",
       "      <td>None</td>\n",
       "      <td>Northridge</td>\n",
       "      <td>CA</td>\n",
       "    </tr>\n",
       "    <tr>\n",
       "      <th>2</th>\n",
       "      <td>10001817</td>\n",
       "      <td>15.0</td>\n",
       "      <td>67ab24af-95db-477c-b444-1d81ecab0c54</td>\n",
       "      <td>Apple Inc.</td>\n",
       "      <td>2.0</td>\n",
       "      <td>{fl:d_ln:kerr-1, fl:c_ln:karunamuni-2, fl:a_ln...</td>\n",
       "      <td>6085.0</td>\n",
       "      <td>Cupertino</td>\n",
       "      <td>CA</td>\n",
       "    </tr>\n",
       "    <tr>\n",
       "      <th>3</th>\n",
       "      <td>10002121</td>\n",
       "      <td>0.0</td>\n",
       "      <td>67ab24af-95db-477c-b444-1d81ecab0c54</td>\n",
       "      <td>Apple Inc.</td>\n",
       "      <td>2.0</td>\n",
       "      <td>{fl:c_ln:karunamuni-2, fl:g_ln:steele-4, fl:p_...</td>\n",
       "      <td>6085.0</td>\n",
       "      <td>Cupertino</td>\n",
       "      <td>CA</td>\n",
       "    </tr>\n",
       "    <tr>\n",
       "      <th>4</th>\n",
       "      <td>10002199</td>\n",
       "      <td>1.0</td>\n",
       "      <td>67ab24af-95db-477c-b444-1d81ecab0c54</td>\n",
       "      <td>Apple Inc.</td>\n",
       "      <td>2.0</td>\n",
       "      <td>{fl:l_ln:soto matamala-1, fl:r_ln:huang-6, fl:...</td>\n",
       "      <td>6085.0</td>\n",
       "      <td>Cupertino</td>\n",
       "      <td>CA</td>\n",
       "    </tr>\n",
       "  </tbody>\n",
       "</table>\n",
       "</div>"
      ],
      "text/plain": [
       "  patent_id  num_citations                          organization  \\\n",
       "0  10000714            0.0  4f322ef0-cdb2-4709-913f-eee9c00cbdab   \n",
       "1  10001450            0.0  1fcf17fc-565e-45fd-92cc-e5399660c4f5   \n",
       "2  10001817           15.0  67ab24af-95db-477c-b444-1d81ecab0c54   \n",
       "3  10002121            0.0  67ab24af-95db-477c-b444-1d81ecab0c54   \n",
       "4  10002199            1.0  67ab24af-95db-477c-b444-1d81ecab0c54   \n",
       "\n",
       "                      name org_type  \\\n",
       "0               Cerion LLC      2.0   \n",
       "1  MEDTRONIC MINIMED, INC.      2.0   \n",
       "2               Apple Inc.      2.0   \n",
       "3               Apple Inc.      2.0   \n",
       "4               Apple Inc.      2.0   \n",
       "\n",
       "                                         inventor_id county_fips        city  \\\n",
       "0  {fl:a_ln:difrancesco-1, fl:r_ln:hailstone-1, f...     36055.0   Rochester   \n",
       "1  {fl:b_ln:grosman-1, fl:j_ln:mastrototaro-1, fl...        None  Northridge   \n",
       "2  {fl:d_ln:kerr-1, fl:c_ln:karunamuni-2, fl:a_ln...      6085.0   Cupertino   \n",
       "3  {fl:c_ln:karunamuni-2, fl:g_ln:steele-4, fl:p_...      6085.0   Cupertino   \n",
       "4  {fl:l_ln:soto matamala-1, fl:r_ln:huang-6, fl:...      6085.0   Cupertino   \n",
       "\n",
       "  state  \n",
       "0    NY  \n",
       "1    CA  \n",
       "2    CA  \n",
       "3    CA  \n",
       "4    CA  "
      ]
     },
     "execution_count": 320,
     "metadata": {},
     "output_type": "execute_result"
    }
   ],
   "source": [
    "df_info.head()"
   ]
  },
  {
   "cell_type": "code",
   "execution_count": 321,
   "metadata": {},
   "outputs": [],
   "source": [
    "df_info = df_info.rename(columns={\"inventor_id\":\"inventor_set\"})"
   ]
  },
  {
   "cell_type": "markdown",
   "metadata": {},
   "source": [
    "## Putting Things Together\n",
    "In order to understand the behavior of inventor post-peak, we take the lead of the inventor and observe if the future inventor set is the same as the past"
   ]
  },
  {
   "cell_type": "code",
   "execution_count": 322,
   "metadata": {},
   "outputs": [],
   "source": [
    "df = pd.merge(df_patents, df_info, on='patent_id', how='left')"
   ]
  },
  {
   "cell_type": "code",
   "execution_count": 323,
   "metadata": {},
   "outputs": [
    {
     "data": {
      "text/html": [
       "<div>\n",
       "<style scoped>\n",
       "    .dataframe tbody tr th:only-of-type {\n",
       "        vertical-align: middle;\n",
       "    }\n",
       "\n",
       "    .dataframe tbody tr th {\n",
       "        vertical-align: top;\n",
       "    }\n",
       "\n",
       "    .dataframe thead th {\n",
       "        text-align: right;\n",
       "    }\n",
       "</style>\n",
       "<table border=\"1\" class=\"dataframe\">\n",
       "  <thead>\n",
       "    <tr style=\"text-align: right;\">\n",
       "      <th></th>\n",
       "      <th>inventor_id</th>\n",
       "      <th>patent_id</th>\n",
       "      <th>patent_date</th>\n",
       "      <th>num_citations</th>\n",
       "      <th>organization</th>\n",
       "      <th>name</th>\n",
       "      <th>org_type</th>\n",
       "      <th>inventor_set</th>\n",
       "      <th>county_fips</th>\n",
       "      <th>city</th>\n",
       "      <th>state</th>\n",
       "    </tr>\n",
       "  </thead>\n",
       "  <tbody>\n",
       "    <tr>\n",
       "      <th>0</th>\n",
       "      <td>fl:p_ln:christenson-4</td>\n",
       "      <td>4361730</td>\n",
       "      <td>4.074840e+08</td>\n",
       "      <td>167.0</td>\n",
       "      <td>d70ec079-b006-47b7-8d94-ab9a2ec9df72</td>\n",
       "      <td>Warner Communications Inc.</td>\n",
       "      <td>2.0</td>\n",
       "      <td>{fl:p_ln:christenson-4, gwobjm59am226gws58l4a1...</td>\n",
       "      <td>36061.0</td>\n",
       "      <td>New York</td>\n",
       "      <td>NY</td>\n",
       "    </tr>\n",
       "    <tr>\n",
       "      <th>1</th>\n",
       "      <td>fl:p_ln:christenson-4</td>\n",
       "      <td>5279294</td>\n",
       "      <td>7.588728e+08</td>\n",
       "      <td>922.0</td>\n",
       "      <td>afe42393-0182-4491-b770-d6e2c747eada</td>\n",
       "      <td>Cascade Corporation</td>\n",
       "      <td>2.0</td>\n",
       "      <td>{fl:r_ln:jessen-2, fl:p_ln:christenson-4, fl:p...</td>\n",
       "      <td>27053.0</td>\n",
       "      <td>Eden Prairie</td>\n",
       "      <td>MN</td>\n",
       "    </tr>\n",
       "    <tr>\n",
       "      <th>2</th>\n",
       "      <td>fl:p_ln:christenson-4</td>\n",
       "      <td>7706747</td>\n",
       "      <td>1.272344e+09</td>\n",
       "      <td>5.0</td>\n",
       "      <td>e7e573ed-869d-437a-b9ec-dc5d86ee3700</td>\n",
       "      <td>The DIRECTV Group, Inc.</td>\n",
       "      <td>2.0</td>\n",
       "      <td>{fl:p_ln:christenson-4, fl:w_ln:ladrach-1, fl:...</td>\n",
       "      <td>6037.0</td>\n",
       "      <td>El Segundo</td>\n",
       "      <td>CA</td>\n",
       "    </tr>\n",
       "    <tr>\n",
       "      <th>3</th>\n",
       "      <td>fl:p_ln:christenson-4</td>\n",
       "      <td>6123577</td>\n",
       "      <td>9.699444e+08</td>\n",
       "      <td>82.0</td>\n",
       "      <td>5fd2bfaa-f87a-4e2f-a049-842eddf06d99</td>\n",
       "      <td>Energy Transformation Systems, Inc.</td>\n",
       "      <td>2.0</td>\n",
       "      <td>{fl:p_ln:christenson-4, fl:d_ln:contois-3, fl:...</td>\n",
       "      <td>6081.0</td>\n",
       "      <td>Menlo Park</td>\n",
       "      <td>CA</td>\n",
       "    </tr>\n",
       "    <tr>\n",
       "      <th>4</th>\n",
       "      <td>fl:s_ln:blumenau-2</td>\n",
       "      <td>7860986</td>\n",
       "      <td>1.293516e+09</td>\n",
       "      <td>4.0</td>\n",
       "      <td>36bbeb70-9f21-4de3-8f53-01b9fed11e90</td>\n",
       "      <td>EMC IP Holding Company LLC</td>\n",
       "      <td>2.0</td>\n",
       "      <td>{fl:c_ln:hackett-5, fl:m_ln:derrico-2, fl:s_ln...</td>\n",
       "      <td>25017.0</td>\n",
       "      <td>Hopkinton</td>\n",
       "      <td>MA</td>\n",
       "    </tr>\n",
       "  </tbody>\n",
       "</table>\n",
       "</div>"
      ],
      "text/plain": [
       "             inventor_id patent_id   patent_date  num_citations  \\\n",
       "0  fl:p_ln:christenson-4   4361730  4.074840e+08          167.0   \n",
       "1  fl:p_ln:christenson-4   5279294  7.588728e+08          922.0   \n",
       "2  fl:p_ln:christenson-4   7706747  1.272344e+09            5.0   \n",
       "3  fl:p_ln:christenson-4   6123577  9.699444e+08           82.0   \n",
       "4     fl:s_ln:blumenau-2   7860986  1.293516e+09            4.0   \n",
       "\n",
       "                           organization                                 name  \\\n",
       "0  d70ec079-b006-47b7-8d94-ab9a2ec9df72           Warner Communications Inc.   \n",
       "1  afe42393-0182-4491-b770-d6e2c747eada                  Cascade Corporation   \n",
       "2  e7e573ed-869d-437a-b9ec-dc5d86ee3700              The DIRECTV Group, Inc.   \n",
       "3  5fd2bfaa-f87a-4e2f-a049-842eddf06d99  Energy Transformation Systems, Inc.   \n",
       "4  36bbeb70-9f21-4de3-8f53-01b9fed11e90           EMC IP Holding Company LLC   \n",
       "\n",
       "  org_type                                       inventor_set county_fips  \\\n",
       "0      2.0  {fl:p_ln:christenson-4, gwobjm59am226gws58l4a1...     36061.0   \n",
       "1      2.0  {fl:r_ln:jessen-2, fl:p_ln:christenson-4, fl:p...     27053.0   \n",
       "2      2.0  {fl:p_ln:christenson-4, fl:w_ln:ladrach-1, fl:...      6037.0   \n",
       "3      2.0  {fl:p_ln:christenson-4, fl:d_ln:contois-3, fl:...      6081.0   \n",
       "4      2.0  {fl:c_ln:hackett-5, fl:m_ln:derrico-2, fl:s_ln...     25017.0   \n",
       "\n",
       "           city state  \n",
       "0      New York    NY  \n",
       "1  Eden Prairie    MN  \n",
       "2    El Segundo    CA  \n",
       "3    Menlo Park    CA  \n",
       "4     Hopkinton    MA  "
      ]
     },
     "execution_count": 323,
     "metadata": {},
     "output_type": "execute_result"
    }
   ],
   "source": [
    "df.head()"
   ]
  },
  {
   "cell_type": "code",
   "execution_count": 324,
   "metadata": {},
   "outputs": [],
   "source": [
    "# Evaluate number of inventors in the team as well as the assignees of the patent\n",
    "df['team_size'] = df['inventor_set'].apply(lambda x: len(x) if type(x) is set else 1)\n",
    "df['num_assignees'] = df['organization'].apply(lambda x: len(x) if type(x) is set else 1)"
   ]
  },
  {
   "cell_type": "code",
   "execution_count": 325,
   "metadata": {},
   "outputs": [],
   "source": [
    "# Sort values of inventor and patent date and create \"lead\" on columns for organization and inventor set\n",
    "df = df.sort_values(by=[\"inventor_id\", \"patent_date\"], ascending=[True, True])\n",
    "shifted = df[['inventor_id', \"organization\", \"inventor_set\"]].groupby(\"inventor_id\").shift(1)\n",
    "df = df.join(shifted.rename(columns=lambda x: x+\"_lead\"))"
   ]
  },
  {
   "cell_type": "code",
   "execution_count": 326,
   "metadata": {},
   "outputs": [],
   "source": [
    "# Evaluate if the current inventor set is the same as the previous inventor set\n",
    "df[\"same_prev_team\"] = (df[\"inventor_set\"] == df[\"inventor_set_lead\"]).astype(int)\n",
    "df[\"same_prev_assignee\"] = (df[\"organization\"] == df[\"organization_lead\"]).astype(int)"
   ]
  },
  {
   "cell_type": "code",
   "execution_count": 327,
   "metadata": {},
   "outputs": [
    {
     "data": {
      "text/html": [
       "<div>\n",
       "<style scoped>\n",
       "    .dataframe tbody tr th:only-of-type {\n",
       "        vertical-align: middle;\n",
       "    }\n",
       "\n",
       "    .dataframe tbody tr th {\n",
       "        vertical-align: top;\n",
       "    }\n",
       "\n",
       "    .dataframe thead th {\n",
       "        text-align: right;\n",
       "    }\n",
       "</style>\n",
       "<table border=\"1\" class=\"dataframe\">\n",
       "  <thead>\n",
       "    <tr style=\"text-align: right;\">\n",
       "      <th></th>\n",
       "      <th>inventor_id</th>\n",
       "      <th>patent_id</th>\n",
       "      <th>patent_date</th>\n",
       "      <th>num_citations</th>\n",
       "      <th>organization</th>\n",
       "      <th>name</th>\n",
       "      <th>org_type</th>\n",
       "      <th>inventor_set</th>\n",
       "      <th>county_fips</th>\n",
       "      <th>city</th>\n",
       "      <th>state</th>\n",
       "      <th>team_size</th>\n",
       "      <th>num_assignees</th>\n",
       "      <th>organization_lead</th>\n",
       "      <th>inventor_set_lead</th>\n",
       "      <th>same_prev_team</th>\n",
       "      <th>same_prev_assignee</th>\n",
       "    </tr>\n",
       "  </thead>\n",
       "  <tbody>\n",
       "    <tr>\n",
       "      <th>65611</th>\n",
       "      <td>151eh25cg6vxrbv0ws37ap73w</td>\n",
       "      <td>5179517</td>\n",
       "      <td>7.268184e+08</td>\n",
       "      <td>867.0</td>\n",
       "      <td>d825b74b-dd8e-4345-84ad-43951b87c34a</td>\n",
       "      <td>Bally Technology, Inc.</td>\n",
       "      <td>2.0</td>\n",
       "      <td>{fl:w_ln:wellman-7, 151eh25cg6vxrbv0ws37ap73w,...</td>\n",
       "      <td>17031.0</td>\n",
       "      <td>Chicago</td>\n",
       "      <td>IL</td>\n",
       "      <td>4</td>\n",
       "      <td>1</td>\n",
       "      <td>NaN</td>\n",
       "      <td>NaN</td>\n",
       "      <td>0</td>\n",
       "      <td>0</td>\n",
       "    </tr>\n",
       "    <tr>\n",
       "      <th>24049</th>\n",
       "      <td>2v8lf38ec7i7ju6yoh1m2r3w1</td>\n",
       "      <td>5710887</td>\n",
       "      <td>8.852760e+08</td>\n",
       "      <td>1594.0</td>\n",
       "      <td>7709b401-8dc1-4e01-922c-2876cb2be714</td>\n",
       "      <td>BroadVision, Inc.</td>\n",
       "      <td>2.0</td>\n",
       "      <td>{fl:w_ln:yamamoto-5, fl:j_ln:hempe-2, fl:e_ln:...</td>\n",
       "      <td>6085.0</td>\n",
       "      <td>Los Altos</td>\n",
       "      <td>CA</td>\n",
       "      <td>11</td>\n",
       "      <td>1</td>\n",
       "      <td>NaN</td>\n",
       "      <td>NaN</td>\n",
       "      <td>0</td>\n",
       "      <td>0</td>\n",
       "    </tr>\n",
       "    <tr>\n",
       "      <th>20401</th>\n",
       "      <td>3b87n45c393xbs20rzr009jyr</td>\n",
       "      <td>5165407</td>\n",
       "      <td>7.225848e+08</td>\n",
       "      <td>1167.0</td>\n",
       "      <td>7bddc197-41c1-4dad-a4e4-e8f790cefc83</td>\n",
       "      <td>THE UNIVERSITY OF KANSAS</td>\n",
       "      <td>2.0</td>\n",
       "      <td>{fl:g_ln:wilson-66, fl:b_ln:hill-13, 3b87n45c3...</td>\n",
       "      <td>20045.0</td>\n",
       "      <td>Lawrence</td>\n",
       "      <td>KS</td>\n",
       "      <td>7</td>\n",
       "      <td>1</td>\n",
       "      <td>NaN</td>\n",
       "      <td>NaN</td>\n",
       "      <td>0</td>\n",
       "      <td>0</td>\n",
       "    </tr>\n",
       "    <tr>\n",
       "      <th>32701</th>\n",
       "      <td>4fc74yy2t1l1yxaupwzifh0zk</td>\n",
       "      <td>5523520</td>\n",
       "      <td>8.338644e+08</td>\n",
       "      <td>3899.0</td>\n",
       "      <td>2e224e60-7c41-4fa7-aa17-b4560350f966</td>\n",
       "      <td>Goldsmith Seeds Europe B.V.</td>\n",
       "      <td>3.0</td>\n",
       "      <td>{4fc74yy2t1l1yxaupwzifh0zk, fl:m_ln:holtrop-2}</td>\n",
       "      <td>6085.0</td>\n",
       "      <td>Gilroy</td>\n",
       "      <td>CA</td>\n",
       "      <td>2</td>\n",
       "      <td>1</td>\n",
       "      <td>NaN</td>\n",
       "      <td>NaN</td>\n",
       "      <td>0</td>\n",
       "      <td>0</td>\n",
       "    </tr>\n",
       "    <tr>\n",
       "      <th>23459</th>\n",
       "      <td>6axve4k099srymqrbtra9fomd</td>\n",
       "      <td>6676660</td>\n",
       "      <td>1.073974e+09</td>\n",
       "      <td>918.0</td>\n",
       "      <td>d463aba3-a1e4-4301-ab42-1d9d6fc3a82e</td>\n",
       "      <td>Ethicon Endo-Surgery, Inc.</td>\n",
       "      <td>2.0</td>\n",
       "      <td>{fl:j_ln:vaitekunas-1, fl:s_ln:wampler-1, 6axv...</td>\n",
       "      <td>39061.0</td>\n",
       "      <td>Cincinnati</td>\n",
       "      <td>OH</td>\n",
       "      <td>6</td>\n",
       "      <td>1</td>\n",
       "      <td>NaN</td>\n",
       "      <td>NaN</td>\n",
       "      <td>0</td>\n",
       "      <td>0</td>\n",
       "    </tr>\n",
       "  </tbody>\n",
       "</table>\n",
       "</div>"
      ],
      "text/plain": [
       "                     inventor_id patent_id   patent_date  num_citations  \\\n",
       "65611  151eh25cg6vxrbv0ws37ap73w   5179517  7.268184e+08          867.0   \n",
       "24049  2v8lf38ec7i7ju6yoh1m2r3w1   5710887  8.852760e+08         1594.0   \n",
       "20401  3b87n45c393xbs20rzr009jyr   5165407  7.225848e+08         1167.0   \n",
       "32701  4fc74yy2t1l1yxaupwzifh0zk   5523520  8.338644e+08         3899.0   \n",
       "23459  6axve4k099srymqrbtra9fomd   6676660  1.073974e+09          918.0   \n",
       "\n",
       "                               organization                         name  \\\n",
       "65611  d825b74b-dd8e-4345-84ad-43951b87c34a       Bally Technology, Inc.   \n",
       "24049  7709b401-8dc1-4e01-922c-2876cb2be714            BroadVision, Inc.   \n",
       "20401  7bddc197-41c1-4dad-a4e4-e8f790cefc83     THE UNIVERSITY OF KANSAS   \n",
       "32701  2e224e60-7c41-4fa7-aa17-b4560350f966  Goldsmith Seeds Europe B.V.   \n",
       "23459  d463aba3-a1e4-4301-ab42-1d9d6fc3a82e   Ethicon Endo-Surgery, Inc.   \n",
       "\n",
       "      org_type                                       inventor_set county_fips  \\\n",
       "65611      2.0  {fl:w_ln:wellman-7, 151eh25cg6vxrbv0ws37ap73w,...     17031.0   \n",
       "24049      2.0  {fl:w_ln:yamamoto-5, fl:j_ln:hempe-2, fl:e_ln:...      6085.0   \n",
       "20401      2.0  {fl:g_ln:wilson-66, fl:b_ln:hill-13, 3b87n45c3...     20045.0   \n",
       "32701      3.0     {4fc74yy2t1l1yxaupwzifh0zk, fl:m_ln:holtrop-2}      6085.0   \n",
       "23459      2.0  {fl:j_ln:vaitekunas-1, fl:s_ln:wampler-1, 6axv...     39061.0   \n",
       "\n",
       "             city state  team_size  num_assignees organization_lead  \\\n",
       "65611     Chicago    IL          4              1               NaN   \n",
       "24049   Los Altos    CA         11              1               NaN   \n",
       "20401    Lawrence    KS          7              1               NaN   \n",
       "32701      Gilroy    CA          2              1               NaN   \n",
       "23459  Cincinnati    OH          6              1               NaN   \n",
       "\n",
       "      inventor_set_lead  same_prev_team  same_prev_assignee  \n",
       "65611               NaN               0                   0  \n",
       "24049               NaN               0                   0  \n",
       "20401               NaN               0                   0  \n",
       "32701               NaN               0                   0  \n",
       "23459               NaN               0                   0  "
      ]
     },
     "execution_count": 327,
     "metadata": {},
     "output_type": "execute_result"
    }
   ],
   "source": [
    "df.head()"
   ]
  },
  {
   "cell_type": "code",
   "execution_count": 328,
   "metadata": {},
   "outputs": [],
   "source": [
    "columns = [\"inventor_id\",\"patent_id\",\"patent_date\",\"num_citations\",\"team_size\",\"num_assignees\",\"same_prev_assignee\",\"same_prev_team\"]\n",
    "df[columns].to_csv(\"inventor_profiles.csv\", index=False)"
   ]
  },
  {
   "cell_type": "code",
   "execution_count": 329,
   "metadata": {},
   "outputs": [
    {
     "data": {
      "text/html": [
       "<div>\n",
       "<style scoped>\n",
       "    .dataframe tbody tr th:only-of-type {\n",
       "        vertical-align: middle;\n",
       "    }\n",
       "\n",
       "    .dataframe tbody tr th {\n",
       "        vertical-align: top;\n",
       "    }\n",
       "\n",
       "    .dataframe thead th {\n",
       "        text-align: right;\n",
       "    }\n",
       "</style>\n",
       "<table border=\"1\" class=\"dataframe\">\n",
       "  <thead>\n",
       "    <tr style=\"text-align: right;\">\n",
       "      <th></th>\n",
       "      <th>inventor_id</th>\n",
       "      <th>patent_id</th>\n",
       "      <th>patent_date</th>\n",
       "      <th>num_citations</th>\n",
       "      <th>organization</th>\n",
       "      <th>name</th>\n",
       "      <th>org_type</th>\n",
       "      <th>inventor_set</th>\n",
       "      <th>county_fips</th>\n",
       "      <th>city</th>\n",
       "      <th>state</th>\n",
       "      <th>team_size</th>\n",
       "      <th>num_assignees</th>\n",
       "      <th>organization_lead</th>\n",
       "      <th>inventor_set_lead</th>\n",
       "      <th>same_prev_team</th>\n",
       "      <th>same_prev_assignee</th>\n",
       "    </tr>\n",
       "  </thead>\n",
       "  <tbody>\n",
       "    <tr>\n",
       "      <th>65611</th>\n",
       "      <td>151eh25cg6vxrbv0ws37ap73w</td>\n",
       "      <td>5179517</td>\n",
       "      <td>7.268184e+08</td>\n",
       "      <td>867.0</td>\n",
       "      <td>d825b74b-dd8e-4345-84ad-43951b87c34a</td>\n",
       "      <td>Bally Technology, Inc.</td>\n",
       "      <td>2.0</td>\n",
       "      <td>{fl:w_ln:wellman-7, 151eh25cg6vxrbv0ws37ap73w,...</td>\n",
       "      <td>17031.0</td>\n",
       "      <td>Chicago</td>\n",
       "      <td>IL</td>\n",
       "      <td>4</td>\n",
       "      <td>1</td>\n",
       "      <td>NaN</td>\n",
       "      <td>NaN</td>\n",
       "      <td>0</td>\n",
       "      <td>0</td>\n",
       "    </tr>\n",
       "    <tr>\n",
       "      <th>24049</th>\n",
       "      <td>2v8lf38ec7i7ju6yoh1m2r3w1</td>\n",
       "      <td>5710887</td>\n",
       "      <td>8.852760e+08</td>\n",
       "      <td>1594.0</td>\n",
       "      <td>7709b401-8dc1-4e01-922c-2876cb2be714</td>\n",
       "      <td>BroadVision, Inc.</td>\n",
       "      <td>2.0</td>\n",
       "      <td>{fl:w_ln:yamamoto-5, fl:j_ln:hempe-2, fl:e_ln:...</td>\n",
       "      <td>6085.0</td>\n",
       "      <td>Los Altos</td>\n",
       "      <td>CA</td>\n",
       "      <td>11</td>\n",
       "      <td>1</td>\n",
       "      <td>NaN</td>\n",
       "      <td>NaN</td>\n",
       "      <td>0</td>\n",
       "      <td>0</td>\n",
       "    </tr>\n",
       "    <tr>\n",
       "      <th>20401</th>\n",
       "      <td>3b87n45c393xbs20rzr009jyr</td>\n",
       "      <td>5165407</td>\n",
       "      <td>7.225848e+08</td>\n",
       "      <td>1167.0</td>\n",
       "      <td>7bddc197-41c1-4dad-a4e4-e8f790cefc83</td>\n",
       "      <td>THE UNIVERSITY OF KANSAS</td>\n",
       "      <td>2.0</td>\n",
       "      <td>{fl:g_ln:wilson-66, fl:b_ln:hill-13, 3b87n45c3...</td>\n",
       "      <td>20045.0</td>\n",
       "      <td>Lawrence</td>\n",
       "      <td>KS</td>\n",
       "      <td>7</td>\n",
       "      <td>1</td>\n",
       "      <td>NaN</td>\n",
       "      <td>NaN</td>\n",
       "      <td>0</td>\n",
       "      <td>0</td>\n",
       "    </tr>\n",
       "    <tr>\n",
       "      <th>32701</th>\n",
       "      <td>4fc74yy2t1l1yxaupwzifh0zk</td>\n",
       "      <td>5523520</td>\n",
       "      <td>8.338644e+08</td>\n",
       "      <td>3899.0</td>\n",
       "      <td>2e224e60-7c41-4fa7-aa17-b4560350f966</td>\n",
       "      <td>Goldsmith Seeds Europe B.V.</td>\n",
       "      <td>3.0</td>\n",
       "      <td>{4fc74yy2t1l1yxaupwzifh0zk, fl:m_ln:holtrop-2}</td>\n",
       "      <td>6085.0</td>\n",
       "      <td>Gilroy</td>\n",
       "      <td>CA</td>\n",
       "      <td>2</td>\n",
       "      <td>1</td>\n",
       "      <td>NaN</td>\n",
       "      <td>NaN</td>\n",
       "      <td>0</td>\n",
       "      <td>0</td>\n",
       "    </tr>\n",
       "    <tr>\n",
       "      <th>23459</th>\n",
       "      <td>6axve4k099srymqrbtra9fomd</td>\n",
       "      <td>6676660</td>\n",
       "      <td>1.073974e+09</td>\n",
       "      <td>918.0</td>\n",
       "      <td>d463aba3-a1e4-4301-ab42-1d9d6fc3a82e</td>\n",
       "      <td>Ethicon Endo-Surgery, Inc.</td>\n",
       "      <td>2.0</td>\n",
       "      <td>{fl:j_ln:vaitekunas-1, fl:s_ln:wampler-1, 6axv...</td>\n",
       "      <td>39061.0</td>\n",
       "      <td>Cincinnati</td>\n",
       "      <td>OH</td>\n",
       "      <td>6</td>\n",
       "      <td>1</td>\n",
       "      <td>NaN</td>\n",
       "      <td>NaN</td>\n",
       "      <td>0</td>\n",
       "      <td>0</td>\n",
       "    </tr>\n",
       "  </tbody>\n",
       "</table>\n",
       "</div>"
      ],
      "text/plain": [
       "                     inventor_id patent_id   patent_date  num_citations  \\\n",
       "65611  151eh25cg6vxrbv0ws37ap73w   5179517  7.268184e+08          867.0   \n",
       "24049  2v8lf38ec7i7ju6yoh1m2r3w1   5710887  8.852760e+08         1594.0   \n",
       "20401  3b87n45c393xbs20rzr009jyr   5165407  7.225848e+08         1167.0   \n",
       "32701  4fc74yy2t1l1yxaupwzifh0zk   5523520  8.338644e+08         3899.0   \n",
       "23459  6axve4k099srymqrbtra9fomd   6676660  1.073974e+09          918.0   \n",
       "\n",
       "                               organization                         name  \\\n",
       "65611  d825b74b-dd8e-4345-84ad-43951b87c34a       Bally Technology, Inc.   \n",
       "24049  7709b401-8dc1-4e01-922c-2876cb2be714            BroadVision, Inc.   \n",
       "20401  7bddc197-41c1-4dad-a4e4-e8f790cefc83     THE UNIVERSITY OF KANSAS   \n",
       "32701  2e224e60-7c41-4fa7-aa17-b4560350f966  Goldsmith Seeds Europe B.V.   \n",
       "23459  d463aba3-a1e4-4301-ab42-1d9d6fc3a82e   Ethicon Endo-Surgery, Inc.   \n",
       "\n",
       "      org_type                                       inventor_set county_fips  \\\n",
       "65611      2.0  {fl:w_ln:wellman-7, 151eh25cg6vxrbv0ws37ap73w,...     17031.0   \n",
       "24049      2.0  {fl:w_ln:yamamoto-5, fl:j_ln:hempe-2, fl:e_ln:...      6085.0   \n",
       "20401      2.0  {fl:g_ln:wilson-66, fl:b_ln:hill-13, 3b87n45c3...     20045.0   \n",
       "32701      3.0     {4fc74yy2t1l1yxaupwzifh0zk, fl:m_ln:holtrop-2}      6085.0   \n",
       "23459      2.0  {fl:j_ln:vaitekunas-1, fl:s_ln:wampler-1, 6axv...     39061.0   \n",
       "\n",
       "             city state  team_size  num_assignees organization_lead  \\\n",
       "65611     Chicago    IL          4              1               NaN   \n",
       "24049   Los Altos    CA         11              1               NaN   \n",
       "20401    Lawrence    KS          7              1               NaN   \n",
       "32701      Gilroy    CA          2              1               NaN   \n",
       "23459  Cincinnati    OH          6              1               NaN   \n",
       "\n",
       "      inventor_set_lead  same_prev_team  same_prev_assignee  \n",
       "65611               NaN               0                   0  \n",
       "24049               NaN               0                   0  \n",
       "20401               NaN               0                   0  \n",
       "32701               NaN               0                   0  \n",
       "23459               NaN               0                   0  "
      ]
     },
     "execution_count": 329,
     "metadata": {},
     "output_type": "execute_result"
    }
   ],
   "source": [
    "df.head()"
   ]
  },
  {
   "cell_type": "markdown",
   "metadata": {},
   "source": [
    "## Inventors and Assignees Over Time\n",
    "To further investigate the relationship between inventors and assignees, we want to see the *cumulative* inventors and assignees over time.\n",
    "\n",
    "We introduce a variable called **cumulative inventor** which is the set of all inventors the inventor has worked with up to that point."
   ]
  },
  {
   "cell_type": "code",
   "execution_count": 330,
   "metadata": {},
   "outputs": [],
   "source": [
    "# Make sure there is no NA and that all of them are sets\n",
    "df['inventor_set'] = df['inventor_set'].fillna('0')\n",
    "df['inventor_set'] = df['inventor_set'].apply(lambda x: set([x]) if (type(x) is not set) else x)"
   ]
  },
  {
   "cell_type": "code",
   "execution_count": 331,
   "metadata": {},
   "outputs": [],
   "source": [
    "# For every inventor\n",
    "    # For each patent\n",
    "        # Add individual inventor set\n",
    "cumulative_inventor = []\n",
    "for inventor in inventor_set:\n",
    "    cumulative_set = set()\n",
    "    patents = df[df['inventor_id'] == inventor]['patent_id']\n",
    "    for patent in patents:\n",
    "        cumulative_set = cumulative_set.union(df[(df['inventor_id'] == inventor) & (df['patent_id'] == patent)].inventor_set.tolist()[0])\n",
    "        cumulative_inventor.append([inventor, patent, cumulative_set])\n",
    "        "
   ]
  },
  {
   "cell_type": "code",
   "execution_count": 332,
   "metadata": {},
   "outputs": [],
   "source": [
    "# Create dataframe for the sets and create counts\n",
    "cumulative_inv = pd.DataFrame(cumulative_inventor, columns = ['inventor_id', 'patent_id', 'cumulative_inventor'])\n",
    "cumulative_inv['count_cumulative_inv'] = cumulative_inv['cumulative_inventor'].apply(lambda x: len(x))"
   ]
  },
  {
   "cell_type": "code",
   "execution_count": 333,
   "metadata": {},
   "outputs": [],
   "source": [
    "# Do the same for organization\n",
    "df['organization'] = df['organization'].fillna('0')\n",
    "df['organization'] = df['organization'].apply(lambda x: set([x]) if (type(x) is not set) else x)"
   ]
  },
  {
   "cell_type": "code",
   "execution_count": 334,
   "metadata": {},
   "outputs": [],
   "source": [
    "# For every inventor\n",
    "    # For each patent\n",
    "        # Add individual assignee set\n",
    "cumulative_assignee = []\n",
    "for inventor in inventor_set:\n",
    "    cumulative_set = set()\n",
    "    patents = df[df['inventor_id'] == inventor]['patent_id']\n",
    "    for patent in patents:\n",
    "        cumulative_set = cumulative_set.union(df[(df['inventor_id'] == inventor) & (df['patent_id'] == patent)].organization.tolist()[0])\n",
    "        cumulative_assignee.append([inventor, patent, cumulative_set])"
   ]
  },
  {
   "cell_type": "code",
   "execution_count": 335,
   "metadata": {},
   "outputs": [],
   "source": [
    "# Create dataframe for the sets and create counts\n",
    "cumulative_assignee = pd.DataFrame (cumulative_assignee, columns = ['inventor_id', 'patent_id', 'cumulative_assignee'])\n",
    "cumulative_assignee['count_cumulative_assignee'] = cumulative_assignee['cumulative_assignee'].apply(lambda x: len(x))"
   ]
  },
  {
   "cell_type": "code",
   "execution_count": 336,
   "metadata": {},
   "outputs": [
    {
     "data": {
      "text/html": [
       "<div>\n",
       "<style scoped>\n",
       "    .dataframe tbody tr th:only-of-type {\n",
       "        vertical-align: middle;\n",
       "    }\n",
       "\n",
       "    .dataframe tbody tr th {\n",
       "        vertical-align: top;\n",
       "    }\n",
       "\n",
       "    .dataframe thead th {\n",
       "        text-align: right;\n",
       "    }\n",
       "</style>\n",
       "<table border=\"1\" class=\"dataframe\">\n",
       "  <thead>\n",
       "    <tr style=\"text-align: right;\">\n",
       "      <th></th>\n",
       "      <th>inventor_id</th>\n",
       "      <th>patent_id</th>\n",
       "      <th>cumulative_inventor</th>\n",
       "      <th>count_cumulative_inv</th>\n",
       "    </tr>\n",
       "  </thead>\n",
       "  <tbody>\n",
       "    <tr>\n",
       "      <th>0</th>\n",
       "      <td>fl:p_ln:christenson-4</td>\n",
       "      <td>4361730</td>\n",
       "      <td>{fl:p_ln:christenson-4, gwobjm59am226gws58l4a1...</td>\n",
       "      <td>8</td>\n",
       "    </tr>\n",
       "    <tr>\n",
       "      <th>1</th>\n",
       "      <td>fl:p_ln:christenson-4</td>\n",
       "      <td>5279294</td>\n",
       "      <td>{fl:p_ln:christenson-4, fl:r_ln:jessen-2, fl:p...</td>\n",
       "      <td>13</td>\n",
       "    </tr>\n",
       "    <tr>\n",
       "      <th>2</th>\n",
       "      <td>fl:p_ln:christenson-4</td>\n",
       "      <td>6123577</td>\n",
       "      <td>{fl:p_ln:christenson-4, fl:r_ln:jessen-2, fl:p...</td>\n",
       "      <td>15</td>\n",
       "    </tr>\n",
       "    <tr>\n",
       "      <th>3</th>\n",
       "      <td>fl:p_ln:christenson-4</td>\n",
       "      <td>7706747</td>\n",
       "      <td>{fl:p_ln:christenson-4, fl:r_ln:jessen-2, fl:t...</td>\n",
       "      <td>19</td>\n",
       "    </tr>\n",
       "    <tr>\n",
       "      <th>4</th>\n",
       "      <td>fl:s_ln:blumenau-2</td>\n",
       "      <td>5391993</td>\n",
       "      <td>{fl:s_ln:blumenau-2, fl:m_ln:khazam-1}</td>\n",
       "      <td>2</td>\n",
       "    </tr>\n",
       "  </tbody>\n",
       "</table>\n",
       "</div>"
      ],
      "text/plain": [
       "             inventor_id patent_id  \\\n",
       "0  fl:p_ln:christenson-4   4361730   \n",
       "1  fl:p_ln:christenson-4   5279294   \n",
       "2  fl:p_ln:christenson-4   6123577   \n",
       "3  fl:p_ln:christenson-4   7706747   \n",
       "4     fl:s_ln:blumenau-2   5391993   \n",
       "\n",
       "                                 cumulative_inventor  count_cumulative_inv  \n",
       "0  {fl:p_ln:christenson-4, gwobjm59am226gws58l4a1...                     8  \n",
       "1  {fl:p_ln:christenson-4, fl:r_ln:jessen-2, fl:p...                    13  \n",
       "2  {fl:p_ln:christenson-4, fl:r_ln:jessen-2, fl:p...                    15  \n",
       "3  {fl:p_ln:christenson-4, fl:r_ln:jessen-2, fl:t...                    19  \n",
       "4             {fl:s_ln:blumenau-2, fl:m_ln:khazam-1}                     2  "
      ]
     },
     "execution_count": 336,
     "metadata": {},
     "output_type": "execute_result"
    }
   ],
   "source": [
    "cumulative_inv.head()"
   ]
  },
  {
   "cell_type": "code",
   "execution_count": 337,
   "metadata": {},
   "outputs": [
    {
     "data": {
      "text/html": [
       "<div>\n",
       "<style scoped>\n",
       "    .dataframe tbody tr th:only-of-type {\n",
       "        vertical-align: middle;\n",
       "    }\n",
       "\n",
       "    .dataframe tbody tr th {\n",
       "        vertical-align: top;\n",
       "    }\n",
       "\n",
       "    .dataframe thead th {\n",
       "        text-align: right;\n",
       "    }\n",
       "</style>\n",
       "<table border=\"1\" class=\"dataframe\">\n",
       "  <thead>\n",
       "    <tr style=\"text-align: right;\">\n",
       "      <th></th>\n",
       "      <th>inventor_id</th>\n",
       "      <th>patent_id</th>\n",
       "      <th>cumulative_assignee</th>\n",
       "      <th>count_cumulative_assignee</th>\n",
       "    </tr>\n",
       "  </thead>\n",
       "  <tbody>\n",
       "    <tr>\n",
       "      <th>0</th>\n",
       "      <td>fl:p_ln:christenson-4</td>\n",
       "      <td>4361730</td>\n",
       "      <td>{d70ec079-b006-47b7-8d94-ab9a2ec9df72}</td>\n",
       "      <td>1</td>\n",
       "    </tr>\n",
       "    <tr>\n",
       "      <th>1</th>\n",
       "      <td>fl:p_ln:christenson-4</td>\n",
       "      <td>5279294</td>\n",
       "      <td>{afe42393-0182-4491-b770-d6e2c747eada, d70ec07...</td>\n",
       "      <td>2</td>\n",
       "    </tr>\n",
       "    <tr>\n",
       "      <th>2</th>\n",
       "      <td>fl:p_ln:christenson-4</td>\n",
       "      <td>6123577</td>\n",
       "      <td>{afe42393-0182-4491-b770-d6e2c747eada, d70ec07...</td>\n",
       "      <td>3</td>\n",
       "    </tr>\n",
       "    <tr>\n",
       "      <th>3</th>\n",
       "      <td>fl:p_ln:christenson-4</td>\n",
       "      <td>7706747</td>\n",
       "      <td>{afe42393-0182-4491-b770-d6e2c747eada, e7e573e...</td>\n",
       "      <td>4</td>\n",
       "    </tr>\n",
       "    <tr>\n",
       "      <th>4</th>\n",
       "      <td>fl:s_ln:blumenau-2</td>\n",
       "      <td>5391993</td>\n",
       "      <td>{97102f28-0d9d-460a-b558-10f2384094ee}</td>\n",
       "      <td>1</td>\n",
       "    </tr>\n",
       "  </tbody>\n",
       "</table>\n",
       "</div>"
      ],
      "text/plain": [
       "             inventor_id patent_id  \\\n",
       "0  fl:p_ln:christenson-4   4361730   \n",
       "1  fl:p_ln:christenson-4   5279294   \n",
       "2  fl:p_ln:christenson-4   6123577   \n",
       "3  fl:p_ln:christenson-4   7706747   \n",
       "4     fl:s_ln:blumenau-2   5391993   \n",
       "\n",
       "                                 cumulative_assignee  \\\n",
       "0             {d70ec079-b006-47b7-8d94-ab9a2ec9df72}   \n",
       "1  {afe42393-0182-4491-b770-d6e2c747eada, d70ec07...   \n",
       "2  {afe42393-0182-4491-b770-d6e2c747eada, d70ec07...   \n",
       "3  {afe42393-0182-4491-b770-d6e2c747eada, e7e573e...   \n",
       "4             {97102f28-0d9d-460a-b558-10f2384094ee}   \n",
       "\n",
       "   count_cumulative_assignee  \n",
       "0                          1  \n",
       "1                          2  \n",
       "2                          3  \n",
       "3                          4  \n",
       "4                          1  "
      ]
     },
     "execution_count": 337,
     "metadata": {},
     "output_type": "execute_result"
    }
   ],
   "source": [
    "cumulative_assignee.head()"
   ]
  },
  {
   "cell_type": "code",
   "execution_count": 338,
   "metadata": {},
   "outputs": [],
   "source": [
    "# Join tables\n",
    "columns = ['inventor_id', 'patent_id', 'patent_date', 'num_citations', 'organization', 'inventor_set', 'team_size']\n",
    "df_cumulative = df[columns].merge(cumulative_inv, how='left', on=['inventor_id', 'patent_id'])\n",
    "df_cumulative = df_cumulative.merge(cumulative_assignee, how='left', on=['inventor_id', 'patent_id'])"
   ]
  },
  {
   "cell_type": "code",
   "execution_count": 339,
   "metadata": {},
   "outputs": [
    {
     "data": {
      "text/html": [
       "<div>\n",
       "<style scoped>\n",
       "    .dataframe tbody tr th:only-of-type {\n",
       "        vertical-align: middle;\n",
       "    }\n",
       "\n",
       "    .dataframe tbody tr th {\n",
       "        vertical-align: top;\n",
       "    }\n",
       "\n",
       "    .dataframe thead th {\n",
       "        text-align: right;\n",
       "    }\n",
       "</style>\n",
       "<table border=\"1\" class=\"dataframe\">\n",
       "  <thead>\n",
       "    <tr style=\"text-align: right;\">\n",
       "      <th></th>\n",
       "      <th>inventor_id</th>\n",
       "      <th>patent_id</th>\n",
       "      <th>patent_date</th>\n",
       "      <th>num_citations</th>\n",
       "      <th>organization</th>\n",
       "      <th>inventor_set</th>\n",
       "      <th>team_size</th>\n",
       "      <th>cumulative_inventor</th>\n",
       "      <th>count_cumulative_inv</th>\n",
       "      <th>cumulative_assignee</th>\n",
       "      <th>count_cumulative_assignee</th>\n",
       "    </tr>\n",
       "  </thead>\n",
       "  <tbody>\n",
       "    <tr>\n",
       "      <th>0</th>\n",
       "      <td>151eh25cg6vxrbv0ws37ap73w</td>\n",
       "      <td>5179517</td>\n",
       "      <td>7.268184e+08</td>\n",
       "      <td>867.0</td>\n",
       "      <td>{d825b74b-dd8e-4345-84ad-43951b87c34a}</td>\n",
       "      <td>{fl:w_ln:wellman-7, 151eh25cg6vxrbv0ws37ap73w,...</td>\n",
       "      <td>4</td>\n",
       "      <td>{fl:w_ln:wellman-7, 151eh25cg6vxrbv0ws37ap73w,...</td>\n",
       "      <td>4</td>\n",
       "      <td>{d825b74b-dd8e-4345-84ad-43951b87c34a}</td>\n",
       "      <td>1</td>\n",
       "    </tr>\n",
       "    <tr>\n",
       "      <th>1</th>\n",
       "      <td>2v8lf38ec7i7ju6yoh1m2r3w1</td>\n",
       "      <td>5710887</td>\n",
       "      <td>8.852760e+08</td>\n",
       "      <td>1594.0</td>\n",
       "      <td>{7709b401-8dc1-4e01-922c-2876cb2be714}</td>\n",
       "      <td>{fl:w_ln:yamamoto-5, fl:j_ln:hempe-2, fl:e_ln:...</td>\n",
       "      <td>11</td>\n",
       "      <td>{fl:w_ln:yamamoto-5, fl:j_ln:hempe-2, fl:e_ln:...</td>\n",
       "      <td>11</td>\n",
       "      <td>{7709b401-8dc1-4e01-922c-2876cb2be714}</td>\n",
       "      <td>1</td>\n",
       "    </tr>\n",
       "    <tr>\n",
       "      <th>2</th>\n",
       "      <td>3b87n45c393xbs20rzr009jyr</td>\n",
       "      <td>5165407</td>\n",
       "      <td>7.225848e+08</td>\n",
       "      <td>1167.0</td>\n",
       "      <td>{7bddc197-41c1-4dad-a4e4-e8f790cefc83}</td>\n",
       "      <td>{fl:g_ln:wilson-66, fl:b_ln:hill-13, 3b87n45c3...</td>\n",
       "      <td>7</td>\n",
       "      <td>{fl:g_ln:wilson-66, fl:g_ln:reach-1, fl:d_ln:b...</td>\n",
       "      <td>7</td>\n",
       "      <td>{7bddc197-41c1-4dad-a4e4-e8f790cefc83}</td>\n",
       "      <td>1</td>\n",
       "    </tr>\n",
       "    <tr>\n",
       "      <th>3</th>\n",
       "      <td>4fc74yy2t1l1yxaupwzifh0zk</td>\n",
       "      <td>5523520</td>\n",
       "      <td>8.338644e+08</td>\n",
       "      <td>3899.0</td>\n",
       "      <td>{2e224e60-7c41-4fa7-aa17-b4560350f966}</td>\n",
       "      <td>{4fc74yy2t1l1yxaupwzifh0zk, fl:m_ln:holtrop-2}</td>\n",
       "      <td>2</td>\n",
       "      <td>{4fc74yy2t1l1yxaupwzifh0zk, fl:m_ln:holtrop-2}</td>\n",
       "      <td>2</td>\n",
       "      <td>{2e224e60-7c41-4fa7-aa17-b4560350f966}</td>\n",
       "      <td>1</td>\n",
       "    </tr>\n",
       "    <tr>\n",
       "      <th>4</th>\n",
       "      <td>6axve4k099srymqrbtra9fomd</td>\n",
       "      <td>6676660</td>\n",
       "      <td>1.073974e+09</td>\n",
       "      <td>918.0</td>\n",
       "      <td>{d463aba3-a1e4-4301-ab42-1d9d6fc3a82e}</td>\n",
       "      <td>{fl:j_ln:vaitekunas-1, fl:s_ln:wampler-1, 6axv...</td>\n",
       "      <td>6</td>\n",
       "      <td>{6axve4k099srymqrbtra9fomd, fl:s_ln:wampler-1,...</td>\n",
       "      <td>6</td>\n",
       "      <td>{d463aba3-a1e4-4301-ab42-1d9d6fc3a82e}</td>\n",
       "      <td>1</td>\n",
       "    </tr>\n",
       "  </tbody>\n",
       "</table>\n",
       "</div>"
      ],
      "text/plain": [
       "                 inventor_id patent_id   patent_date  num_citations  \\\n",
       "0  151eh25cg6vxrbv0ws37ap73w   5179517  7.268184e+08          867.0   \n",
       "1  2v8lf38ec7i7ju6yoh1m2r3w1   5710887  8.852760e+08         1594.0   \n",
       "2  3b87n45c393xbs20rzr009jyr   5165407  7.225848e+08         1167.0   \n",
       "3  4fc74yy2t1l1yxaupwzifh0zk   5523520  8.338644e+08         3899.0   \n",
       "4  6axve4k099srymqrbtra9fomd   6676660  1.073974e+09          918.0   \n",
       "\n",
       "                             organization  \\\n",
       "0  {d825b74b-dd8e-4345-84ad-43951b87c34a}   \n",
       "1  {7709b401-8dc1-4e01-922c-2876cb2be714}   \n",
       "2  {7bddc197-41c1-4dad-a4e4-e8f790cefc83}   \n",
       "3  {2e224e60-7c41-4fa7-aa17-b4560350f966}   \n",
       "4  {d463aba3-a1e4-4301-ab42-1d9d6fc3a82e}   \n",
       "\n",
       "                                        inventor_set  team_size  \\\n",
       "0  {fl:w_ln:wellman-7, 151eh25cg6vxrbv0ws37ap73w,...          4   \n",
       "1  {fl:w_ln:yamamoto-5, fl:j_ln:hempe-2, fl:e_ln:...         11   \n",
       "2  {fl:g_ln:wilson-66, fl:b_ln:hill-13, 3b87n45c3...          7   \n",
       "3     {4fc74yy2t1l1yxaupwzifh0zk, fl:m_ln:holtrop-2}          2   \n",
       "4  {fl:j_ln:vaitekunas-1, fl:s_ln:wampler-1, 6axv...          6   \n",
       "\n",
       "                                 cumulative_inventor  count_cumulative_inv  \\\n",
       "0  {fl:w_ln:wellman-7, 151eh25cg6vxrbv0ws37ap73w,...                     4   \n",
       "1  {fl:w_ln:yamamoto-5, fl:j_ln:hempe-2, fl:e_ln:...                    11   \n",
       "2  {fl:g_ln:wilson-66, fl:g_ln:reach-1, fl:d_ln:b...                     7   \n",
       "3     {4fc74yy2t1l1yxaupwzifh0zk, fl:m_ln:holtrop-2}                     2   \n",
       "4  {6axve4k099srymqrbtra9fomd, fl:s_ln:wampler-1,...                     6   \n",
       "\n",
       "                      cumulative_assignee  count_cumulative_assignee  \n",
       "0  {d825b74b-dd8e-4345-84ad-43951b87c34a}                          1  \n",
       "1  {7709b401-8dc1-4e01-922c-2876cb2be714}                          1  \n",
       "2  {7bddc197-41c1-4dad-a4e4-e8f790cefc83}                          1  \n",
       "3  {2e224e60-7c41-4fa7-aa17-b4560350f966}                          1  \n",
       "4  {d463aba3-a1e4-4301-ab42-1d9d6fc3a82e}                          1  "
      ]
     },
     "execution_count": 339,
     "metadata": {},
     "output_type": "execute_result"
    }
   ],
   "source": [
    "df_cumulative.head(5)"
   ]
  },
  {
   "cell_type": "code",
   "execution_count": 340,
   "metadata": {},
   "outputs": [],
   "source": [
    "def new_kid_in_block(a,b):\n",
    "    # Get the set difference and return the length\n",
    "    diff = a.difference(b)\n",
    "    return(len(diff))    "
   ]
  },
  {
   "cell_type": "code",
   "execution_count": 341,
   "metadata": {},
   "outputs": [],
   "source": [
    "# Get lead of cumulative inventor and assignee\n",
    "shifted = df_cumulative[['inventor_id', \"cumulative_inventor\", \"cumulative_assignee\"]].groupby(\"inventor_id\").shift(1)\n",
    "df_cumulative = df_cumulative.join(shifted.rename(columns=lambda x: x+\"_lead\"))"
   ]
  },
  {
   "cell_type": "code",
   "execution_count": 342,
   "metadata": {},
   "outputs": [],
   "source": [
    "# Change into set() cumulative change\n",
    "df_cumulative['cumulative_inventor_lead'] = df_cumulative['cumulative_inventor_lead'].fillna(0)\n",
    "df_cumulative['cumulative_inventor_lead'] = df_cumulative['cumulative_inventor_lead'].apply(lambda x: set() if x == 0 else x)\n",
    "df_cumulative['cumulative_assignee_lead'] = df_cumulative['cumulative_assignee_lead'].fillna(0)\n",
    "df_cumulative['cumulative_assignee_lead'] = df_cumulative['cumulative_assignee_lead'].apply(lambda x: set() if x == 0 else x)"
   ]
  },
  {
   "cell_type": "code",
   "execution_count": 343,
   "metadata": {},
   "outputs": [],
   "source": [
    "# Get the size set difference between cumulative inventor vs current \n",
    "df_cumulative['new_inventor'] = df_cumulative.apply(lambda x: new_kid_in_block(x.inventor_set, x.cumulative_inventor_lead), axis=1)\n",
    "df_cumulative['new_assignee'] = df_cumulative.apply(lambda x: new_kid_in_block(x.organization, x.cumulative_assignee_lead), axis=1)"
   ]
  },
  {
   "cell_type": "code",
   "execution_count": 344,
   "metadata": {},
   "outputs": [],
   "source": [
    "# Save data\n",
    "columns = [\"inventor_id\",\"patent_id\",\"patent_date\",\"num_citations\",\"team_size\",\"count_cumulative_inv\",\"count_cumulative_assignee\",\"new_inventor\",\"new_assignee\"]\n",
    "df_cumulative[columns].to_csv(\"inventor_profiles_cumulative.csv\", index=False)"
   ]
  }
 ],
 "metadata": {
  "kernelspec": {
   "display_name": "Python 3 (ipykernel)",
   "language": "python",
   "name": "python3"
  },
  "language_info": {
   "codemirror_mode": {
    "name": "ipython",
    "version": 3
   },
   "file_extension": ".py",
   "mimetype": "text/x-python",
   "name": "python",
   "nbconvert_exporter": "python",
   "pygments_lexer": "ipython3",
   "version": "3.9.13"
  }
 },
 "nbformat": 4,
 "nbformat_minor": 4
}
