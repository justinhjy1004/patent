{
 "cells": [
  {
   "cell_type": "code",
   "execution_count": 1,
   "metadata": {},
   "outputs": [],
   "source": [
    "import neo4j \n",
    "import pandas as pd\n",
    "from credentials import uri, user, pwd\n",
    "from patent_neo4j.connection import Neo4jConnection\n",
    "from patent_neo4j.analysis import get_direct_ancestor\n",
    "from patent_neo4j.analysis import interpatent_inventor_combination\n",
    "import itertools"
   ]
  },
  {
   "cell_type": "markdown",
   "metadata": {},
   "source": [
    "Important Patents List"
   ]
  },
  {
   "cell_type": "code",
   "execution_count": 2,
   "metadata": {},
   "outputs": [
    {
     "data": {
      "text/html": [
       "<div>\n",
       "<style scoped>\n",
       "    .dataframe tbody tr th:only-of-type {\n",
       "        vertical-align: middle;\n",
       "    }\n",
       "\n",
       "    .dataframe tbody tr th {\n",
       "        vertical-align: top;\n",
       "    }\n",
       "\n",
       "    .dataframe thead th {\n",
       "        text-align: right;\n",
       "    }\n",
       "</style>\n",
       "<table border=\"1\" class=\"dataframe\">\n",
       "  <thead>\n",
       "    <tr style=\"text-align: right;\">\n",
       "      <th></th>\n",
       "      <th>id</th>\n",
       "      <th>name</th>\n",
       "    </tr>\n",
       "  </thead>\n",
       "  <tbody>\n",
       "    <tr>\n",
       "      <th>0</th>\n",
       "      <td>4136359</td>\n",
       "      <td>AppleMicrocomputer</td>\n",
       "    </tr>\n",
       "    <tr>\n",
       "      <th>1</th>\n",
       "      <td>4237224</td>\n",
       "      <td>MolecularChimeras</td>\n",
       "    </tr>\n",
       "    <tr>\n",
       "      <th>2</th>\n",
       "      <td>4371752</td>\n",
       "      <td>DigitalVoiceMailSystems</td>\n",
       "    </tr>\n",
       "    <tr>\n",
       "      <th>3</th>\n",
       "      <td>4399216</td>\n",
       "      <td>Co-transformationGeneCoding</td>\n",
       "    </tr>\n",
       "    <tr>\n",
       "      <th>4</th>\n",
       "      <td>4683195</td>\n",
       "      <td>PolymeraseChainReaction</td>\n",
       "    </tr>\n",
       "    <tr>\n",
       "      <th>5</th>\n",
       "      <td>5061620</td>\n",
       "      <td>StemCell</td>\n",
       "    </tr>\n",
       "    <tr>\n",
       "      <th>6</th>\n",
       "      <td>5108388</td>\n",
       "      <td>LaserSurgeryMethod</td>\n",
       "    </tr>\n",
       "    <tr>\n",
       "      <th>7</th>\n",
       "      <td>6285999</td>\n",
       "      <td>PageRank</td>\n",
       "    </tr>\n",
       "  </tbody>\n",
       "</table>\n",
       "</div>"
      ],
      "text/plain": [
       "        id                         name\n",
       "0  4136359           AppleMicrocomputer\n",
       "1  4237224            MolecularChimeras\n",
       "2  4371752      DigitalVoiceMailSystems\n",
       "3  4399216  Co-transformationGeneCoding\n",
       "4  4683195      PolymeraseChainReaction\n",
       "5  5061620                     StemCell\n",
       "6  5108388           LaserSurgeryMethod\n",
       "7  6285999                     PageRank"
      ]
     },
     "execution_count": 2,
     "metadata": {},
     "output_type": "execute_result"
    }
   ],
   "source": [
    "df = pd.read_csv(\"Data/important_patents.csv\")\n",
    "df.head(8)"
   ]
  },
  {
   "cell_type": "markdown",
   "metadata": {},
   "source": [
    "Establishing Connection"
   ]
  },
  {
   "cell_type": "markdown",
   "metadata": {},
   "source": [
    "### Inter-Patent Inventor Similarity"
   ]
  },
  {
   "cell_type": "code",
   "execution_count": 3,
   "metadata": {},
   "outputs": [],
   "source": [
    "conn = Neo4jConnection(uri, user, pwd)\n",
    "result = conn.query_citation_tree(root=df.id[0])"
   ]
  },
  {
   "cell_type": "code",
   "execution_count": 4,
   "metadata": {},
   "outputs": [
    {
     "data": {
      "text/html": [
       "<div>\n",
       "<style scoped>\n",
       "    .dataframe tbody tr th:only-of-type {\n",
       "        vertical-align: middle;\n",
       "    }\n",
       "\n",
       "    .dataframe tbody tr th {\n",
       "        vertical-align: top;\n",
       "    }\n",
       "\n",
       "    .dataframe thead th {\n",
       "        text-align: right;\n",
       "    }\n",
       "</style>\n",
       "<table border=\"1\" class=\"dataframe\">\n",
       "  <thead>\n",
       "    <tr style=\"text-align: right;\">\n",
       "      <th></th>\n",
       "      <th>id</th>\n",
       "      <th>date</th>\n",
       "      <th>country</th>\n",
       "      <th>claims</th>\n",
       "      <th>kind</th>\n",
       "      <th>lineage</th>\n",
       "      <th>similarity</th>\n",
       "    </tr>\n",
       "  </thead>\n",
       "  <tbody>\n",
       "    <tr>\n",
       "      <th>0</th>\n",
       "      <td>6226017</td>\n",
       "      <td>2001-05-01</td>\n",
       "      <td>US</td>\n",
       "      <td>48</td>\n",
       "      <td>A</td>\n",
       "      <td>[4136359]</td>\n",
       "      <td>[0.057604003697633736]</td>\n",
       "    </tr>\n",
       "    <tr>\n",
       "      <th>1</th>\n",
       "      <td>9940907</td>\n",
       "      <td>2018-04-10</td>\n",
       "      <td>US</td>\n",
       "      <td>20</td>\n",
       "      <td>B2</td>\n",
       "      <td>[6226017, 4136359]</td>\n",
       "      <td>[0.13514360785484314, 0.057604003697633736]</td>\n",
       "    </tr>\n",
       "    <tr>\n",
       "      <th>2</th>\n",
       "      <td>7705842</td>\n",
       "      <td>2010-04-27</td>\n",
       "      <td>US</td>\n",
       "      <td>16</td>\n",
       "      <td>B2</td>\n",
       "      <td>[6226017, 4136359]</td>\n",
       "      <td>[0.1497403383255005, 0.057604003697633736]</td>\n",
       "    </tr>\n",
       "    <tr>\n",
       "      <th>3</th>\n",
       "      <td>9001133</td>\n",
       "      <td>2015-04-07</td>\n",
       "      <td>US</td>\n",
       "      <td>22</td>\n",
       "      <td>B2</td>\n",
       "      <td>[7705842, 6226017, 4136359]</td>\n",
       "      <td>[0.2110498994588852, 0.1497403383255005, 0.057...</td>\n",
       "    </tr>\n",
       "    <tr>\n",
       "      <th>4</th>\n",
       "      <td>9153179</td>\n",
       "      <td>2015-10-06</td>\n",
       "      <td>US</td>\n",
       "      <td>11</td>\n",
       "      <td>B2</td>\n",
       "      <td>[7705842, 6226017, 4136359]</td>\n",
       "      <td>[0.3195275664329529, 0.1497403383255005, 0.057...</td>\n",
       "    </tr>\n",
       "  </tbody>\n",
       "</table>\n",
       "</div>"
      ],
      "text/plain": [
       "        id        date country claims kind                      lineage  \\\n",
       "0  6226017  2001-05-01      US     48    A                    [4136359]   \n",
       "1  9940907  2018-04-10      US     20   B2           [6226017, 4136359]   \n",
       "2  7705842  2010-04-27      US     16   B2           [6226017, 4136359]   \n",
       "3  9001133  2015-04-07      US     22   B2  [7705842, 6226017, 4136359]   \n",
       "4  9153179  2015-10-06      US     11   B2  [7705842, 6226017, 4136359]   \n",
       "\n",
       "                                          similarity  \n",
       "0                             [0.057604003697633736]  \n",
       "1        [0.13514360785484314, 0.057604003697633736]  \n",
       "2         [0.1497403383255005, 0.057604003697633736]  \n",
       "3  [0.2110498994588852, 0.1497403383255005, 0.057...  \n",
       "4  [0.3195275664329529, 0.1497403383255005, 0.057...  "
      ]
     },
     "execution_count": 4,
     "metadata": {},
     "output_type": "execute_result"
    }
   ],
   "source": [
    "result.head()"
   ]
  },
  {
   "cell_type": "code",
   "execution_count": 5,
   "metadata": {},
   "outputs": [],
   "source": [
    "# Get Direct Lineage\n",
    "direct_lineage = get_direct_ancestor(result)"
   ]
  },
  {
   "cell_type": "code",
   "execution_count": 6,
   "metadata": {},
   "outputs": [
    {
     "data": {
      "text/html": [
       "<div>\n",
       "<style scoped>\n",
       "    .dataframe tbody tr th:only-of-type {\n",
       "        vertical-align: middle;\n",
       "    }\n",
       "\n",
       "    .dataframe tbody tr th {\n",
       "        vertical-align: top;\n",
       "    }\n",
       "\n",
       "    .dataframe thead th {\n",
       "        text-align: right;\n",
       "    }\n",
       "</style>\n",
       "<table border=\"1\" class=\"dataframe\">\n",
       "  <thead>\n",
       "    <tr style=\"text-align: right;\">\n",
       "      <th></th>\n",
       "      <th>id</th>\n",
       "      <th>lineage</th>\n",
       "      <th>similarity</th>\n",
       "    </tr>\n",
       "  </thead>\n",
       "  <tbody>\n",
       "    <tr>\n",
       "      <th>0</th>\n",
       "      <td>6226017</td>\n",
       "      <td>4136359</td>\n",
       "      <td>0.057604</td>\n",
       "    </tr>\n",
       "    <tr>\n",
       "      <th>1</th>\n",
       "      <td>9940907</td>\n",
       "      <td>6226017</td>\n",
       "      <td>0.135144</td>\n",
       "    </tr>\n",
       "    <tr>\n",
       "      <th>2</th>\n",
       "      <td>7705842</td>\n",
       "      <td>6226017</td>\n",
       "      <td>0.149740</td>\n",
       "    </tr>\n",
       "    <tr>\n",
       "      <th>3</th>\n",
       "      <td>9001133</td>\n",
       "      <td>7705842</td>\n",
       "      <td>0.211050</td>\n",
       "    </tr>\n",
       "    <tr>\n",
       "      <th>4</th>\n",
       "      <td>9153179</td>\n",
       "      <td>7705842</td>\n",
       "      <td>0.319528</td>\n",
       "    </tr>\n",
       "  </tbody>\n",
       "</table>\n",
       "</div>"
      ],
      "text/plain": [
       "        id  lineage  similarity\n",
       "0  6226017  4136359    0.057604\n",
       "1  9940907  6226017    0.135144\n",
       "2  7705842  6226017    0.149740\n",
       "3  9001133  7705842    0.211050\n",
       "4  9153179  7705842    0.319528"
      ]
     },
     "execution_count": 6,
     "metadata": {},
     "output_type": "execute_result"
    }
   ],
   "source": [
    "direct_lineage.head()"
   ]
  },
  {
   "cell_type": "code",
   "execution_count": 7,
   "metadata": {},
   "outputs": [
    {
     "data": {
      "text/plain": [
       "0        4136359\n",
       "1        6226017\n",
       "2        6226017\n",
       "3        7705842\n",
       "4        7705842\n",
       "          ...   \n",
       "18850    7222306\n",
       "18851    7222306\n",
       "18852    7222306\n",
       "18853    7222306\n",
       "18854    7222306\n",
       "Name: lineage, Length: 18855, dtype: object"
      ]
     },
     "execution_count": 7,
     "metadata": {},
     "output_type": "execute_result"
    }
   ],
   "source": [
    "direct_lineage.lineage"
   ]
  },
  {
   "cell_type": "code",
   "execution_count": 8,
   "metadata": {},
   "outputs": [],
   "source": [
    "inventor_tree = conn.query_inventor_tree(root=df.id[0])"
   ]
  },
  {
   "cell_type": "code",
   "execution_count": 11,
   "metadata": {},
   "outputs": [
    {
     "name": "stderr",
     "output_type": "stream",
     "text": [
      "/home/jho/Jupyter/Patent/patent_neo4j/analysis.py:127: SettingWithCopyWarning: \n",
      "A value is trying to be set on a copy of a slice from a DataFrame.\n",
      "Try using .loc[row_indexer,col_indexer] = value instead\n",
      "\n",
      "See the caveats in the documentation: https://pandas.pydata.org/pandas-docs/stable/user_guide/indexing.html#returning-a-view-versus-a-copy\n",
      "  direct_ancestor['combination'] = combination\n"
     ]
    }
   ],
   "source": [
    "interpatent = interpatent_inventor_combination(direct_ancestor=direct_lineage, inventor_tree=inventor_tree)"
   ]
  },
  {
   "cell_type": "code",
   "execution_count": 14,
   "metadata": {},
   "outputs": [
    {
     "name": "stdout",
     "output_type": "stream",
     "text": [
      "('fl:a_ln:godfrey-5', 'fl:j_ln:goossen-4')\n",
      "('fl:a_ln:godfrey-5', 'fl:s_ln:wozniak-4')\n",
      "('fl:j_ln:goossen-4', 'fl:s_ln:wozniak-4')\n"
     ]
    }
   ],
   "source": [
    "for pair in interpatent['combination'][0]:\n",
    "    print(pair)"
   ]
  },
  {
   "cell_type": "code",
   "execution_count": 15,
   "metadata": {},
   "outputs": [],
   "source": [
    "from patent_neo4j.analysis import similarity_score, convert_np"
   ]
  },
  {
   "cell_type": "code",
   "execution_count": null,
   "metadata": {},
   "outputs": [],
   "source": [
    "file_emb = \"./node2vec/emb/\" + df.name[0] + \".emb\"\n",
    "node_emb = convert_np(file_emb)"
   ]
  }
 ],
 "metadata": {
  "kernelspec": {
   "display_name": "Python 3",
   "language": "python",
   "name": "python3"
  },
  "language_info": {
   "codemirror_mode": {
    "name": "ipython",
    "version": 3
   },
   "file_extension": ".py",
   "mimetype": "text/x-python",
   "name": "python",
   "nbconvert_exporter": "python",
   "pygments_lexer": "ipython3",
   "version": "3.8.5"
  }
 },
 "nbformat": 4,
 "nbformat_minor": 4
}
