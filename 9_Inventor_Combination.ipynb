{
 "cells": [
  {
   "cell_type": "markdown",
   "metadata": {},
   "source": [
    "# INVENTOR COMBINATIONS TO MEASURE INVENTOR SIMILARITY\n",
    "Measuring the similarity of the inventors, with two distinct types:\n",
    "1. **Interpatent** Inventor Similarity - Inventor Similarity between patents. Implementation here is between direct ancestor-descendant relationship \n",
    "2. **Intrapatent** Inventor Similarity - Similarity between inventors on the patent "
   ]
  },
  {
   "cell_type": "code",
   "execution_count": 1,
   "metadata": {},
   "outputs": [],
   "source": [
    "import neo4j \n",
    "import pandas as pd\n",
    "from credentials import uri, user, pwd\n",
    "from patent_neo4j.connection import Neo4jConnection\n",
    "from patent_neo4j.analysis import get_direct_ancestor\n",
    "from patent_neo4j.analysis import interpatent_inventor_combination\n",
    "import itertools"
   ]
  },
  {
   "cell_type": "markdown",
   "metadata": {},
   "source": [
    "Important Patents List"
   ]
  },
  {
   "cell_type": "code",
   "execution_count": 2,
   "metadata": {},
   "outputs": [
    {
     "data": {
      "text/html": [
       "<div>\n",
       "<style scoped>\n",
       "    .dataframe tbody tr th:only-of-type {\n",
       "        vertical-align: middle;\n",
       "    }\n",
       "\n",
       "    .dataframe tbody tr th {\n",
       "        vertical-align: top;\n",
       "    }\n",
       "\n",
       "    .dataframe thead th {\n",
       "        text-align: right;\n",
       "    }\n",
       "</style>\n",
       "<table border=\"1\" class=\"dataframe\">\n",
       "  <thead>\n",
       "    <tr style=\"text-align: right;\">\n",
       "      <th></th>\n",
       "      <th>id</th>\n",
       "      <th>name</th>\n",
       "    </tr>\n",
       "  </thead>\n",
       "  <tbody>\n",
       "    <tr>\n",
       "      <th>0</th>\n",
       "      <td>4136359</td>\n",
       "      <td>AppleMicrocomputer</td>\n",
       "    </tr>\n",
       "    <tr>\n",
       "      <th>1</th>\n",
       "      <td>4237224</td>\n",
       "      <td>MolecularChimeras</td>\n",
       "    </tr>\n",
       "    <tr>\n",
       "      <th>2</th>\n",
       "      <td>4371752</td>\n",
       "      <td>DigitalVoiceMailSystems</td>\n",
       "    </tr>\n",
       "    <tr>\n",
       "      <th>3</th>\n",
       "      <td>4399216</td>\n",
       "      <td>Co-transformationGeneCoding</td>\n",
       "    </tr>\n",
       "    <tr>\n",
       "      <th>4</th>\n",
       "      <td>4683195</td>\n",
       "      <td>PolymeraseChainReaction</td>\n",
       "    </tr>\n",
       "    <tr>\n",
       "      <th>5</th>\n",
       "      <td>5061620</td>\n",
       "      <td>StemCell</td>\n",
       "    </tr>\n",
       "    <tr>\n",
       "      <th>6</th>\n",
       "      <td>5108388</td>\n",
       "      <td>LaserSurgeryMethod</td>\n",
       "    </tr>\n",
       "    <tr>\n",
       "      <th>7</th>\n",
       "      <td>6285999</td>\n",
       "      <td>PageRank</td>\n",
       "    </tr>\n",
       "  </tbody>\n",
       "</table>\n",
       "</div>"
      ],
      "text/plain": [
       "        id                         name\n",
       "0  4136359           AppleMicrocomputer\n",
       "1  4237224            MolecularChimeras\n",
       "2  4371752      DigitalVoiceMailSystems\n",
       "3  4399216  Co-transformationGeneCoding\n",
       "4  4683195      PolymeraseChainReaction\n",
       "5  5061620                     StemCell\n",
       "6  5108388           LaserSurgeryMethod\n",
       "7  6285999                     PageRank"
      ]
     },
     "execution_count": 2,
     "metadata": {},
     "output_type": "execute_result"
    }
   ],
   "source": [
    "df = pd.read_csv(\"Data/important_patents.csv\")\n",
    "df.head(8)"
   ]
  },
  {
   "cell_type": "markdown",
   "metadata": {},
   "source": [
    "## Inter-Patent Inventor Similarity\n",
    "**Overall Algorithm**:\n",
    "1. **Obtain direct ancestor-descendant** relationship\n",
    "1. **Combine inventors** of the two patents with repeats allowed <br> \n",
    "    *(\"wozniak\", \"wozniak\") would have a similarity score of 1*\n",
    "1. Compute **average similarity**"
   ]
  },
  {
   "cell_type": "markdown",
   "metadata": {},
   "source": [
    "Establishing Connection"
   ]
  },
  {
   "cell_type": "code",
   "execution_count": 3,
   "metadata": {},
   "outputs": [],
   "source": [
    "conn = Neo4jConnection(uri, user, pwd)\n",
    "result = conn.query_citation_tree(root=df.id[0])"
   ]
  },
  {
   "cell_type": "code",
   "execution_count": 4,
   "metadata": {},
   "outputs": [
    {
     "data": {
      "text/html": [
       "<div>\n",
       "<style scoped>\n",
       "    .dataframe tbody tr th:only-of-type {\n",
       "        vertical-align: middle;\n",
       "    }\n",
       "\n",
       "    .dataframe tbody tr th {\n",
       "        vertical-align: top;\n",
       "    }\n",
       "\n",
       "    .dataframe thead th {\n",
       "        text-align: right;\n",
       "    }\n",
       "</style>\n",
       "<table border=\"1\" class=\"dataframe\">\n",
       "  <thead>\n",
       "    <tr style=\"text-align: right;\">\n",
       "      <th></th>\n",
       "      <th>id</th>\n",
       "      <th>date</th>\n",
       "      <th>country</th>\n",
       "      <th>claims</th>\n",
       "      <th>kind</th>\n",
       "      <th>lineage</th>\n",
       "      <th>similarity</th>\n",
       "    </tr>\n",
       "  </thead>\n",
       "  <tbody>\n",
       "    <tr>\n",
       "      <th>0</th>\n",
       "      <td>6226017</td>\n",
       "      <td>2001-05-01</td>\n",
       "      <td>US</td>\n",
       "      <td>48</td>\n",
       "      <td>A</td>\n",
       "      <td>[4136359]</td>\n",
       "      <td>[0.057604003697633736]</td>\n",
       "    </tr>\n",
       "    <tr>\n",
       "      <th>1</th>\n",
       "      <td>9940907</td>\n",
       "      <td>2018-04-10</td>\n",
       "      <td>US</td>\n",
       "      <td>20</td>\n",
       "      <td>B2</td>\n",
       "      <td>[6226017, 4136359]</td>\n",
       "      <td>[0.13514360785484314, 0.057604003697633736]</td>\n",
       "    </tr>\n",
       "    <tr>\n",
       "      <th>2</th>\n",
       "      <td>7705842</td>\n",
       "      <td>2010-04-27</td>\n",
       "      <td>US</td>\n",
       "      <td>16</td>\n",
       "      <td>B2</td>\n",
       "      <td>[6226017, 4136359]</td>\n",
       "      <td>[0.1497403383255005, 0.057604003697633736]</td>\n",
       "    </tr>\n",
       "    <tr>\n",
       "      <th>3</th>\n",
       "      <td>9001133</td>\n",
       "      <td>2015-04-07</td>\n",
       "      <td>US</td>\n",
       "      <td>22</td>\n",
       "      <td>B2</td>\n",
       "      <td>[7705842, 6226017, 4136359]</td>\n",
       "      <td>[0.2110498994588852, 0.1497403383255005, 0.057...</td>\n",
       "    </tr>\n",
       "    <tr>\n",
       "      <th>4</th>\n",
       "      <td>9153179</td>\n",
       "      <td>2015-10-06</td>\n",
       "      <td>US</td>\n",
       "      <td>11</td>\n",
       "      <td>B2</td>\n",
       "      <td>[7705842, 6226017, 4136359]</td>\n",
       "      <td>[0.3195275664329529, 0.1497403383255005, 0.057...</td>\n",
       "    </tr>\n",
       "  </tbody>\n",
       "</table>\n",
       "</div>"
      ],
      "text/plain": [
       "        id        date country claims kind                      lineage  \\\n",
       "0  6226017  2001-05-01      US     48    A                    [4136359]   \n",
       "1  9940907  2018-04-10      US     20   B2           [6226017, 4136359]   \n",
       "2  7705842  2010-04-27      US     16   B2           [6226017, 4136359]   \n",
       "3  9001133  2015-04-07      US     22   B2  [7705842, 6226017, 4136359]   \n",
       "4  9153179  2015-10-06      US     11   B2  [7705842, 6226017, 4136359]   \n",
       "\n",
       "                                          similarity  \n",
       "0                             [0.057604003697633736]  \n",
       "1        [0.13514360785484314, 0.057604003697633736]  \n",
       "2         [0.1497403383255005, 0.057604003697633736]  \n",
       "3  [0.2110498994588852, 0.1497403383255005, 0.057...  \n",
       "4  [0.3195275664329529, 0.1497403383255005, 0.057...  "
      ]
     },
     "execution_count": 4,
     "metadata": {},
     "output_type": "execute_result"
    }
   ],
   "source": [
    "result.head()"
   ]
  },
  {
   "cell_type": "code",
   "execution_count": 5,
   "metadata": {},
   "outputs": [],
   "source": [
    "# Get Direct Lineage\n",
    "direct_lineage = get_direct_ancestor(result)"
   ]
  },
  {
   "cell_type": "code",
   "execution_count": 6,
   "metadata": {},
   "outputs": [
    {
     "data": {
      "text/html": [
       "<div>\n",
       "<style scoped>\n",
       "    .dataframe tbody tr th:only-of-type {\n",
       "        vertical-align: middle;\n",
       "    }\n",
       "\n",
       "    .dataframe tbody tr th {\n",
       "        vertical-align: top;\n",
       "    }\n",
       "\n",
       "    .dataframe thead th {\n",
       "        text-align: right;\n",
       "    }\n",
       "</style>\n",
       "<table border=\"1\" class=\"dataframe\">\n",
       "  <thead>\n",
       "    <tr style=\"text-align: right;\">\n",
       "      <th></th>\n",
       "      <th>id</th>\n",
       "      <th>lineage</th>\n",
       "      <th>similarity</th>\n",
       "      <th>hops</th>\n",
       "    </tr>\n",
       "  </thead>\n",
       "  <tbody>\n",
       "    <tr>\n",
       "      <th>0</th>\n",
       "      <td>6226017</td>\n",
       "      <td>4136359</td>\n",
       "      <td>0.057604</td>\n",
       "      <td>1</td>\n",
       "    </tr>\n",
       "    <tr>\n",
       "      <th>1</th>\n",
       "      <td>9940907</td>\n",
       "      <td>6226017</td>\n",
       "      <td>0.135144</td>\n",
       "      <td>2</td>\n",
       "    </tr>\n",
       "    <tr>\n",
       "      <th>2</th>\n",
       "      <td>7705842</td>\n",
       "      <td>6226017</td>\n",
       "      <td>0.149740</td>\n",
       "      <td>2</td>\n",
       "    </tr>\n",
       "    <tr>\n",
       "      <th>3</th>\n",
       "      <td>9001133</td>\n",
       "      <td>7705842</td>\n",
       "      <td>0.211050</td>\n",
       "      <td>3</td>\n",
       "    </tr>\n",
       "    <tr>\n",
       "      <th>4</th>\n",
       "      <td>9153179</td>\n",
       "      <td>7705842</td>\n",
       "      <td>0.319528</td>\n",
       "      <td>3</td>\n",
       "    </tr>\n",
       "  </tbody>\n",
       "</table>\n",
       "</div>"
      ],
      "text/plain": [
       "        id  lineage  similarity  hops\n",
       "0  6226017  4136359    0.057604     1\n",
       "1  9940907  6226017    0.135144     2\n",
       "2  7705842  6226017    0.149740     2\n",
       "3  9001133  7705842    0.211050     3\n",
       "4  9153179  7705842    0.319528     3"
      ]
     },
     "execution_count": 6,
     "metadata": {},
     "output_type": "execute_result"
    }
   ],
   "source": [
    "direct_lineage.head()"
   ]
  },
  {
   "cell_type": "code",
   "execution_count": 7,
   "metadata": {},
   "outputs": [
    {
     "data": {
      "text/plain": [
       "(18855, 4)"
      ]
     },
     "execution_count": 7,
     "metadata": {},
     "output_type": "execute_result"
    }
   ],
   "source": [
    "direct_lineage.shape"
   ]
  },
  {
   "cell_type": "code",
   "execution_count": 8,
   "metadata": {},
   "outputs": [],
   "source": [
    "direct_lineage = direct_lineage.drop_duplicates()"
   ]
  },
  {
   "cell_type": "code",
   "execution_count": 9,
   "metadata": {},
   "outputs": [
    {
     "data": {
      "text/plain": [
       "(7965, 4)"
      ]
     },
     "execution_count": 9,
     "metadata": {},
     "output_type": "execute_result"
    }
   ],
   "source": [
    "direct_lineage.shape"
   ]
  },
  {
   "cell_type": "markdown",
   "metadata": {},
   "source": [
    "Obtain All Inventors from the Built Citation Tree"
   ]
  },
  {
   "cell_type": "code",
   "execution_count": 10,
   "metadata": {},
   "outputs": [],
   "source": [
    "inventor_tree = conn.query_inventor_tree(root=df.id[0])"
   ]
  },
  {
   "cell_type": "code",
   "execution_count": 11,
   "metadata": {},
   "outputs": [
    {
     "data": {
      "text/html": [
       "<div>\n",
       "<style scoped>\n",
       "    .dataframe tbody tr th:only-of-type {\n",
       "        vertical-align: middle;\n",
       "    }\n",
       "\n",
       "    .dataframe tbody tr th {\n",
       "        vertical-align: top;\n",
       "    }\n",
       "\n",
       "    .dataframe thead th {\n",
       "        text-align: right;\n",
       "    }\n",
       "</style>\n",
       "<table border=\"1\" class=\"dataframe\">\n",
       "  <thead>\n",
       "    <tr style=\"text-align: right;\">\n",
       "      <th></th>\n",
       "      <th>patent</th>\n",
       "      <th>inventor</th>\n",
       "    </tr>\n",
       "  </thead>\n",
       "  <tbody>\n",
       "    <tr>\n",
       "      <th>0</th>\n",
       "      <td>10002407</td>\n",
       "      <td>[fl:q_ln:zhang-10, fl:m_ln:wollersheim-2, fl:n...</td>\n",
       "    </tr>\n",
       "    <tr>\n",
       "      <th>1</th>\n",
       "      <td>10006610</td>\n",
       "      <td>[fl:r_ln:cui-5, fl:j_ln:li-228, fl:x_ln:lin-78]</td>\n",
       "    </tr>\n",
       "    <tr>\n",
       "      <th>2</th>\n",
       "      <td>10007679</td>\n",
       "      <td>[fl:z_ln:guo-135, fl:z_ln:zhang-599]</td>\n",
       "    </tr>\n",
       "    <tr>\n",
       "      <th>3</th>\n",
       "      <td>10007687</td>\n",
       "      <td>[fl:t_ln:mastronardi-1, fl:h_ln:clement-1, fl:...</td>\n",
       "    </tr>\n",
       "    <tr>\n",
       "      <th>4</th>\n",
       "      <td>10007868</td>\n",
       "      <td>[fl:h_ln:jin-151, fl:z_ln:wang-256, fl:g_ln:mi...</td>\n",
       "    </tr>\n",
       "  </tbody>\n",
       "</table>\n",
       "</div>"
      ],
      "text/plain": [
       "     patent                                           inventor\n",
       "0  10002407  [fl:q_ln:zhang-10, fl:m_ln:wollersheim-2, fl:n...\n",
       "1  10006610    [fl:r_ln:cui-5, fl:j_ln:li-228, fl:x_ln:lin-78]\n",
       "2  10007679               [fl:z_ln:guo-135, fl:z_ln:zhang-599]\n",
       "3  10007687  [fl:t_ln:mastronardi-1, fl:h_ln:clement-1, fl:...\n",
       "4  10007868  [fl:h_ln:jin-151, fl:z_ln:wang-256, fl:g_ln:mi..."
      ]
     },
     "execution_count": 11,
     "metadata": {},
     "output_type": "execute_result"
    }
   ],
   "source": [
    "inventor_tree.head()"
   ]
  },
  {
   "cell_type": "markdown",
   "metadata": {},
   "source": [
    "Generate Interpatent Combination"
   ]
  },
  {
   "cell_type": "code",
   "execution_count": 12,
   "metadata": {},
   "outputs": [],
   "source": [
    "interpatent = interpatent_inventor_combination(direct_ancestor=direct_lineage, inventor_tree=inventor_tree)"
   ]
  },
  {
   "cell_type": "code",
   "execution_count": 13,
   "metadata": {},
   "outputs": [
    {
     "data": {
      "text/html": [
       "<div>\n",
       "<style scoped>\n",
       "    .dataframe tbody tr th:only-of-type {\n",
       "        vertical-align: middle;\n",
       "    }\n",
       "\n",
       "    .dataframe tbody tr th {\n",
       "        vertical-align: top;\n",
       "    }\n",
       "\n",
       "    .dataframe thead th {\n",
       "        text-align: right;\n",
       "    }\n",
       "</style>\n",
       "<table border=\"1\" class=\"dataframe\">\n",
       "  <thead>\n",
       "    <tr style=\"text-align: right;\">\n",
       "      <th></th>\n",
       "      <th>id</th>\n",
       "      <th>lineage</th>\n",
       "      <th>similarity</th>\n",
       "      <th>hops</th>\n",
       "      <th>combination</th>\n",
       "    </tr>\n",
       "  </thead>\n",
       "  <tbody>\n",
       "    <tr>\n",
       "      <th>0</th>\n",
       "      <td>6226017</td>\n",
       "      <td>4136359</td>\n",
       "      <td>0.057604</td>\n",
       "      <td>1</td>\n",
       "      <td>[(fl:a_ln:godfrey-5, fl:j_ln:goossen-4), (fl:a...</td>\n",
       "    </tr>\n",
       "    <tr>\n",
       "      <th>1</th>\n",
       "      <td>9940907</td>\n",
       "      <td>6226017</td>\n",
       "      <td>0.135144</td>\n",
       "      <td>2</td>\n",
       "      <td>[(fl:l_ln:blanco-3, fl:r_ln:fink-12), (fl:l_ln...</td>\n",
       "    </tr>\n",
       "    <tr>\n",
       "      <th>2</th>\n",
       "      <td>7705842</td>\n",
       "      <td>6226017</td>\n",
       "      <td>0.149740</td>\n",
       "      <td>2</td>\n",
       "      <td>[(fl:r_ln:panabaker-1, fl:j_ln:creasey-4), (fl...</td>\n",
       "    </tr>\n",
       "    <tr>\n",
       "      <th>3</th>\n",
       "      <td>9001133</td>\n",
       "      <td>7705842</td>\n",
       "      <td>0.211050</td>\n",
       "      <td>3</td>\n",
       "      <td>[(fl:p_ln:sacchetto-1, fl:p_ln:nambi-1), (fl:p...</td>\n",
       "    </tr>\n",
       "    <tr>\n",
       "      <th>4</th>\n",
       "      <td>9153179</td>\n",
       "      <td>7705842</td>\n",
       "      <td>0.319528</td>\n",
       "      <td>3</td>\n",
       "      <td>[(fl:p_ln:sacchetto-1, fl:d_ln:redman-5), (fl:...</td>\n",
       "    </tr>\n",
       "  </tbody>\n",
       "</table>\n",
       "</div>"
      ],
      "text/plain": [
       "        id  lineage  similarity  hops  \\\n",
       "0  6226017  4136359    0.057604     1   \n",
       "1  9940907  6226017    0.135144     2   \n",
       "2  7705842  6226017    0.149740     2   \n",
       "3  9001133  7705842    0.211050     3   \n",
       "4  9153179  7705842    0.319528     3   \n",
       "\n",
       "                                         combination  \n",
       "0  [(fl:a_ln:godfrey-5, fl:j_ln:goossen-4), (fl:a...  \n",
       "1  [(fl:l_ln:blanco-3, fl:r_ln:fink-12), (fl:l_ln...  \n",
       "2  [(fl:r_ln:panabaker-1, fl:j_ln:creasey-4), (fl...  \n",
       "3  [(fl:p_ln:sacchetto-1, fl:p_ln:nambi-1), (fl:p...  \n",
       "4  [(fl:p_ln:sacchetto-1, fl:d_ln:redman-5), (fl:...  "
      ]
     },
     "execution_count": 13,
     "metadata": {},
     "output_type": "execute_result"
    }
   ],
   "source": [
    "interpatent.head()"
   ]
  },
  {
   "cell_type": "markdown",
   "metadata": {},
   "source": [
    "### Calculation of Similarity\n",
    "This section assumes the embeddings for the inventors have been persisted in the files below as well as the mapping. <br>\n",
    "**Important Notes:**\n",
    "* **node2vec** uses biased random walks, re-running the algorithm would likely yield a different results. However, the results should be consistent\n",
    "* There exist inventors that **do not have relationships up to 3 hops**. In this case, there would **NOT be any embeddings for such nodes**, resulting a return of None by *similarity_score()*. Such cases are treated as 0"
   ]
  },
  {
   "cell_type": "code",
   "execution_count": 14,
   "metadata": {},
   "outputs": [],
   "source": [
    "from patent_neo4j.analysis import similarity_score, convert_np\n",
    "import json"
   ]
  },
  {
   "cell_type": "code",
   "execution_count": 15,
   "metadata": {},
   "outputs": [],
   "source": [
    "file_emb = \"./node2vec/emb/\" + df.name[0] + \".emb\"\n",
    "file_map = \"./node2vec/map/\" + df.name[0] + \".map\"\n",
    "node_emb = convert_np(file_emb)\n",
    "with open(file_map) as json_file:\n",
    "    coinventor_mapping = json.load(json_file)"
   ]
  },
  {
   "cell_type": "markdown",
   "metadata": {},
   "source": [
    "Calculating the **Average Combination Similarity**"
   ]
  },
  {
   "cell_type": "code",
   "execution_count": 16,
   "metadata": {},
   "outputs": [],
   "source": [
    "inventor_sim = []\n",
    "\n",
    "for index,row in interpatent.iterrows():\n",
    "    sim_score = 0\n",
    "    length = len(row.combination)\n",
    "    \n",
    "    for pair in row.combination:\n",
    "        curr_score = similarity_score(coinventor_mapping, node_emb, pair[0], pair[1])\n",
    "        if curr_score is not None: # Effectively making no connections to be 0\n",
    "            sim_score = sim_score + curr_score\n",
    "        \n",
    "    if length != 0:\n",
    "        inventor_sim.append(sim_score/length)\n",
    "    else:\n",
    "        inventor_sim.append(0)"
   ]
  },
  {
   "cell_type": "code",
   "execution_count": 17,
   "metadata": {},
   "outputs": [],
   "source": [
    "interpatent = interpatent.assign(inventor_sim=inventor_sim)"
   ]
  },
  {
   "cell_type": "markdown",
   "metadata": {},
   "source": [
    "Change Combinations to the Number of Combinations "
   ]
  },
  {
   "cell_type": "code",
   "execution_count": 18,
   "metadata": {},
   "outputs": [],
   "source": [
    "interpatent['combination'] = interpatent['combination'].apply(lambda x: len(x))"
   ]
  },
  {
   "cell_type": "code",
   "execution_count": 19,
   "metadata": {},
   "outputs": [
    {
     "data": {
      "text/html": [
       "<div>\n",
       "<style scoped>\n",
       "    .dataframe tbody tr th:only-of-type {\n",
       "        vertical-align: middle;\n",
       "    }\n",
       "\n",
       "    .dataframe tbody tr th {\n",
       "        vertical-align: top;\n",
       "    }\n",
       "\n",
       "    .dataframe thead th {\n",
       "        text-align: right;\n",
       "    }\n",
       "</style>\n",
       "<table border=\"1\" class=\"dataframe\">\n",
       "  <thead>\n",
       "    <tr style=\"text-align: right;\">\n",
       "      <th></th>\n",
       "      <th>id</th>\n",
       "      <th>lineage</th>\n",
       "      <th>similarity</th>\n",
       "      <th>hops</th>\n",
       "      <th>combination</th>\n",
       "      <th>inventor_sim</th>\n",
       "    </tr>\n",
       "  </thead>\n",
       "  <tbody>\n",
       "    <tr>\n",
       "      <th>0</th>\n",
       "      <td>6226017</td>\n",
       "      <td>4136359</td>\n",
       "      <td>0.057604</td>\n",
       "      <td>1</td>\n",
       "      <td>3</td>\n",
       "      <td>0.332927</td>\n",
       "    </tr>\n",
       "    <tr>\n",
       "      <th>1</th>\n",
       "      <td>9940907</td>\n",
       "      <td>6226017</td>\n",
       "      <td>0.135144</td>\n",
       "      <td>2</td>\n",
       "      <td>21</td>\n",
       "      <td>0.788112</td>\n",
       "    </tr>\n",
       "    <tr>\n",
       "      <th>2</th>\n",
       "      <td>7705842</td>\n",
       "      <td>6226017</td>\n",
       "      <td>0.149740</td>\n",
       "      <td>2</td>\n",
       "      <td>10</td>\n",
       "      <td>0.737528</td>\n",
       "    </tr>\n",
       "    <tr>\n",
       "      <th>3</th>\n",
       "      <td>9001133</td>\n",
       "      <td>7705842</td>\n",
       "      <td>0.211050</td>\n",
       "      <td>3</td>\n",
       "      <td>15</td>\n",
       "      <td>0.789420</td>\n",
       "    </tr>\n",
       "    <tr>\n",
       "      <th>4</th>\n",
       "      <td>9153179</td>\n",
       "      <td>7705842</td>\n",
       "      <td>0.319528</td>\n",
       "      <td>3</td>\n",
       "      <td>15</td>\n",
       "      <td>0.785134</td>\n",
       "    </tr>\n",
       "  </tbody>\n",
       "</table>\n",
       "</div>"
      ],
      "text/plain": [
       "        id  lineage  similarity  hops  combination  inventor_sim\n",
       "0  6226017  4136359    0.057604     1            3      0.332927\n",
       "1  9940907  6226017    0.135144     2           21      0.788112\n",
       "2  7705842  6226017    0.149740     2           10      0.737528\n",
       "3  9001133  7705842    0.211050     3           15      0.789420\n",
       "4  9153179  7705842    0.319528     3           15      0.785134"
      ]
     },
     "execution_count": 19,
     "metadata": {},
     "output_type": "execute_result"
    }
   ],
   "source": [
    "interpatent.head()"
   ]
  },
  {
   "cell_type": "code",
   "execution_count": 20,
   "metadata": {},
   "outputs": [],
   "source": [
    "interpatent.to_csv(\"interpatent.csv\")"
   ]
  },
  {
   "cell_type": "markdown",
   "metadata": {},
   "source": [
    "## Intra-Patent Inventor Similarity"
   ]
  },
  {
   "cell_type": "code",
   "execution_count": 21,
   "metadata": {},
   "outputs": [],
   "source": [
    "inventor_tree = conn.query_inventor_tree(root=df.id[0])"
   ]
  },
  {
   "cell_type": "code",
   "execution_count": 22,
   "metadata": {},
   "outputs": [],
   "source": [
    "inventor_tree = inventor_tree.rename({'patent':'id'}, axis=1)"
   ]
  },
  {
   "cell_type": "code",
   "execution_count": 23,
   "metadata": {},
   "outputs": [
    {
     "data": {
      "text/html": [
       "<div>\n",
       "<style scoped>\n",
       "    .dataframe tbody tr th:only-of-type {\n",
       "        vertical-align: middle;\n",
       "    }\n",
       "\n",
       "    .dataframe tbody tr th {\n",
       "        vertical-align: top;\n",
       "    }\n",
       "\n",
       "    .dataframe thead th {\n",
       "        text-align: right;\n",
       "    }\n",
       "</style>\n",
       "<table border=\"1\" class=\"dataframe\">\n",
       "  <thead>\n",
       "    <tr style=\"text-align: right;\">\n",
       "      <th></th>\n",
       "      <th>id</th>\n",
       "      <th>inventor</th>\n",
       "    </tr>\n",
       "  </thead>\n",
       "  <tbody>\n",
       "    <tr>\n",
       "      <th>0</th>\n",
       "      <td>10002407</td>\n",
       "      <td>[fl:q_ln:zhang-10, fl:m_ln:wollersheim-2, fl:n...</td>\n",
       "    </tr>\n",
       "    <tr>\n",
       "      <th>1</th>\n",
       "      <td>10006610</td>\n",
       "      <td>[fl:r_ln:cui-5, fl:j_ln:li-228, fl:x_ln:lin-78]</td>\n",
       "    </tr>\n",
       "    <tr>\n",
       "      <th>2</th>\n",
       "      <td>10007679</td>\n",
       "      <td>[fl:z_ln:guo-135, fl:z_ln:zhang-599]</td>\n",
       "    </tr>\n",
       "    <tr>\n",
       "      <th>3</th>\n",
       "      <td>10007687</td>\n",
       "      <td>[fl:t_ln:mastronardi-1, fl:h_ln:clement-1, fl:...</td>\n",
       "    </tr>\n",
       "    <tr>\n",
       "      <th>4</th>\n",
       "      <td>10007868</td>\n",
       "      <td>[fl:h_ln:jin-151, fl:z_ln:wang-256, fl:g_ln:mi...</td>\n",
       "    </tr>\n",
       "  </tbody>\n",
       "</table>\n",
       "</div>"
      ],
      "text/plain": [
       "         id                                           inventor\n",
       "0  10002407  [fl:q_ln:zhang-10, fl:m_ln:wollersheim-2, fl:n...\n",
       "1  10006610    [fl:r_ln:cui-5, fl:j_ln:li-228, fl:x_ln:lin-78]\n",
       "2  10007679               [fl:z_ln:guo-135, fl:z_ln:zhang-599]\n",
       "3  10007687  [fl:t_ln:mastronardi-1, fl:h_ln:clement-1, fl:...\n",
       "4  10007868  [fl:h_ln:jin-151, fl:z_ln:wang-256, fl:g_ln:mi..."
      ]
     },
     "execution_count": 23,
     "metadata": {},
     "output_type": "execute_result"
    }
   ],
   "source": [
    "inventor_tree.head()"
   ]
  },
  {
   "cell_type": "code",
   "execution_count": 24,
   "metadata": {},
   "outputs": [],
   "source": [
    "result = conn.query_citation_tree(root=df.id[0])\n",
    "direct_lineage = get_direct_ancestor(result)"
   ]
  },
  {
   "cell_type": "code",
   "execution_count": 25,
   "metadata": {},
   "outputs": [],
   "source": [
    "direct_lineage = direct_lineage.drop_duplicates()"
   ]
  },
  {
   "cell_type": "code",
   "execution_count": 26,
   "metadata": {},
   "outputs": [
    {
     "data": {
      "text/html": [
       "<div>\n",
       "<style scoped>\n",
       "    .dataframe tbody tr th:only-of-type {\n",
       "        vertical-align: middle;\n",
       "    }\n",
       "\n",
       "    .dataframe tbody tr th {\n",
       "        vertical-align: top;\n",
       "    }\n",
       "\n",
       "    .dataframe thead th {\n",
       "        text-align: right;\n",
       "    }\n",
       "</style>\n",
       "<table border=\"1\" class=\"dataframe\">\n",
       "  <thead>\n",
       "    <tr style=\"text-align: right;\">\n",
       "      <th></th>\n",
       "      <th>id</th>\n",
       "      <th>lineage</th>\n",
       "      <th>similarity</th>\n",
       "      <th>hops</th>\n",
       "    </tr>\n",
       "  </thead>\n",
       "  <tbody>\n",
       "    <tr>\n",
       "      <th>0</th>\n",
       "      <td>6226017</td>\n",
       "      <td>4136359</td>\n",
       "      <td>0.057604</td>\n",
       "      <td>1</td>\n",
       "    </tr>\n",
       "    <tr>\n",
       "      <th>1</th>\n",
       "      <td>9940907</td>\n",
       "      <td>6226017</td>\n",
       "      <td>0.135144</td>\n",
       "      <td>2</td>\n",
       "    </tr>\n",
       "    <tr>\n",
       "      <th>2</th>\n",
       "      <td>7705842</td>\n",
       "      <td>6226017</td>\n",
       "      <td>0.149740</td>\n",
       "      <td>2</td>\n",
       "    </tr>\n",
       "    <tr>\n",
       "      <th>3</th>\n",
       "      <td>9001133</td>\n",
       "      <td>7705842</td>\n",
       "      <td>0.211050</td>\n",
       "      <td>3</td>\n",
       "    </tr>\n",
       "    <tr>\n",
       "      <th>4</th>\n",
       "      <td>9153179</td>\n",
       "      <td>7705842</td>\n",
       "      <td>0.319528</td>\n",
       "      <td>3</td>\n",
       "    </tr>\n",
       "  </tbody>\n",
       "</table>\n",
       "</div>"
      ],
      "text/plain": [
       "        id  lineage  similarity  hops\n",
       "0  6226017  4136359    0.057604     1\n",
       "1  9940907  6226017    0.135144     2\n",
       "2  7705842  6226017    0.149740     2\n",
       "3  9001133  7705842    0.211050     3\n",
       "4  9153179  7705842    0.319528     3"
      ]
     },
     "execution_count": 26,
     "metadata": {},
     "output_type": "execute_result"
    }
   ],
   "source": [
    "direct_lineage.head()"
   ]
  },
  {
   "cell_type": "code",
   "execution_count": 27,
   "metadata": {},
   "outputs": [],
   "source": [
    "intrapatent = pd.merge(inventor_tree, direct_lineage, on='id', how='left')"
   ]
  },
  {
   "cell_type": "code",
   "execution_count": 28,
   "metadata": {},
   "outputs": [],
   "source": [
    "intrapatent['combination'] = intrapatent['inventor'].apply(lambda x: [i for i in itertools.combinations(x, 2)])"
   ]
  },
  {
   "cell_type": "code",
   "execution_count": 29,
   "metadata": {},
   "outputs": [
    {
     "data": {
      "text/html": [
       "<div>\n",
       "<style scoped>\n",
       "    .dataframe tbody tr th:only-of-type {\n",
       "        vertical-align: middle;\n",
       "    }\n",
       "\n",
       "    .dataframe tbody tr th {\n",
       "        vertical-align: top;\n",
       "    }\n",
       "\n",
       "    .dataframe thead th {\n",
       "        text-align: right;\n",
       "    }\n",
       "</style>\n",
       "<table border=\"1\" class=\"dataframe\">\n",
       "  <thead>\n",
       "    <tr style=\"text-align: right;\">\n",
       "      <th></th>\n",
       "      <th>id</th>\n",
       "      <th>inventor</th>\n",
       "      <th>lineage</th>\n",
       "      <th>similarity</th>\n",
       "      <th>hops</th>\n",
       "      <th>combination</th>\n",
       "    </tr>\n",
       "  </thead>\n",
       "  <tbody>\n",
       "    <tr>\n",
       "      <th>0</th>\n",
       "      <td>10002407</td>\n",
       "      <td>[fl:q_ln:zhang-10, fl:m_ln:wollersheim-2, fl:n...</td>\n",
       "      <td>6978050</td>\n",
       "      <td>0.185457</td>\n",
       "      <td>3.0</td>\n",
       "      <td>[(fl:q_ln:zhang-10, fl:m_ln:wollersheim-2), (f...</td>\n",
       "    </tr>\n",
       "    <tr>\n",
       "      <th>1</th>\n",
       "      <td>10006610</td>\n",
       "      <td>[fl:r_ln:cui-5, fl:j_ln:li-228, fl:x_ln:lin-78]</td>\n",
       "      <td>7460179</td>\n",
       "      <td>0.119324</td>\n",
       "      <td>3.0</td>\n",
       "      <td>[(fl:r_ln:cui-5, fl:j_ln:li-228), (fl:r_ln:cui...</td>\n",
       "    </tr>\n",
       "    <tr>\n",
       "      <th>2</th>\n",
       "      <td>10007679</td>\n",
       "      <td>[fl:z_ln:guo-135, fl:z_ln:zhang-599]</td>\n",
       "      <td>8463035</td>\n",
       "      <td>0.032218</td>\n",
       "      <td>3.0</td>\n",
       "      <td>[(fl:z_ln:guo-135, fl:z_ln:zhang-599)]</td>\n",
       "    </tr>\n",
       "    <tr>\n",
       "      <th>3</th>\n",
       "      <td>10007687</td>\n",
       "      <td>[fl:t_ln:mastronardi-1, fl:h_ln:clement-1, fl:...</td>\n",
       "      <td>6920614</td>\n",
       "      <td>0.258572</td>\n",
       "      <td>3.0</td>\n",
       "      <td>[(fl:t_ln:mastronardi-1, fl:h_ln:clement-1), (...</td>\n",
       "    </tr>\n",
       "    <tr>\n",
       "      <th>4</th>\n",
       "      <td>10007868</td>\n",
       "      <td>[fl:h_ln:jin-151, fl:z_ln:wang-256, fl:g_ln:mi...</td>\n",
       "      <td>9047511</td>\n",
       "      <td>0.195010</td>\n",
       "      <td>3.0</td>\n",
       "      <td>[(fl:h_ln:jin-151, fl:z_ln:wang-256), (fl:h_ln...</td>\n",
       "    </tr>\n",
       "  </tbody>\n",
       "</table>\n",
       "</div>"
      ],
      "text/plain": [
       "         id                                           inventor  lineage  \\\n",
       "0  10002407  [fl:q_ln:zhang-10, fl:m_ln:wollersheim-2, fl:n...  6978050   \n",
       "1  10006610    [fl:r_ln:cui-5, fl:j_ln:li-228, fl:x_ln:lin-78]  7460179   \n",
       "2  10007679               [fl:z_ln:guo-135, fl:z_ln:zhang-599]  8463035   \n",
       "3  10007687  [fl:t_ln:mastronardi-1, fl:h_ln:clement-1, fl:...  6920614   \n",
       "4  10007868  [fl:h_ln:jin-151, fl:z_ln:wang-256, fl:g_ln:mi...  9047511   \n",
       "\n",
       "   similarity  hops                                        combination  \n",
       "0    0.185457   3.0  [(fl:q_ln:zhang-10, fl:m_ln:wollersheim-2), (f...  \n",
       "1    0.119324   3.0  [(fl:r_ln:cui-5, fl:j_ln:li-228), (fl:r_ln:cui...  \n",
       "2    0.032218   3.0             [(fl:z_ln:guo-135, fl:z_ln:zhang-599)]  \n",
       "3    0.258572   3.0  [(fl:t_ln:mastronardi-1, fl:h_ln:clement-1), (...  \n",
       "4    0.195010   3.0  [(fl:h_ln:jin-151, fl:z_ln:wang-256), (fl:h_ln...  "
      ]
     },
     "execution_count": 29,
     "metadata": {},
     "output_type": "execute_result"
    }
   ],
   "source": [
    "intrapatent.head()"
   ]
  },
  {
   "cell_type": "code",
   "execution_count": 30,
   "metadata": {},
   "outputs": [],
   "source": [
    "intra_sim = []\n",
    "for index,row in intrapatent.iterrows():\n",
    "    sim_score = 0\n",
    "    if len(row.combination) == 0:\n",
    "        sim_score = 1\n",
    "    else:\n",
    "        for p in row.combination:\n",
    "            sim_score = sim_score + similarity_score(coinventor_mapping, node_emb, p[0], p[1])\n",
    "        sim_score = sim_score / len(row.combination)\n",
    "        \n",
    "    intra_sim.append(sim_score)\n",
    "intrapatent['intra_sim'] = intra_sim "
   ]
  },
  {
   "cell_type": "code",
   "execution_count": 31,
   "metadata": {},
   "outputs": [
    {
     "data": {
      "text/html": [
       "<div>\n",
       "<style scoped>\n",
       "    .dataframe tbody tr th:only-of-type {\n",
       "        vertical-align: middle;\n",
       "    }\n",
       "\n",
       "    .dataframe tbody tr th {\n",
       "        vertical-align: top;\n",
       "    }\n",
       "\n",
       "    .dataframe thead th {\n",
       "        text-align: right;\n",
       "    }\n",
       "</style>\n",
       "<table border=\"1\" class=\"dataframe\">\n",
       "  <thead>\n",
       "    <tr style=\"text-align: right;\">\n",
       "      <th></th>\n",
       "      <th>id</th>\n",
       "      <th>inventor</th>\n",
       "      <th>lineage</th>\n",
       "      <th>similarity</th>\n",
       "      <th>hops</th>\n",
       "      <th>combination</th>\n",
       "      <th>intra_sim</th>\n",
       "    </tr>\n",
       "  </thead>\n",
       "  <tbody>\n",
       "    <tr>\n",
       "      <th>0</th>\n",
       "      <td>10002407</td>\n",
       "      <td>[fl:q_ln:zhang-10, fl:m_ln:wollersheim-2, fl:n...</td>\n",
       "      <td>6978050</td>\n",
       "      <td>0.185457</td>\n",
       "      <td>3.0</td>\n",
       "      <td>[(fl:q_ln:zhang-10, fl:m_ln:wollersheim-2), (f...</td>\n",
       "      <td>0.999380</td>\n",
       "    </tr>\n",
       "    <tr>\n",
       "      <th>1</th>\n",
       "      <td>10006610</td>\n",
       "      <td>[fl:r_ln:cui-5, fl:j_ln:li-228, fl:x_ln:lin-78]</td>\n",
       "      <td>7460179</td>\n",
       "      <td>0.119324</td>\n",
       "      <td>3.0</td>\n",
       "      <td>[(fl:r_ln:cui-5, fl:j_ln:li-228), (fl:r_ln:cui...</td>\n",
       "      <td>0.999303</td>\n",
       "    </tr>\n",
       "    <tr>\n",
       "      <th>2</th>\n",
       "      <td>10007679</td>\n",
       "      <td>[fl:z_ln:guo-135, fl:z_ln:zhang-599]</td>\n",
       "      <td>8463035</td>\n",
       "      <td>0.032218</td>\n",
       "      <td>3.0</td>\n",
       "      <td>[(fl:z_ln:guo-135, fl:z_ln:zhang-599)]</td>\n",
       "      <td>0.999001</td>\n",
       "    </tr>\n",
       "    <tr>\n",
       "      <th>3</th>\n",
       "      <td>10007687</td>\n",
       "      <td>[fl:t_ln:mastronardi-1, fl:h_ln:clement-1, fl:...</td>\n",
       "      <td>6920614</td>\n",
       "      <td>0.258572</td>\n",
       "      <td>3.0</td>\n",
       "      <td>[(fl:t_ln:mastronardi-1, fl:h_ln:clement-1), (...</td>\n",
       "      <td>0.997440</td>\n",
       "    </tr>\n",
       "    <tr>\n",
       "      <th>4</th>\n",
       "      <td>10007868</td>\n",
       "      <td>[fl:h_ln:jin-151, fl:z_ln:wang-256, fl:g_ln:mi...</td>\n",
       "      <td>9047511</td>\n",
       "      <td>0.195010</td>\n",
       "      <td>3.0</td>\n",
       "      <td>[(fl:h_ln:jin-151, fl:z_ln:wang-256), (fl:h_ln...</td>\n",
       "      <td>0.998527</td>\n",
       "    </tr>\n",
       "  </tbody>\n",
       "</table>\n",
       "</div>"
      ],
      "text/plain": [
       "         id                                           inventor  lineage  \\\n",
       "0  10002407  [fl:q_ln:zhang-10, fl:m_ln:wollersheim-2, fl:n...  6978050   \n",
       "1  10006610    [fl:r_ln:cui-5, fl:j_ln:li-228, fl:x_ln:lin-78]  7460179   \n",
       "2  10007679               [fl:z_ln:guo-135, fl:z_ln:zhang-599]  8463035   \n",
       "3  10007687  [fl:t_ln:mastronardi-1, fl:h_ln:clement-1, fl:...  6920614   \n",
       "4  10007868  [fl:h_ln:jin-151, fl:z_ln:wang-256, fl:g_ln:mi...  9047511   \n",
       "\n",
       "   similarity  hops                                        combination  \\\n",
       "0    0.185457   3.0  [(fl:q_ln:zhang-10, fl:m_ln:wollersheim-2), (f...   \n",
       "1    0.119324   3.0  [(fl:r_ln:cui-5, fl:j_ln:li-228), (fl:r_ln:cui...   \n",
       "2    0.032218   3.0             [(fl:z_ln:guo-135, fl:z_ln:zhang-599)]   \n",
       "3    0.258572   3.0  [(fl:t_ln:mastronardi-1, fl:h_ln:clement-1), (...   \n",
       "4    0.195010   3.0  [(fl:h_ln:jin-151, fl:z_ln:wang-256), (fl:h_ln...   \n",
       "\n",
       "   intra_sim  \n",
       "0   0.999380  \n",
       "1   0.999303  \n",
       "2   0.999001  \n",
       "3   0.997440  \n",
       "4   0.998527  "
      ]
     },
     "execution_count": 31,
     "metadata": {},
     "output_type": "execute_result"
    }
   ],
   "source": [
    "intrapatent.head()"
   ]
  },
  {
   "cell_type": "code",
   "execution_count": 32,
   "metadata": {},
   "outputs": [],
   "source": [
    "intrapatent.drop(columns=['inventor','combination']).to_csv(\"intrapatent.csv\")"
   ]
  }
 ],
 "metadata": {
  "kernelspec": {
   "display_name": "Python 3",
   "language": "python",
   "name": "python3"
  },
  "language_info": {
   "codemirror_mode": {
    "name": "ipython",
    "version": 3
   },
   "file_extension": ".py",
   "mimetype": "text/x-python",
   "name": "python",
   "nbconvert_exporter": "python",
   "pygments_lexer": "ipython3",
   "version": "3.8.5"
  }
 },
 "nbformat": 4,
 "nbformat_minor": 4
}
